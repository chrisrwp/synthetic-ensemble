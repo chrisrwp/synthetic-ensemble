{
 "cells": [
  {
   "cell_type": "markdown",
   "id": "9e8ef389-6402-409d-8b19-70d6ab57287d",
   "metadata": {},
   "source": [
    "# Significance Testing\n",
    "\n",
    "**Not following Santer et al. (2008)**"
   ]
  },
  {
   "cell_type": "code",
   "execution_count": 1,
   "id": "ba332cc5-8928-4508-9446-6acad0cfa69a",
   "metadata": {},
   "outputs": [],
   "source": [
    "import matplotlib.pyplot as plt\n",
    "from matplotlib.patches import Patch\n",
    "import matplotlib.patheffects as pe\n",
    "import matplotlib as mpl\n",
    "import xarray as xr\n",
    "import numpy as np\n",
    "import math as m\n",
    "import scipy.stats as stats"
   ]
  },
  {
   "cell_type": "code",
   "execution_count": 2,
   "id": "130e8ecf-be5f-4c55-9076-d0f294680e1e",
   "metadata": {},
   "outputs": [],
   "source": [
    "data_path = '/glade/scratch/cwpowell/Synthetic_ensemble/'\n",
    "\n",
    "month_names = ['January', 'February', 'March', 'April', 'May', 'June', 'July', \n",
    "               'August', 'September', 'October', 'November', 'December']\n",
    "\n",
    "month_names_short = ['Jan', 'Feb', 'Mar', 'Apr', 'May', 'Jun', 'Jul', 'Aug', 'Sep', 'Oct', 'Nov', 'Dec']\n",
    "\n",
    "model_names       = ['CanESM2', 'CESM1', 'CSIRO_MK36', 'GFDL_CM3', 'GFDL_ESM2M', 'MPI_ESM1'] #for loading areas\n",
    "model_print_names = ['CanESM2', 'CESM1', 'CSIRO MK36', 'GFDL CM3', 'GFDL ESM2M', 'MPI ESM1'] #for printing on graphs\n",
    "\n",
    "member_numbers = [50, 40, 30, 20, 30, 100]\n",
    "\n",
    "        # CanESM2, CESM1, CSIRO MK36, GFDL CM3, GFDL ESM2M, MPI ESM2\n",
    "colors = ['m',     'b',   'g',        'orange',  'k',        'tab:olive' ]\n",
    "obs_colors = ['#1f77b4', '#ff7f0e', '#2ca02c', '#d62728', '#9467bd', '#8c564b']"
   ]
  },
  {
   "cell_type": "code",
   "execution_count": 213,
   "id": "e0bcc481-556e-44bb-a592-de0a2f315e28",
   "metadata": {},
   "outputs": [],
   "source": [
    "#load raw SIA data\n",
    "#models\n",
    "SIA = xr.open_dataset(data_path+'SIA/SIA_SIE_SIV/CLIVAR_SIA_1850_2100_RCP85.nc')\n",
    "\n",
    "#observations\n",
    "CDR  = xr.open_dataset(data_path+'Raw_data/observations/NSIDC_CDR_v4/SIA_SIE_CDR_BT_NT_79-20_filled.nc')\n",
    "HadISST1 = xr.open_dataset(data_path+'Raw_data/observations/HadISST/HadISST1_SIA_SIE_79-20_filled.nc')\n",
    "\n",
    "#load resampling statistics\n",
    "sigma_mem_individual = xr.open_dataset(data_path+'SIA/SIA_resampled/Sigma_mem_individual_10000.nc')\n",
    "sigma_obs_individual = xr.open_dataset(data_path+'SIA/SIA_resampled/Sigma_obs_individual_10000.nc')\n",
    "\n",
    "mu_mem_individual = xr.open_dataset(data_path+'SIA/SIA_resampled/Mu_mem_individual_10000.nc')\n",
    "mu_obs_individual = xr.open_dataset(data_path+'SIA/SIA_resampled/Mu_obs_individual_10000.nc')"
   ]
  },
  {
   "cell_type": "markdown",
   "id": "f910b343-502e-450d-90e5-b7646b0f51f3",
   "metadata": {},
   "source": [
    "## Simple t-tests"
   ]
  },
  {
   "cell_type": "code",
   "execution_count": 5,
   "id": "141af678-7990-4b5e-b5c8-d080c8e288de",
   "metadata": {},
   "outputs": [],
   "source": [
    "p_vals = []\n",
    "for obs_data in ['CDR','NT','BT','HadISST1']:\n",
    "    \n",
    "    p_val_obs = []\n",
    "    for model_i, model_name in enumerate(model_names):\n",
    "        \n",
    "        p_val_obs_model = []\n",
    "        for month_ in np.arange(1,13):\n",
    "            if model_name == 'MPI_ESM1': #MPI has the full 100 members so do not sel on member dimension\n",
    "                model_sigmas = sigma_mem_individual[model_name].sel(month=month_)\n",
    "            else:\n",
    "                model_sigmas = sigma_mem_individual[model_name].sel(month=month_).sel(member=slice('1',str(member_numbers[model_i])))\n",
    "                \n",
    "            t_stat, p = stats.ttest_1samp(model_sigmas, sigma_obs_individual[obs_data].sel(month=month_))\n",
    "                                          \n",
    "            p_val_obs_model.append(p)\n",
    "        p_val_obs.append(p_val_obs_model)\n",
    "    p_vals.append(p_val_obs)\n",
    "    \n",
    "p_vals_xr = xr.DataArray(data=p_vals, coords={'obs_dataset':['CDR','NT','BT','HadISST1'], 'model':model_names,'month':np.arange(1,13)}, dims=['obs_dataset','model','month'])\n",
    "\n",
    "p_vals_sig = p_vals_xr.where(p_vals_xr>0.05,0)\n",
    "p_vals_sig = p_vals_sig.where(p_vals_sig<=0.05,1)"
   ]
  },
  {
   "cell_type": "code",
   "execution_count": 17,
   "id": "37e5795c-e75a-4995-86fd-66611b693e16",
   "metadata": {},
   "outputs": [],
   "source": [
    "obs_datasets = ['CDR','NT','BT','HadISST1']\n",
    "min_list = []\n",
    "max_list = []\n",
    "\n",
    "for month_ in np.arange(1,13):\n",
    "    CDR_temp = sigma_obs_individual['CDR'].sel(month=month_).values\n",
    "    NT_temp = sigma_obs_individual['NT'].sel(month=month_).values\n",
    "    BT_temp = sigma_obs_individual['BT'].sel(month=month_).values\n",
    "    HadISST1_temp = sigma_obs_individual['HadISST1'].sel(month=month_).values\n",
    "    \n",
    "    month_array = [CDR_temp, NT_temp, BT_temp, HadISST1_temp]\n",
    "    min_list.append(np.argmin(month_array))\n",
    "    max_list.append(np.argmax(month_array))"
   ]
  },
  {
   "cell_type": "code",
   "execution_count": 22,
   "id": "3e2bc741-4740-4766-9f2c-3babaa016b91",
   "metadata": {},
   "outputs": [],
   "source": [
    "#minimum and maximum obs p_vals\n",
    "p_vals_min = []\n",
    "p_vals_max = []\n",
    "for model_i, model_name in enumerate(model_names):\n",
    "\n",
    "    p_val_model_min = []\n",
    "    p_val_model_max = []\n",
    "    for month_ in np.arange(1,13):\n",
    "        if model_name == 'MPI_ESM1': #MPI has the full 100 members so do not sel on member dimension\n",
    "            model_sigmas = sigma_mem_individual[model_name].sel(month=month_)\n",
    "        else:\n",
    "            model_sigmas = sigma_mem_individual[model_name].sel(month=month_).sel(member=slice('1',str(member_numbers[model_i])))\n",
    "\n",
    "        #find the observational dataset with the minimum and maximum sigma_obs\n",
    "        min_month = obs_datasets[min_list[month_-1]]\n",
    "        max_month = obs_datasets[max_list[month_-1]]    \n",
    "        \n",
    "        #run the t-test\n",
    "        t_stat_min, p_min = stats.ttest_1samp(model_sigmas, sigma_obs_individual[min_month].sel(month=month_))\n",
    "        t_stat_max, p_max = stats.ttest_1samp(model_sigmas, sigma_obs_individual[max_month].sel(month=month_))\n",
    "\n",
    "        p_val_model_min.append(p_min)\n",
    "        p_val_model_max.append(p_max)\n",
    "        \n",
    "    p_vals_min.append(p_val_model_min)\n",
    "    p_vals_max.append(p_val_model_max)\n",
    "\n",
    "p_vals_min_xr = xr.DataArray(data=p_vals_min, coords={'model':model_names,'month':np.arange(1,13)}, dims=['model','month'])\n",
    "p_vals_max_xr = xr.DataArray(data=p_vals_max, coords={'model':model_names,'month':np.arange(1,13)}, dims=['model','month'])"
   ]
  },
  {
   "cell_type": "code",
   "execution_count": 68,
   "id": "70a4d3a4-820d-465a-8976-0e3710bba3fd",
   "metadata": {},
   "outputs": [],
   "source": [
    "#make an xarray dataarray of higher or lower sigma_obs than bar_sigma_mem - binary -1 or 1\n",
    "higher_lower = sigma_mem_individual.mean('member') - sigma_obs_individual.drop('SII').drop('Merged').to_array()\n",
    "higher_lower = higher_lower.rename({'variable':'obs_dataset'})\n",
    "higher_lower = higher_lower.where(higher_lower>0,-1)\n",
    "higher_lower = higher_lower.where(higher_lower==-1,1)"
   ]
  },
  {
   "cell_type": "code",
   "execution_count": 72,
   "id": "1b255b4e-e0e8-4745-85d8-2b0380cc64c1",
   "metadata": {},
   "outputs": [],
   "source": [
    "min_obs_diff = []\n",
    "max_obs_diff = []\n",
    "for month_ in np.arange(1,13):\n",
    "   \n",
    "    min_obs_diff_model = []\n",
    "    max_obs_diff_model = []\n",
    "    for model_name in model_names:\n",
    "        min_obs_diff_model.append(higher_lower[model_name].sel(obs_dataset=obs_datasets[min_list[month_-1]]).sel(month=month_))\n",
    "        max_obs_diff_model.append(higher_lower[model_name].sel(obs_dataset=obs_datasets[max_list[month_-1]]).sel(month=month_))\n",
    "        \n",
    "    min_obs_diff.append(xr.concat((min_obs_diff_model),dim='model'))\n",
    "    max_obs_diff.append(xr.concat((max_obs_diff_model),dim='model'))\n",
    "    \n",
    "min_obs_diff_xr = xr.concat((min_obs_diff),dim='month')\n",
    "min_obs_diff_xr['month'] = np.arange(1,13)\n",
    "min_obs_diff_xr['model'] = model_names\n",
    "\n",
    "max_obs_diff_xr = xr.concat((max_obs_diff),dim='month')\n",
    "max_obs_diff_xr['month'] = np.arange(1,13)\n",
    "max_obs_diff_xr['model'] = model_names"
   ]
  },
  {
   "cell_type": "code",
   "execution_count": 5,
   "id": "4c867f30-fdb0-485b-89cf-c39b5398683d",
   "metadata": {},
   "outputs": [],
   "source": [
    "cmap = mpl.colors.LinearSegmentedColormap.from_list(\"\", [(0.1, 0.1, 0.8), (0.6, 0.6, 0.9),\"1\",(0.9, 0.6, 0.6), (0.8, 0.1, 0.1)])\n",
    "fig = plt.figure(figsize=[4.7,5.5]) \n",
    "\n",
    "plt.pcolor(min_obs_diff_xr.where(p_vals_min_xr<0.05,0).reindex(month=list(reversed(min_obs_diff_xr.month))), cmap=cmap, edgecolor='0.5', lw=2, vmin=-1, vmax=1)\n",
    "plt.xticks(np.arange(0.5, 5.6, 1), labels=model_print_names, fontsize=14, rotation=90);\n",
    "plt.yticks(np.arange(0.5, 11.6, 1), labels=month_names_short[::-1], fontsize=14);\n",
    "plt.title(r'Minimum $\\sigma_{obs}$', fontsize=16);"
   ]
  },
  {
   "cell_type": "code",
   "execution_count": 7,
   "id": "572fa82c-8f24-4af5-af39-3724a1e7f49e",
   "metadata": {},
   "outputs": [],
   "source": [
    "cmap = mpl.colors.LinearSegmentedColormap.from_list(\"\", [(0.1, 0.1, 0.8), (0.6, 0.6, 0.9),\"1\",(0.9, 0.6, 0.6), (0.8, 0.1, 0.1)])\n",
    "\n",
    "fig = plt.figure(figsize=[4.7,5.5]) \n",
    "\n",
    "plt.pcolor(max_obs_diff_xr.where(p_vals_max_xr<0.05,0).reindex(month=list(reversed(max_obs_diff_xr.month))), cmap=cmap, edgecolor='0.5', lw=2, vmin=-1, vmax=1)\n",
    "plt.xticks(np.arange(0.5, 5.6, 1), labels=model_print_names, fontsize=14, rotation=90);\n",
    "plt.yticks(np.arange(0.5, 11.6, 1), labels=month_names_short[::-1], fontsize=14);\n",
    "plt.title(r'Maximum $\\sigma_{obs}$', fontsize=16);"
   ]
  },
  {
   "cell_type": "code",
   "execution_count": 6,
   "id": "042c07e4-f7a7-49ec-abf4-99accdcabc4f",
   "metadata": {},
   "outputs": [],
   "source": [
    "fig = plt.figure(figsize=[4.7,5.5]) \n",
    "\n",
    "plt.pcolor(p_vals_xr.max('obs_dataset').transpose(), cmap='plasma', edgecolor='0.5', lw=2, norm=mpl.colors.LogNorm(1e-10, 1))\n",
    "plt.xticks(np.arange(0.5, 5.6, 1), labels=model_print_names, fontsize=14, rotation=90);\n",
    "plt.yticks(np.arange(0.5, 11.6, 1), labels=month_names_short, fontsize=14);\n",
    "plt.colorbar()\n",
    "plt.title('Highest p-value', fontsize=16);"
   ]
  },
  {
   "cell_type": "code",
   "execution_count": 8,
   "id": "1f7bf14f-f660-4442-9a98-d229b2b69368",
   "metadata": {},
   "outputs": [],
   "source": [
    "#combine max and min\n",
    "#-4=dark blue, -1=light blue, 2=Black, 3=Pink, 4=Red          -4                 -3              -2               -1          0        1         2           3             4\n",
    "cmap = mpl.colors.LinearSegmentedColormap.from_list(\"\", [(0.1, 0.1, 0.8), (0.1, 0.1, 0.8), (0.1, 0.1, 0.8), (0.1, 0.1, 0.8), \"1\",     \"1\",      \"0\", (0.8, 0.1, 0.1), (0.8, 0.1, 0.1)])\n",
    "\n",
    "\n",
    "fig = plt.figure(figsize=[4.5,5.5]) \n",
    "\n",
    "plt.pcolor((max_obs_diff_xr.where(p_vals_max_xr<0.05,0) + 3*min_obs_diff_xr.where(p_vals_min_xr<0.05,0)).reindex(month=list(reversed(max_obs_diff_xr.month))), cmap=cmap, edgecolor='0.5', lw=2, vmin=-4, vmax=4)\n",
    "plt.xticks(np.arange(0.5, 5.6, 1), labels=model_print_names, fontsize=14, rotation=90);\n",
    "plt.yticks(np.arange(0.5, 11.6, 1), labels=month_names_short[::-1], fontsize=14);\n",
    "plt.title(r'Combined t-test $\\sigma_{obs}$', fontsize=16);"
   ]
  },
  {
   "cell_type": "code",
   "execution_count": 10,
   "id": "4ae5c8dd-9554-40a0-9923-850997d167e4",
   "metadata": {},
   "outputs": [],
   "source": [
    "#plot p-vales for a given obs dataset\n",
    "fig = plt.figure(figsize=[4.7,5.5]) \n",
    "\n",
    "plt.pcolor(p_vals_xr.sel(obs_dataset='HadISST1').where(p_vals_xr.sel(obs_dataset='HadISST1')<0.05).transpose(), cmap='plasma', edgecolor='0.5', lw=2, norm=mpl.colors.LogNorm(1e-10, 0.05))\n",
    "plt.xticks(np.arange(0.5, 5.6, 1), labels=model_print_names, fontsize=14, rotation=90);\n",
    "plt.yticks(np.arange(0.5, 11.6, 1), labels=month_names_short, fontsize=14);\n",
    "plt.colorbar()\n",
    "plt.title('HadISST1 p-value', fontsize=16);"
   ]
  },
  {
   "cell_type": "code",
   "execution_count": 11,
   "id": "b8ffb803-ce8b-407c-bff9-9858737755de",
   "metadata": {},
   "outputs": [],
   "source": [
    "#sum up the number of consistnet and inconsistent obs datasets\n",
    "fig = plt.figure(figsize=[5.5,5.5]) \n",
    "\n",
    "# bounds = np.array([0,1,2,3,4])\n",
    "# norm = mpl.colors.BoundaryNorm(boundaries=bounds, ncolors=4)\n",
    "\n",
    "plt.pcolor(p_vals_sig.sum('obs_dataset').transpose(), cmap='Greens_r', edgecolor='0.5', lw=2, vmin=0, vmax=4)\n",
    "plt.xticks(np.arange(0.5, 5.6, 1), labels=model_print_names, fontsize=14, rotation=90);\n",
    "plt.yticks(np.arange(0.5, 11.6, 1), labels=month_names_short, fontsize=14);\n",
    "cbar = plt.colorbar(ticks=[0,1,2,3,4]);\n",
    "cbar.ax.set_ylabel('Number of Observational Datasets', fontsize=16)\n",
    "plt.title('Not Significantly Different', fontsize=16);"
   ]
  },
  {
   "cell_type": "markdown",
   "id": "a265cf72-6662-4513-ac96-3056d2977d11",
   "metadata": {},
   "source": [
    "# Comparing observational datasets with eachother"
   ]
  },
  {
   "cell_type": "code",
   "execution_count": 180,
   "id": "1c1d922c-0a0a-4ac7-8bf2-b03286dfb44e",
   "metadata": {},
   "outputs": [],
   "source": [
    "#loop through each dataset and compare to the other 3 datasets, do for each month\n",
    "\n",
    "month_p_vals = []\n",
    "for month_ in np.arange(1,13):\n",
    "    all_obs_datasets = [sigma_obs_individual['CDR'].sel(month=month_), sigma_obs_individual['NT'].sel(month=month_),\n",
    "                        sigma_obs_individual['BT'].sel(month=month_), sigma_obs_individual['HadISST1'].sel(month=month_)]\n",
    "    dataset_p_vals = []\n",
    "    for obs_i in range(4):\n",
    "        t_stat, p = stats.ttest_1samp(np.delete(all_obs_datasets,obs_i), all_obs_datasets[obs_i])\n",
    "        dataset_p_vals.append(p)\n",
    "    \n",
    "    month_p_vals.append(dataset_p_vals)"
   ]
  },
  {
   "cell_type": "code",
   "execution_count": 183,
   "id": "90f643a4-4ed1-4583-84fa-6f988fb44f47",
   "metadata": {},
   "outputs": [],
   "source": [
    "obs_p_vals_eachother = xr.DataArray(data=month_p_vals, coords={'month':np.arange(1,13), 'dataset':['CDR','NT','BT','HadISST1']}, dims=['month','dataset'])"
   ]
  },
  {
   "cell_type": "code",
   "execution_count": 14,
   "id": "03367859-9af3-4d6b-b1f4-bdcb09eb7dd4",
   "metadata": {},
   "outputs": [],
   "source": [
    "fig = plt.figure(figsize=[4.7,5.5]) \n",
    "\n",
    "plt.pcolor(obs_p_vals_eachother.where(obs_p_vals_eachother>0.05), cmap='plasma', edgecolor='0.5', lw=2, vmin=0.05, vmax=1)\n",
    "plt.xticks(np.arange(0.5, 3.6, 1), labels=['CDR','NT','BT','HadISST1'], fontsize=14);\n",
    "plt.yticks(np.arange(0.5, 11.6, 1), labels=month_names_short, fontsize=14);\n",
    "plt.colorbar()\n",
    "plt.title('Observational Datasets p-value Eachother', fontsize=16);"
   ]
  },
  {
   "cell_type": "markdown",
   "id": "6744651d-3506-4ca4-9da6-4b62016994fb",
   "metadata": {},
   "source": [
    "## Consistency of $\\bar{\\sigma}_{mem}$ standard deviations\n",
    "**Color scale of above/beow and hatching for too far away**"
   ]
  },
  {
   "cell_type": "code",
   "execution_count": 4,
   "id": "658e4763-886e-4448-acd8-bf3fa7a2323b",
   "metadata": {},
   "outputs": [],
   "source": [
    "fig, ax = plt.subplots(1,6,figsize=[20,5]) \n",
    "\n",
    "for model_i, model_name in enumerate(model_names):\n",
    "    data_to_plot = (sigma_obs_individual.drop('SII').drop('Merged').to_array() - (sigma_mem_individual[model_name].mean('member')+2*sigma_mem_individual[model_name].std('member'))).transpose()\n",
    "\n",
    "    plot_mesh = ax[model_i].pcolor(data_to_plot.reindex(month=list(reversed(data_to_plot.month))), cmap='RdBu_r', edgecolor='0.5', lw=2, vmin=-0.05, vmax=0.05)\n",
    "    \n",
    "    if model_i == 5:\n",
    "        cbar_ax = fig.add_axes([0.15, 0, 0.7, 0.05])\n",
    "    \n",
    "        cbar = fig.colorbar(plot_mesh, cax=cbar_ax, ticks=np.arange(-0.05,0.06,0.01), orientation='horizontal')\n",
    "        cbar.ax.set_xlabel(r'$\\sigma_{obs} - (\\bar{\\sigma}_{mem} + 2 \\sigma)$', fontsize=16)\n",
    "        for t in cbar.ax.get_xticklabels():\n",
    "             t.set_fontsize(15)\n",
    "\n",
    "    ax[model_i].pcolor((data_to_plot.where(data_to_plot>0).reindex(month=list(reversed(data_to_plot.month)))), hatch='//', alpha=0.)\n",
    "\n",
    "    ax[model_i].set_xticks(np.arange(0.5, 3.6, 1));\n",
    "    ax[model_i].set_yticks(np.arange(0.5, 11.6, 1));\n",
    "    ax[model_i].set_xticklabels(['CDR','NT','BT','Had'], fontsize=14, rotation=0)\n",
    "    \n",
    "    if model_i == 0:\n",
    "        ax[model_i].set_yticklabels(month_names_short[::-1], fontsize=14)\n",
    "    else:\n",
    "        ax[model_i].set_yticklabels(['','','','','','','','','','','',''], fontsize=14)\n",
    "        \n",
    "    ax[model_i].set_title(model_print_names[model_i], fontsize=16);\n",
    "\n",
    "plt.subplots_adjust(wspace=0.05, top=0.85)\n",
    "plt.suptitle(r'$\\sigma_{obs}$ - (Ensemble mean + 2 Standard Deviation of $\\sigma_{mem}$)', fontsize=22);"
   ]
  },
  {
   "cell_type": "code",
   "execution_count": 3,
   "id": "a6ac6d26-dc50-4990-b3d9-5010f19bf2f6",
   "metadata": {},
   "outputs": [],
   "source": [
    "fig, ax = plt.subplots(1,6,figsize=[20,5]) \n",
    "\n",
    "for model_i, model_name in enumerate(model_names):\n",
    "    data_to_plot = (sigma_obs_individual.drop('SII').drop('Merged').to_array() - (sigma_mem_individual[model_name].mean('member')-2*sigma_mem_individual[model_name].std('member'))).transpose()\n",
    "\n",
    "    plot_mesh = ax[model_i].pcolor(data_to_plot.reindex(month=list(reversed(data_to_plot.month))), cmap='RdBu_r', edgecolor='0.5', lw=2, vmin=-0.05, vmax=0.05)\n",
    "    \n",
    "    if model_i == 5:\n",
    "        cbar_ax = fig.add_axes([0.15, 0, 0.7, 0.05])\n",
    "    \n",
    "        cbar = fig.colorbar(plot_mesh, cax=cbar_ax, ticks=np.arange(-0.05,0.06,0.01), orientation='horizontal')\n",
    "        cbar.ax.set_xlabel(r'$\\sigma_{obs} - (\\bar{\\sigma}_{mem} - 2 \\sigma)$', fontsize=16)\n",
    "        for t in cbar.ax.get_xticklabels():\n",
    "             t.set_fontsize(15)\n",
    "\n",
    "    ax[model_i].pcolor((data_to_plot.where(data_to_plot<0).reindex(month=list(reversed(data_to_plot.month)))), hatch='//', alpha=0.)\n",
    "\n",
    "    ax[model_i].set_xticks(np.arange(0.5, 3.6, 1));\n",
    "    ax[model_i].set_yticks(np.arange(0.5, 11.6, 1));\n",
    "    ax[model_i].set_xticklabels(['CDR','NT','BT','Had'], fontsize=14, rotation=0)\n",
    "    \n",
    "    if model_i == 0:\n",
    "        ax[model_i].set_yticklabels(month_names_short[::-1], fontsize=14)\n",
    "    else:\n",
    "        ax[model_i].set_yticklabels(['','','','','','','','','','','',''], fontsize=14)\n",
    "        \n",
    "    ax[model_i].set_title(model_print_names[model_i], fontsize=16);\n",
    "\n",
    "plt.subplots_adjust(wspace=0.05, top=0.85)\n",
    "plt.suptitle(r'$\\sigma_{obs}$ - (Ensemble mean - 2 Standard Deviation of $\\sigma_{mem}$)', fontsize=22);"
   ]
  },
  {
   "cell_type": "markdown",
   "id": "f1ffda6d-f9cb-4ead-b10f-f528e629b539",
   "metadata": {},
   "source": [
    "## Make consistency plots with 'both'"
   ]
  },
  {
   "cell_type": "code",
   "execution_count": 2,
   "id": "525d3d26-bdc2-4991-bc71-72cce788bdf2",
   "metadata": {},
   "outputs": [],
   "source": [
    "#both\n",
    "fig, ax = plt.subplots(1,6,figsize=[20,5]) \n",
    "\n",
    "for model_i, model_name in enumerate(model_names):\n",
    "    \n",
    "    SD_plus2  = (sigma_obs_individual.drop('SII').drop('Merged').to_array() - (sigma_mem_individual[model_name].mean('member')+2*sigma_mem_individual[model_name].std('member'))).transpose()\n",
    "    SD_minus2 = (sigma_obs_individual.drop('SII').drop('Merged').to_array() - (sigma_mem_individual[model_name].mean('member')-2*sigma_mem_individual[model_name].std('member'))).transpose()\n",
    "    \n",
    "    both_true = xr.ufuncs.logical_and(SD_plus2>0, SD_minus2<0)\n",
    "    \n",
    "\n",
    "    data_plot = ax[model_i].pcolor(both_true.where(both_true==False), cmap='binary', edgecolor='0.5', lw=2)\n",
    "    \n",
    "    #unacceptably high\n",
    "    \n",
    "    ax[model_i].pcolor((sigma_obs_individual.drop('SII').drop('Merged').to_array() - (sigma_mem_individual[model_name].mean('member')-2*sigma_mem_individual[model_name].std('member'))).transpose().where(\n",
    "               (sigma_obs_individual.drop('SII').drop('Merged').to_array() - (sigma_mem_individual[model_name].mean('member')-2*sigma_mem_individual[model_name].std('member'))).transpose()<0).where(both_true==False), \n",
    "                       cmap='Reds', edgecolor='0.5', lw=2, vmin=-999, vmax=-998)\n",
    "    \n",
    "    ((SD_plus2.where(SD_plus2>0))*0)+1\n",
    "    \n",
    "    #unacceptably low\n",
    "    ax[model_i].pcolor((sigma_obs_individual.drop('SII').drop('Merged').to_array() - (sigma_mem_individual[model_name].mean('member')+2*sigma_mem_individual[model_name].std('member'))).transpose().where(\n",
    "               (sigma_obs_individual.drop('SII').drop('Merged').to_array() - (sigma_mem_individual[model_name].mean('member')+2*sigma_mem_individual[model_name].std('member'))).transpose()>0).where(both_true==False), \n",
    "                       cmap='Blues', edgecolor='0.5', lw=2, vmin=-999, vmax=-998)\n",
    "  \n",
    "    ax[model_i].set_xticks(np.arange(0.5, 3.6, 1));\n",
    "    ax[model_i].set_yticks(np.arange(0.5, 11.6, 1));\n",
    "    ax[model_i].set_xticklabels(['CDR','NT','BT','Had'], fontsize=14, rotation=0)\n",
    "    \n",
    "    if model_i == 0:\n",
    "        ax[model_i].set_yticklabels(month_names_short, fontsize=14)\n",
    "    else:\n",
    "        ax[model_i].set_yticklabels(['','','','','','','','','','','',''], fontsize=14)\n",
    "        \n",
    "    ax[model_i].set_title(model_print_names[model_i], fontsize=16);\n",
    "\n",
    "plt.subplots_adjust(wspace=0.05, top=0.85)\n",
    "# plt.suptitle(r'Observational Dataset - (Ensemble mean - 2 Standard Deviations of $\\sigma_{mem}$)', fontsize=22);"
   ]
  },
  {
   "cell_type": "code",
   "execution_count": 488,
   "id": "b7ae1e34-a7a7-4a16-92b2-e4ffaadd641c",
   "metadata": {},
   "outputs": [],
   "source": [
    "SD_plus2_xr = []\n",
    "SD_minus2_xr = []\n",
    "for model_i, model_name in enumerate(model_names):\n",
    "\n",
    "    SD_plus2  = (sigma_obs_individual.drop('SII').drop('Merged').to_array() - (sigma_mem_individual[model_name].mean('member')+1.65*sigma_mem_individual[model_name].std('member'))).transpose()\n",
    "    SD_minus2 = (sigma_obs_individual.drop('SII').drop('Merged').to_array() - (sigma_mem_individual[model_name].mean('member')-1.65*sigma_mem_individual[model_name].std('member'))).transpose()\n",
    "\n",
    "    SD_plus2_valid = SD_plus2.where(SD_plus2>0,0)\n",
    "    SD_plus2_xr.append(SD_plus2_valid.where(SD_plus2_valid==0,1))\n",
    "\n",
    "    SD_minus2_valid = SD_plus2.where(SD_minus2<0,0)\n",
    "    SD_minus2_xr.append(SD_minus2_valid.where(SD_minus2_valid==0,1))\n",
    "    \n",
    "SD_plus2_xr = xr.concat((SD_plus2_xr), dim='model').sum('variable').transpose()\n",
    "SD_plus2_xr['model'] = model_names\n",
    "    \n",
    "SD_minus2_xr = xr.concat((SD_minus2_xr), dim='model').sum('variable').transpose()\n",
    "SD_minus2_xr['model'] = model_names"
   ]
  },
  {
   "cell_type": "code",
   "execution_count": 1,
   "id": "c82f50c0-96d8-424f-9d35-c3199dfe8a25",
   "metadata": {},
   "outputs": [],
   "source": [
    "                                                   #white black             red          \n",
    "cmap_red  = mpl.colors.LinearSegmentedColormap.from_list(\"\",[\"1\", \"0\", \"0\", \"0\", (0.8, 0.1, 0.1)])\n",
    "                                                    #white black             blue          \n",
    "cmap_blue = mpl.colors.LinearSegmentedColormap.from_list(\"\",[\"1\", \"0\", \"0\", \"0\", (0.1, 0.1, 0.8)])\n",
    "\n",
    "fig = plt.figure(figsize=[4.5,5.5])\n",
    "\n",
    "plt.pcolor(SD_plus2_xr.where(SD_plus2_xr>0).reindex(month=list(reversed(SD_plus2_xr.month))), cmap=cmap_blue, vmin=0, vmax=4, edgecolor='0.5', lw=2)\n",
    "plt.pcolor(SD_minus2_xr.where(SD_minus2_xr>0).reindex(month=list(reversed(SD_minus2_xr.month))), cmap=cmap_red, vmin=0, vmax=4, edgecolor='0.5', lw=2)\n",
    "# plt.pcolor((SD_minus2_xr<0).where(SD_plus2_xr<0).reindex(month=list(reversed(SD_minus2_xr.month))), cmap='binary', edgecolor='0.5', lw=2)\n",
    "\n",
    "plt.pcolor(SD_plus2_xr.where(SD_plus2_xr==0).where(SD_minus2_xr==0).reindex(month=list(reversed(SD_plus2_xr.month))), cmap='binary', edgecolor='0.5', lw=2)\n",
    "\n",
    "\n",
    "plt.xticks(np.arange(0.5, 5.6, 1), labels=model_print_names, fontsize=14, rotation=90);\n",
    "plt.yticks(np.arange(0.5, 11.6, 1), labels=month_names_short.copy()[::-1],fontsize=14);"
   ]
  }
 ],
 "metadata": {
  "kernelspec": {
   "display_name": "NPL-3.7.9",
   "language": "python",
   "name": "npl-3.7.9"
  },
  "language_info": {
   "codemirror_mode": {
    "name": "ipython",
    "version": 3
   },
   "file_extension": ".py",
   "mimetype": "text/x-python",
   "name": "python",
   "nbconvert_exporter": "python",
   "pygments_lexer": "ipython3",
   "version": "3.7.9"
  }
 },
 "nbformat": 4,
 "nbformat_minor": 5
}
