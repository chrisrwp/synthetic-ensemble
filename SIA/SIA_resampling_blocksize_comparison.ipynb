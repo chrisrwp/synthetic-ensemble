{
 "cells": [
  {
   "cell_type": "markdown",
   "id": "e705a78d-e10b-4be5-996d-06dc50075dc0",
   "metadata": {},
   "source": [
    "# Resample SIA with different bootstrap block sizes"
   ]
  },
  {
   "cell_type": "code",
   "execution_count": 1,
   "id": "e9057709-4d37-49c6-9cd7-ab3696b042cf",
   "metadata": {},
   "outputs": [],
   "source": [
    "import xarray as xr\n",
    "import numpy as np\n",
    "import scipy.stats as stats\n",
    "import datetime"
   ]
  },
  {
   "cell_type": "code",
   "execution_count": 2,
   "id": "72896021-3b5a-4d1d-bc5b-2d8f1f9d9bb5",
   "metadata": {},
   "outputs": [],
   "source": [
    "data_path = '/glade/scratch/cwpowell/Synthetic_ensemble/'\n",
    "\n",
    "model_names  = ['CanESM2', 'CESM1', 'CSIRO_MK36', 'GFDL_CM3', 'GFDL_ESM2M', 'MPI_ESM1' ]\n",
    "mem_len      = [50,        40,      30,           20,         30,           100        ]\n",
    "model_starts = [1950,      1920,    1850,         1920,       1950,         1850       ]"
   ]
  },
  {
   "cell_type": "code",
   "execution_count": 3,
   "id": "9fbdc207-7935-49bc-9ea8-8c66c71357a1",
   "metadata": {},
   "outputs": [],
   "source": [
    "#load observational data\n",
    "CDR  = xr.open_dataset(data_path+'Raw_data/observations/NSIDC_CDR_v4/SIA_SIE_CDR_BT_NT_79-20_filled.nc')\n",
    "HadISST1 = xr.open_dataset(data_path+'Raw_data/observations/HadISST/HadISST1_SIA_SIE_79-20_filled.nc')\n",
    "\n",
    "obs_SIA = xr.Dataset({'CDR':CDR['CDR_SIA'].copy(), 'BT':CDR['BT_SIA'].copy(), \n",
    "                      'NT':CDR['NT_SIA'].copy(), 'HadISST1':HadISST1['SIA'].copy()})\n",
    "\n",
    "obs_SIA_keys = list(obs_SIA.keys())\n",
    "\n",
    "#load model data\n",
    "SIA = xr.open_dataset(data_path+'SIA/SIA_SIE_SIV/CLIVAR_SIA_1850_2100_RCP85.nc')"
   ]
  },
  {
   "cell_type": "code",
   "execution_count": null,
   "id": "a092ac19-c181-4bdc-b8bc-e8257fe7a989",
   "metadata": {
    "jupyter": {
     "source_hidden": true
    },
    "tags": []
   },
   "outputs": [],
   "source": [
    "def resample_boot_n(time_period, data, n):\n",
    "    '''\n",
    "    Resample a 1D time series using an n year block boostrap size with replacement\n",
    "    \n",
    "    Parameters\n",
    "    ----------\n",
    "    time_period : integer,\n",
    "        For 1979-2020 use 42 as the total number of years in that time period\n",
    "    data : 1 dimensional xarray dataarray,\n",
    "        For 1979-2020 this is an array of shape [42] \n",
    "    \n",
    "    Returns\n",
    "    ----------\n",
    "        2D xarray dataarray object of 1000 resamplings of the input data, shape: (time_period, 1000)\n",
    "    '''  \n",
    "    #create an xarray dataarray of indexes for half the length of the time period, year_i coordinates 1,3,5...\n",
    "    boot_n_first_ind = xr.DataArray(data   = np.random.randint(0,time_period-n, (1000,int(time_period/n))), \n",
    "                                    coords = {'resampling':np.arange(1,1001,1), 'year_i':np.arange(1,time_period+1,2)},\n",
    "                                    dims   = ['resampling', 'year_i'])\n",
    "\n",
    "    #create an identical dataarray but with each element incremented by 1, year_i coordinates 2,4,6....\n",
    "    boot_2_second_ind = (boot_2_first_ind+1).copy()\n",
    "    boot_2_second_ind['year_i'] = np.arange(2,time_period+2,2)\n",
    "\n",
    "    #concatenate the two arrays with the coordinates in order, this allows a 2 year block boostrap size\n",
    "    all_boot_2_ind = xr.concat((boot_2_first_ind, boot_2_second_ind), dim='year_i').sortby('year_i')\n",
    "    \n",
    "    #create an array with the starting element of the flattened array for each resampling 0, 42, 84...\n",
    "    ind_base = np.repeat(np.arange(0,time_period*1000,time_period),time_period)\n",
    "    \n",
    "    #add together the base indexes (0,42,84...) with the randomly chosen indexes within the original data\n",
    "    ind_1_d = np.ravel(all_boot_2_ind) + ind_base\n",
    "    \n",
    "    #copy the original data 1000 times as a 1D array so it will have the same indexes as we just made for ind_1_d\n",
    "    data_1000 = np.ravel(np.tile(data,(time_period,1000)))\n",
    "    \n",
    "    #select the randomly generated indexes from the flattened copied original data, reshape and save to xarray dataarray\n",
    "    resampled_boot_2 = xr.DataArray(data = np.reshape(data_1000[ind_1_d], (1000, time_period)),\n",
    "                                    coords = {'resampling':np.arange(1,1001,1), 'year_i':np.arange(1,time_period+1,1)},\n",
    "                                    dims   = ['resampling', 'year_i'])\n",
    "\n",
    "    return(resampled_boot_2)"
   ]
  },
  {
   "cell_type": "code",
   "execution_count": null,
   "id": "112bb3fe-45dd-4539-a3e3-a51770ed0b07",
   "metadata": {},
   "outputs": [],
   "source": []
  },
  {
   "cell_type": "code",
   "execution_count": null,
   "id": "e51638fd-1826-4e05-8ae0-fbf7a9d944f1",
   "metadata": {},
   "outputs": [],
   "source": []
  },
  {
   "cell_type": "code",
   "execution_count": null,
   "id": "0faaad21-8f3a-445f-af43-5a67597abe32",
   "metadata": {},
   "outputs": [],
   "source": []
  },
  {
   "cell_type": "code",
   "execution_count": null,
   "id": "16179d17-9cc3-42aa-ab20-f212431a903f",
   "metadata": {},
   "outputs": [],
   "source": []
  },
  {
   "cell_type": "code",
   "execution_count": null,
   "id": "462d20a4-cc38-4da1-8443-cbf23fea3350",
   "metadata": {},
   "outputs": [],
   "source": []
  },
  {
   "cell_type": "code",
   "execution_count": null,
   "id": "ea655214-6597-4937-8429-591e494c1715",
   "metadata": {},
   "outputs": [],
   "source": []
  },
  {
   "cell_type": "code",
   "execution_count": null,
   "id": "c8846c87-2791-49cf-ae90-77a5a916a468",
   "metadata": {},
   "outputs": [],
   "source": []
  },
  {
   "cell_type": "code",
   "execution_count": null,
   "id": "92015df0-99fe-4994-8311-e57dca8b1e82",
   "metadata": {},
   "outputs": [],
   "source": []
  },
  {
   "cell_type": "code",
   "execution_count": null,
   "id": "cba26110-a210-4c1b-9691-da800c3a064d",
   "metadata": {},
   "outputs": [],
   "source": []
  },
  {
   "cell_type": "code",
   "execution_count": null,
   "id": "bd8bd8d3-463b-4340-828e-2ad8e646fc73",
   "metadata": {},
   "outputs": [],
   "source": []
  }
 ],
 "metadata": {
  "kernelspec": {
   "display_name": "NPL-3.7.9",
   "language": "python",
   "name": "npl-3.7.9"
  },
  "language_info": {
   "codemirror_mode": {
    "name": "ipython",
    "version": 3
   },
   "file_extension": ".py",
   "mimetype": "text/x-python",
   "name": "python",
   "nbconvert_exporter": "python",
   "pygments_lexer": "ipython3",
   "version": "3.7.9"
  }
 },
 "nbformat": 4,
 "nbformat_minor": 5
}
