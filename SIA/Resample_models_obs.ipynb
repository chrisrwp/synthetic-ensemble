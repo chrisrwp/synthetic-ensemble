{
 "cells": [
  {
   "cell_type": "markdown",
   "id": "bfa83573-9974-405c-87fa-7df61c345a33",
   "metadata": {},
   "source": [
    "# Resample detrended model SIC\n",
    "\n",
    "### Author: Chris Wyburn-Powell, [github](https://github.com/chrisrwp/synthetic-ensemble/blob/main/SIA/Resample_models_obs.ipynb)\n",
    "\n",
    "**Input**: <br>\n",
    "- Detrended CLIVAR LE Archive model output from CanESM2, CESM1, CSIRO MK3.6, GDL CM3, GFDL ESM2M, MPI ESM1. Detrended in the with respect to the following metrics:\n",
    "  * Ensemble mean, i.e. the linear trend of the mean of all members\n",
    "  * Ensemble mean with adjustments so the ensemble mean trend does not reach below 0% or above 100% SIC\n",
    "  * Individual mean, i.e. the linear trend of the member which is being detrended \n",
    "  * Individual mean with adjustments to within 0-100% SIC\n",
    "\n",
    "**Output**: <br>\n",
    "- Standard deviation (with respect to time) of 1000 resamplings of SIC with a 2 year block bootstrap size\n",
    "  \n",
    "**Method**: <br>\n",
    "- Resampling uses a 2 year block bootstrap size\n",
    "- Use a linear trend as calculated by `xarray.DataArray.polyfit` to detrend the data"
   ]
  },
  {
   "cell_type": "code",
   "execution_count": 1,
   "id": "06caa0c3-6393-4e4f-81be-31eab01a741c",
   "metadata": {},
   "outputs": [
    {
     "name": "stdout",
     "output_type": "stream",
     "text": [
      "17:43 UTC Sat 2021-07-24\n"
     ]
    }
   ],
   "source": [
    "import numpy as np\n",
    "import xarray as xr\n",
    "import datetime\n",
    "import dask\n",
    "\n",
    "print(datetime.datetime.utcnow().strftime(\"%H:%M UTC %a %Y-%m-%d\"))"
   ]
  },
  {
   "cell_type": "code",
   "execution_count": 3,
   "id": "7e852f97-9f1b-484a-a561-ce35661e5083",
   "metadata": {},
   "outputs": [],
   "source": [
    "data_path = '/glade/scratch/cwpowell/Synthetic_ensemble/'\n",
    "\n",
    "model_names  = ['CanESM2', 'CESM1', 'CSIRO_MK36', 'GFDL_CM3', 'GFDL_ESM2M', 'MPI_ESM1' ]\n",
    "mem_len      = [50,        40,      30,           20,         30,           100        ]\n",
    "model_starts = [1950,      1920,    1850,         1920,       1950,         1850       ]"
   ]
  },
  {
   "cell_type": "code",
   "execution_count": 5,
   "id": "ac0717c0-1873-4a89-828f-ab6c691fe40e",
   "metadata": {},
   "outputs": [],
   "source": [
    "model_name = 'CanESM2'\n",
    "adj = 'adj_'\n",
    "ind_ens = 'ensemble'\n",
    "month_ = 9\n",
    "\n",
    "detrended = xr.open_dataset(data_path+'SIC/Detrended/{}_detrended_{}{}_{}_1979_2020.nc'.format(model_name, adj, str(month_).zfill(2), ind_ens))  "
   ]
  },
  {
   "cell_type": "code",
   "execution_count": 40,
   "id": "eee6092d-8e1b-47ff-a825-a629e9af5384",
   "metadata": {},
   "outputs": [],
   "source": [
    "def resample_boot2_mem(data, lat_lab, lon_lab):\n",
    "    '''\n",
    "    Resample a 2D time series using a 2 year block boostrap size with replacement\n",
    "    2D so can only resample one member at a time\n",
    "    \n",
    "    Parameters\n",
    "    ----------\n",
    "    time_period : integer,\n",
    "        For 1979-2020 use 42 as the total number of years in that time period\n",
    "    data : 1 dimensional xarray dataarray,\n",
    "        For 1979-2020 this is an array of shape [lat, lon, time:42] \n",
    "    \n",
    "    Returns\n",
    "    ----------\n",
    "        3D xarray dataarray object of 1000 resamplings of the input data, shape: (lat, lon, resampling:1000)\n",
    "    '''  \n",
    "#     #initialize an empty numpy array\n",
    "#     resampled_member = np.empty(np.append(1000, list(np.shape(detrended['SIC'].sel(member=1)))))\n",
    "    \n",
    "    #create an xarray dataarray of indexes for half the length of the time period, year_i coordinates 1,3,5...\n",
    "    boot_2_first_ind = xr.DataArray(data   = np.random.randint(0,time_period-2, (1000, int(time_period/2), len(data[lat_lab]), len(data[lon_lab]))), \n",
    "                                    coords = {'resampling':np.arange(1,1001,1), 'year_i':np.arange(1,time_period+1,2), lat_lab:data[lat_lab], lon_lab:data[lat_lab]},\n",
    "                                    dims   = ['resampling', 'year_i', lat_lab, lon_lab])\n",
    "\n",
    "    return(boot_2_first_ind)\n",
    "    \n",
    "    "
   ]
  },
  {
   "cell_type": "code",
   "execution_count": null,
   "id": "a9b8f129-5c41-4e9a-9be9-577dada8e582",
   "metadata": {},
   "outputs": [],
   "source": [
    "def resample_boot2_mem(time_period, data):\n",
    "    '''\n",
    "    Resample a 1D time series using a 2 year block boostrap size with replacement\n",
    "    \n",
    "    Parameters\n",
    "    ----------\n",
    "    time_period : integer,\n",
    "        For 1979-2020 use 42 as the total number of years in that time period\n",
    "    data : 1 dimensional xarray dataarray,\n",
    "        For 1979-2020 this is an array of shape [lat, lon, time:42] \n",
    "    \n",
    "    Returns\n",
    "    ----------\n",
    "        3D xarray dataarray object of 1000 resamplings of the input data, shape: (lat, lon, resampling:1000)\n",
    "    '''  \n",
    "    #create an xarray dataarray of indexes for half the length of the time period, year_i coordinates 1,3,5...\n",
    "    boot_2_first_ind = xr.DataArray(data   = np.random.randint(0,time_period-2, (1000,int(time_period/2))), \n",
    "                                    coords = {'resampling':np.arange(1,1001,1), 'year_i':np.arange(1,time_period+1,2)},\n",
    "                                    dims   = ['resampling', 'year_i'])\n",
    "\n",
    "    #create an identical dataarray but with each element incremented by 1, year_i coordinates 2,4,6....\n",
    "    boot_2_second_ind = (boot_2_first_ind+1).copy()\n",
    "    boot_2_second_ind['year_i'] = np.arange(2,time_period+2,2)\n",
    "\n",
    "    #concatenate the two arrays with the coordinates in order, this allows a 2 year block boostrap size\n",
    "    all_boot_2_ind = xr.concat((boot_2_first_ind, boot_2_second_ind), dim='year_i').sortby('year_i')\n",
    "    \n",
    "    #create an array with the starting element of the flattened array for each resampling 0, 42, 84...\n",
    "    ind_base = np.repeat(np.arange(0,time_period*1000,time_period),time_period)\n",
    "    \n",
    "    #add together the base indexes (0,42,84...) with the randomly chosen indexes within the original data\n",
    "    ind_1_d = np.ravel(all_boot_2_ind) + ind_base\n",
    "    \n",
    "    #copy the original data 1000 times as a 1D array so it will have the same indexes as we just made for ind_1_d\n",
    "    data_1000 = np.ravel(np.tile(data,(time_period,1000)))\n",
    "    \n",
    "    #select the randomly generated indexes from the flattened copied original data, reshape and save to xarray dataarray\n",
    "    resampled_boot_2 = xr.DataArray(data = np.reshape(data_1000[ind_1_d], (time_period,1000)),\n",
    "                                    coords = {'year_i':np.arange(1,time_period+1,1), 'resampling':np.arange(1,1001,1)},\n",
    "                                    dims   = ['year_i', 'resampling'])\n",
    "\n",
    "    return(resampled_boot_2)"
   ]
  }
 ],
 "metadata": {
  "kernelspec": {
   "display_name": "NPL-3.7.9",
   "language": "python",
   "name": "npl-3.7.9"
  },
  "language_info": {
   "codemirror_mode": {
    "name": "ipython",
    "version": 3
   },
   "file_extension": ".py",
   "mimetype": "text/x-python",
   "name": "python",
   "nbconvert_exporter": "python",
   "pygments_lexer": "ipython3",
   "version": "3.7.9"
  }
 },
 "nbformat": 4,
 "nbformat_minor": 5
}
