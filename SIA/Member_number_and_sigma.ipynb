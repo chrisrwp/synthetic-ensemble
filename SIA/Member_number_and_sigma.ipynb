{
 "cells": [
  {
   "cell_type": "markdown",
   "id": "5a1fcd9e-e458-45d0-b90a-b12bd0958739",
   "metadata": {},
   "source": [
    "# Examine what effect the number of ensemble members has"
   ]
  },
  {
   "cell_type": "code",
   "execution_count": 1,
   "id": "6ecb393d-0ec0-48b5-bb8a-7644f0cb09f3",
   "metadata": {},
   "outputs": [
    {
     "name": "stdout",
     "output_type": "stream",
     "text": [
      "19:27 UTC Fri 2021-10-15\n"
     ]
    }
   ],
   "source": [
    "%matplotlib inline\n",
    "import numpy as np\n",
    "import matplotlib.pyplot as plt\n",
    "import matplotlib.path as mpath\n",
    "import matplotlib.cm as cm\n",
    "from matplotlib.lines import Line2D\n",
    "from matplotlib.patches import Patch\n",
    "import matplotlib.patheffects as pe\n",
    "import xarray as xr\n",
    "import datetime\n",
    "import dask\n",
    "print(datetime.datetime.utcnow().strftime(\"%H:%M UTC %a %Y-%m-%d\"))"
   ]
  },
  {
   "cell_type": "code",
   "execution_count": 2,
   "id": "8f1b3655-eeb3-4fbf-bbb8-8897a8dc398e",
   "metadata": {},
   "outputs": [],
   "source": [
    "path = '/glade/scratch/cwpowell/Synthetic_ensemble/'\n",
    "\n",
    "month_names = ['January', 'February', 'March', 'April', 'May', 'June', 'July', \n",
    "               'August', 'September', 'October', 'November', 'December']\n",
    "\n",
    "model_names        = ['CanESM2', 'CESM1', 'CSIRO_MK36',  'GFDL_CM3', 'GFDL_ESM2M', 'MPI_ESM1']\n",
    "model_print_names  = ['CanESM2', 'CESM1', 'CSIRO MK3.6', 'GFDL CM3', 'GFDL ESM2M', 'MPI ESM1']\n",
    "obs_names          = ['HadISST1']\n",
    "mem_len   = [50,  40,  30,  20,  30,  100]\n",
    "start_yrs = [1950,1920,1850,1920,1950,1850]\n",
    "colors    = ['m', 'b', 'g', 'orange', 'k', 'tab:olive']"
   ]
  },
  {
   "cell_type": "markdown",
   "id": "9a2aaf5c-f947-4d90-95c1-ee0a25c665b8",
   "metadata": {},
   "source": [
    "# Subsample the members"
   ]
  },
  {
   "cell_type": "code",
   "execution_count": 3,
   "id": "3baeea7c-b89c-46ca-998e-0967258c1835",
   "metadata": {},
   "outputs": [],
   "source": [
    "#load detrended data\n",
    "CLIVAR_det_ind = xr.open_dataset(path+'SIA/SIA_detrended/CLIVAR_SIA_detrended_individual_79-20.nc')\n",
    "CLIVAR_det_ens = xr.open_dataset(path+'SIA/SIA_detrended/CLIVAR_SIA_detrended_ensemble_79-20.nc')\n",
    "\n",
    "#compute the standard deviation with respect to time for each month\n",
    "ind_SD = CLIVAR_det_ind.groupby('time.month').std('time')\n",
    "ens_SD = CLIVAR_det_ens.groupby('time.month').std('time')"
   ]
  },
  {
   "cell_type": "markdown",
   "id": "8a897b23-cde1-49f4-9c0b-8d8bb81b1e06",
   "metadata": {},
   "source": [
    "## $\\sigma_{LE}$"
   ]
  },
  {
   "cell_type": "code",
   "execution_count": 5,
   "id": "b2761cee-4058-4bbf-807c-0f3e409b7cec",
   "metadata": {},
   "outputs": [],
   "source": [
    "def bootstrap_month_model(sd_time, mem_n, resamp_n):\n",
    "    \n",
    "    SD_LE = []\n",
    "    \n",
    "    for mem_n_i in np.arange(2,mem_n+1,1): #loop through 2 the maximum number of members\n",
    "\n",
    "        temp_SD_list = [] #initialize array to record all the resamplings\n",
    "\n",
    "        for resamp_i in range(resamp_n):\n",
    "            rand_i_list = np.random.randint(0,mem_n-1, size=mem_n_i) #make a list of random numbers between 0 and last member element\n",
    "            temp_SD_list.append(sd_time.isel(member=rand_i_list).std('member'))\n",
    "\n",
    "        SD_LE.append(np.mean(temp_SD_list))\n",
    "\n",
    "    #make an xarray object with properly named coordinates for members\n",
    "    SD_LE = xr.DataArray(data   = SD_LE,\n",
    "                         coords = {'n_members':np.arange(2,mem_n+1,1)},\n",
    "                         dims   = ['n_members'])\n",
    "    \n",
    "    return(SD_LE)"
   ]
  },
  {
   "cell_type": "code",
   "execution_count": 6,
   "id": "3fe35fe7-8f42-4e75-80fd-1b5874b61011",
   "metadata": {},
   "outputs": [
    {
     "name": "stdout",
     "output_type": "stream",
     "text": [
      "2021-10-15 13:28:22.417314 3\n",
      "2021-10-15 13:30:35.158773 9\n"
     ]
    }
   ],
   "source": [
    "boostrapped_ind = []\n",
    "# boostrapped_ens = []\n",
    "\n",
    "for month_ in [3,9]:\n",
    "    print(datetime.datetime.now(), month_)\n",
    "    month_ind = []\n",
    "#     month_ens = []\n",
    "    \n",
    "    for model_i, model_name in enumerate(model_names):\n",
    "        month_ind.append(bootstrap_month_model(ind_SD[model_name].sel(month=month_), mem_len[model_i], 1000))\n",
    "#         month_ens.append(bootstrap_month_model(ens_SD[model_name].sel(month=month_), mem_len[model_i], 1000))\n",
    "        \n",
    "    boostrapped_ind.append(xr.concat((month_ind), dim='model'))\n",
    "#     boostrapped_ens.append(xr.concat((month_ens), dim='model'))\n",
    "    \n",
    "boostrapped_ind = xr.concat((boostrapped_ind), dim='month')\n",
    "boostrapped_ind['month'] = [3,9]\n",
    "boostrapped_ind['model'] = model_names\n",
    "\n",
    "# boostrapped_ens = xr.concat((boostrapped_ens), dim='month')\n",
    "# boostrapped_ens['month'] = [3,9]\n",
    "# boostrapped_ens['model'] = model_names"
   ]
  },
  {
   "cell_type": "markdown",
   "id": "8b16514a-cb88-4c15-9eaa-8cfadbde1148",
   "metadata": {},
   "source": [
    "## $\\sigma_{mem}$"
   ]
  },
  {
   "cell_type": "code",
   "execution_count": 9,
   "id": "f8f603bd-235c-4f42-b0c8-27dde50a147a",
   "metadata": {},
   "outputs": [],
   "source": [
    "#load sigma_mem\n",
    "sigma_mem = xr.open_dataset(path+'SIA/SIA_resampled/Sigma_mem_individual_10000.nc')"
   ]
  },
  {
   "cell_type": "code",
   "execution_count": 16,
   "id": "9d5447ac-0f5b-44f2-8868-872fbb8d667a",
   "metadata": {},
   "outputs": [],
   "source": [
    "boostrapped_mem = []\n",
    "\n",
    "for month_ in [3,9]:\n",
    "    print(datetime.datetime.now(), month_)\n",
    "    month_mem = []\n",
    "    \n",
    "    for model_i, model_name in enumerate(model_names):\n",
    "        print(datetime.datetime.now(), model_name)\n",
    "        month_mem.append(bootstrap_month_model(sigma_mem[model_name].sel(month=month_), mem_len[model_i], 1000))\n",
    "        \n",
    "    boostrapped_mem.append(xr.concat((month_mem), dim='model'))\n",
    "    \n",
    "boostrapped_mem = xr.concat((boostrapped_mem), dim='month')\n",
    "boostrapped_mem['month'] = [3,9]\n",
    "boostrapped_mem['model'] = model_names"
   ]
  },
  {
   "cell_type": "code",
   "execution_count": 15,
   "id": "4593999d-eb76-4ff4-9475-5e6de75ea2a5",
   "metadata": {},
   "outputs": [],
   "source": [
    "boostrapped_mem = xr.concat((boostrapped_mem), dim='month')\n",
    "boostrapped_mem['month'] = [3,9]\n",
    "boostrapped_mem['model'] = model_names"
   ]
  },
  {
   "cell_type": "markdown",
   "id": "f8c8830d-d420-4957-8632-33fc9f6fea18",
   "metadata": {},
   "source": [
    "# Plot\n",
    "## $\\sigma_{LE}$"
   ]
  },
  {
   "cell_type": "code",
   "execution_count": 28,
   "id": "3b3011af-5580-4bc8-ae97-025bacdba63a",
   "metadata": {},
   "outputs": [],
   "source": [
    "#1979-2020\n",
    "#open the dataset\n",
    "data = boostrapped_ind.copy() #change for ind or ens\n",
    "\n",
    "fig, axes = plt.subplots(2,2,figsize=[15,8])\n",
    "\n",
    "#plot the sigma LE with number of members\n",
    "for i, month_ in enumerate([3,9]):\n",
    "    \n",
    "    for model_i, model_name in enumerate(model_names):\n",
    "        axes[i][0].plot(np.arange(2,101,1), data.sel(model=model_name).sel(month=month_), c=colors[model_i], linewidth=2.5)\n",
    "        \n",
    "    axes[i][0].set_ylim(0.018,0.086) #max 0.083 for ind, 0.086 for ens\n",
    "    axes[i][0].set_ylabel(r'$\\sigma_{LE} \\ SIA \\ [10^6 \\ km^2]$', fontsize=20);\n",
    "    axes[i][0].set_yticklabels(np.round(np.arange(0.01,0.09,0.01),2), fontsize=16)\n",
    "    axes[i][0].set_xlim(2,51)\n",
    "    axes[i][0].set_xticks(np.arange(5,51,5))\n",
    "    axes[i][0].set_xticklabels(np.round(np.arange(5,51,5)), fontsize=16)\n",
    "    axes[i][0].grid()\n",
    "\n",
    "    \n",
    "    for model_i, model_name in enumerate(model_names):\n",
    "        axes[i][1].plot(np.arange(2,101,1), np.gradient(data.sel(model=model_name).sel(month=month_)), c=colors[model_i], linewidth=2.5)\n",
    "        \n",
    "    axes[i][1].axhline(0, c='0.5', linewidth=0.25)\n",
    "    axes[i][1].set_ylabel(r'$\\sigma_{LE}$  Derivative', fontsize=20);\n",
    "    axes[i][1].set_ylim(-0.0005,0.013)\n",
    "    axes[i][1].set_yticks(np.arange(0,0.013,0.002))\n",
    "    axes[i][1].set_yticklabels(['0', '0.002', '0.004', '0.006', '0.008', '0.010', '0.012'], fontsize=16)\n",
    "    axes[i][1].set_xlim(2,20)\n",
    "    axes[i][1].set_xticks(np.arange(2,21,2))    \n",
    "    axes[i][1].set_xticklabels(np.round(np.arange(2,21,2)), fontsize=16)   \n",
    "    axes[i][1].grid()\n",
    "    \n",
    "legend_elements = [Patch(facecolor=colors[0], label='CanESM2'),\n",
    "                   Patch(facecolor=colors[1], label='CESM1'),\n",
    "                   Patch(facecolor=colors[2], label='CSIRO MK36'),\n",
    "                   Patch(facecolor=colors[3], label='GFDL CM3'),\n",
    "                   Patch(facecolor=colors[4], label='GFDL ESM2M'),\n",
    "                   Patch(facecolor=colors[5], label='MPI ESM1'),]\n",
    "\n",
    "# extra_legend = plt.legend(handles=legend_elements, bbox_to_anchor=(0.85, 0.45), loc='lower center', borderaxespad=0, ncol=1, fontsize=14)\n",
    "# plt.gca().add_artist(extra_legend);\n",
    "\n",
    "extra_legend = plt.legend(handles=legend_elements, bbox_to_anchor=(-0.11, -0.41), loc='lower center', borderaxespad=0, ncol=6, fontsize=16)\n",
    "plt.gca().add_artist(extra_legend);\n",
    "\n",
    "axes[1][0].set_xlabel('Number of members', fontsize=20)\n",
    "axes[1][1].set_xlabel('Number of members', fontsize=20)\n",
    "axes[0][0].text(-0.06, 1.08, 'a', transform=axes[0][0].transAxes, fontsize=20, fontweight='bold', va='top', ha='right');\n",
    "axes[0][1].text(-0.06, 1.08, 'b', transform=axes[0][1].transAxes, fontsize=20, fontweight='bold', va='top', ha='right');\n",
    "axes[1][0].text(-0.06, 1.08, 'c', transform=axes[1][0].transAxes, fontsize=20, fontweight='bold', va='top', ha='right');\n",
    "axes[1][1].text(-0.06, 1.08, 'd', transform=axes[1][1].transAxes, fontsize=20, fontweight='bold', va='top', ha='right');\n",
    "\n",
    "plt.tight_layout()\n",
    "fig.subplots_adjust(bottom=0.2)\n",
    "fig.savefig('/glade/scratch/cwpowell/Synthetic_ensemble/SIA/figures/Member_number_and_sigma/Bootstrapping_ind_larger.pdf', bbox_inches='tight') #change file name for ind or ens\n",
    "fig.savefig('/glade/scratch/cwpowell/Synthetic_ensemble/SIA/figures/Member_number_and_sigma/Bootstrapping_ind_larger.png', \n",
    "            dpi=400, bbox_inches='tight')"
   ]
  },
  {
   "cell_type": "markdown",
   "id": "c37e9016-2417-4e77-a85c-126483bbe547",
   "metadata": {},
   "source": [
    "## $\\sigma_{mem}$"
   ]
  },
  {
   "cell_type": "code",
   "execution_count": 27,
   "id": "d1fb1fa8-4bcc-4820-911b-c07e0177efa3",
   "metadata": {},
   "outputs": [],
   "source": [
    "#1979-2020\n",
    "#open the dataset\n",
    "data = boostrapped_mem.copy() \n",
    "\n",
    "fig, axes = plt.subplots(2,2,figsize=[15,8])\n",
    "\n",
    "#plot the sigma LE with number of members\n",
    "for i, month_ in enumerate([3,9]):\n",
    "    \n",
    "    for model_i, model_name in enumerate(model_names):\n",
    "        axes[i][0].plot(np.arange(2,101,1), data.sel(model=model_name).sel(month=month_), c=colors[model_i], linewidth=2.5)\n",
    "        \n",
    "    axes[i][0].set_ylim(0.002,0.019) #max 0.083 for ind, 0.086 for ens\n",
    "    axes[i][0].set_ylabel(r'$\\sigma_{mem} \\ SIA \\ [10^6 \\ km^2]$', fontsize=14);\n",
    "    axes[i][0].set_yticklabels(np.round(np.arange(0.002,0.019,0.002),4), fontsize=12)\n",
    "    axes[i][0].set_xlim(2,51)\n",
    "    axes[i][0].set_xticks(np.arange(5,51,5))\n",
    "    axes[i][0].set_xticklabels(np.round(np.arange(5,51,5)), fontsize=12)\n",
    "    axes[i][0].grid()\n",
    "\n",
    "    \n",
    "    for model_i, model_name in enumerate(model_names):\n",
    "        axes[i][1].plot(np.arange(2,101,1), np.gradient(data.sel(model=model_name).sel(month=month_)), c=colors[model_i], linewidth=2.5)\n",
    "        \n",
    "    axes[i][1].axhline(0, c='0.5', linewidth=0.25)\n",
    "    axes[i][1].set_ylabel(r'$\\frac{d \\ \\sigma_{mem}}{d \\ member} \\ SIA \\ [10^6 \\ km^2 \\ member^{-1}]$', fontsize=14);\n",
    "    axes[i][1].set_ylim(-0.0002,0.0033)\n",
    "    axes[i][1].set_yticks(np.arange(0,0.0031,0.0005))\n",
    "    axes[i][1].set_yticklabels(['0', '0.0005', '0.0010', '0.0015', '0.0020', '0.0025', '0.0030'], fontsize=12)\n",
    "    axes[i][1].set_xlim(2,20)\n",
    "    axes[i][1].set_xticks(np.arange(2,21,2))    \n",
    "    axes[i][1].set_xticklabels(np.round(np.arange(2,21,2)), fontsize=12)   \n",
    "    axes[i][1].grid()\n",
    "    \n",
    "legend_elements = [Patch(facecolor=colors[0], label='CanESM2'),\n",
    "                   Patch(facecolor=colors[1], label='CESM1'),\n",
    "                   Patch(facecolor=colors[2], label='CSIRO MK36'),\n",
    "                   Patch(facecolor=colors[3], label='GFDL CM3'),\n",
    "                   Patch(facecolor=colors[4], label='GFDL ESM2M'),\n",
    "                   Patch(facecolor=colors[5], label='MPI ESM1'),]\n",
    "\n",
    "extra_legend = plt.legend(handles=legend_elements, bbox_to_anchor=(0.85, 0.45), loc='lower center', borderaxespad=0, ncol=1, fontsize=12)\n",
    "plt.gca().add_artist(extra_legend);\n",
    "\n",
    "axes[1][0].set_xlabel('Number of members', fontsize=14)\n",
    "axes[1][1].set_xlabel('Number of members', fontsize=14)\n",
    "axes[0][0].text(-0.06, 1.08, 'a', transform=axes[0][0].transAxes, fontsize=18, fontweight='bold', va='top', ha='right');\n",
    "axes[0][1].text(-0.06, 1.08, 'b', transform=axes[0][1].transAxes, fontsize=18, fontweight='bold', va='top', ha='right');\n",
    "axes[1][0].text(-0.06, 1.08, 'c', transform=axes[1][0].transAxes, fontsize=18, fontweight='bold', va='top', ha='right');\n",
    "axes[1][1].text(-0.06, 1.08, 'd', transform=axes[1][1].transAxes, fontsize=18, fontweight='bold', va='top', ha='right');\n",
    "\n",
    "plt.tight_layout()\n",
    "fig.savefig('/glade/scratch/cwpowell/Synthetic_ensemble/SIA/figures/Member_number_and_sigma/Bootstrapping_mem_ind.pdf') #change file name for ind or ens\n",
    "fig.savefig('/glade/scratch/cwpowell/Synthetic_ensemble/SIA/figures/Member_number_and_sigma/Bootstrapping_mem_ind.png', dpi=400)"
   ]
  }
 ],
 "metadata": {
  "kernelspec": {
   "display_name": "NPL-3.7.9",
   "language": "python",
   "name": "npl-3.7.9"
  },
  "language_info": {
   "codemirror_mode": {
    "name": "ipython",
    "version": 3
   },
   "file_extension": ".py",
   "mimetype": "text/x-python",
   "name": "python",
   "nbconvert_exporter": "python",
   "pygments_lexer": "ipython3",
   "version": "3.7.9"
  }
 },
 "nbformat": 4,
 "nbformat_minor": 5
}
