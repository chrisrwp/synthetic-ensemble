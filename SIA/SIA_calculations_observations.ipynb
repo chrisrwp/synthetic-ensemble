{
 "cells": [
  {
   "cell_type": "markdown",
   "id": "fc6b78e7-ed30-4339-bc49-f46e6ad14dc5",
   "metadata": {},
   "source": [
    "# Calculations of SIA and SIE from observational datasets\n",
    "\n",
    "### Author: Chris Wyburn-Powell, [github](https://github.com/chrisrwp/synthetic-ensemble/SIA/SIA_calculations_observations.ipynb) <br>\n",
    "\n",
    "#### Input:\n",
    "All datasets contain monthly data of which all months 1979-2020 are used:\n",
    "- **Merged Hadley NOAA Optimal Interpolation, version 2.0 (Merged Hadley-OI)** - SIC. [`doi:10.5065/r33v-sv91`](https://doi.org/10.5065/r33v-sv91)\n",
    "- **Hadley Centre Sea Ice and Sea Surface Temperature data set, version 1 (HadISST1)** - SIC. [`doi:10.1029/2002JD002670`](https://doi.org/10.1029/2002JD002670)\n",
    "- **Hadley Centre Sea Ice and Sea Surface Temperature data set, version 2 (HadISST2)** - SIC. N.B. currently updated beyond 2020-08 (as of 2021-07-01), not used [`doi:10.1002/2013JD020316`](https://doi.org/)\n",
    "- **NOAA/NSIDC Climate Data Record of Passive Microwave Sea Ice Concentration, Version 4 (CDR)** - SIC. Contains Climate Data Record (CDR), NASA Team (NT) and NASA Boostrap (BT) datasets. [10.1002/2013JD020316`doi:10.7265/efmz-2t65`\n",
    "- **NSIDC sea ice index Version 3 (SII)** - SIA and SIE only. Monthly SIE and SIA based primerily on the NASA Team data. `doi:10.7265/N5K072F8`\n",
    " \n",
    "#### Output:\n",
    "1979-2020 missing/spurious data corrected for SIC, SIA and SIE: \n",
    "- **NOAA/NSIDC CDR (CRD, NT, BT)**\n",
    "- **HadISST1**\n",
    "- **Merged Hadley OI**\n",
    "- **NSIDC SII (only SIA and SIE)**\n",
    "\n",
    "#### Corrections to datasets:\n",
    "The obejctive in making corrections is to remove spurious data and fill missing data with values which are similar to what happened and/or represents a realistic spatial scenario - e.g. linear interpolation may be okay for SIA and SIE, but doing so for SIC could cause unrealistic spaital distributions to occur, such as where 100% and 0% were averaged over a large area simulating an unrealistically wide ice edge zone. To ensure SIA/SIE should match SIC variables, SIC data from the same month of a different year is used to fill missing data.\n",
    "- **NOAA/NSIDC CDR version 4**: Pole hole is filled using the average SIC of the surrounding grid cells (built in). Missing months (1984-07 1987-12, 1988-01) are filled by looking at the closest valid months for SIA (CDR), idenfitying whether the previous or following year's SIA for those valid months are closets to that year with missing data, then selecting the previous or following SIC data to fill the missing data. E.g. For 1984-07: SIA for 1983-06 and 1985-06 are compared with 1984-06 and 1983-08 and 1985-08 are compared with 1984-08. 1985 is found to be closer to 1984 than 1983 was with 1984 so to fill 1984-07, 1985-07 is copied. Similarly SIC values for 1988-12 and 1989-01 are used to fill 1987-12 and 1988-01.\n",
    "- **HadISST1**: Discontinuities for months 2009-03 and 2009-04 were found with extreme negative anomalies which do not appear in other datasets. SIC from 2007-03 is used for 2009-03 and 2008-04 are used for 2009-04. \n",
    "- **Merged Hadley OI**: Data interpolated over land is masked using the land mask for HadISST1. 2009-03 and 2009-04 are filled with data from 2007-03 and 2008-04 respectively similarly to HadISST1. 2009-02 and 2009-05 are filled with 2010-02 and 2010-05 respectively.\n",
    "- **NSIDC Sea Ice Index**: Pole hole is filled from SIA and SIE from NOAA/NSIDC CDR version 4 NT dataset. Missing months (1987-08, 1987-12, 1988-01) are filled using data from the following year (as with NOAA/NSIDC CDR SIC datatset)."
   ]
  },
  {
   "cell_type": "code",
   "execution_count": 1,
   "id": "b5792cc6-8d29-4041-9338-bf32c037b949",
   "metadata": {},
   "outputs": [],
   "source": [
    "import numpy as np\n",
    "import xarray as xr\n",
    "import pandas as pd\n",
    "import glob \n",
    "import datetime\n",
    "import warnings"
   ]
  },
  {
   "cell_type": "code",
   "execution_count": 2,
   "id": "e11f55bd-5c1b-461b-a027-912d92959ba3",
   "metadata": {},
   "outputs": [],
   "source": [
    "#define the root path for the project directory\n",
    "data_path = '/glade/scratch/cwpowell/Synthetic_ensemble/'\n",
    "\n",
    "#define the mid-month dates to be used across all datasets\n",
    "CLIVAR = xr.open_dataset(data_path+'/SIA/SIA_SIE_SIV/CLIVAR_SIA_1850_2100_RCP85.nc')\n",
    "CLIVAR_time = CLIVAR['time'].sel(time=slice('1979','2020'))"
   ]
  },
  {
   "cell_type": "markdown",
   "id": "291ffade-4823-4915-85db-76726d84e458",
   "metadata": {},
   "source": [
    "# NSIDC CDR Version 4\n",
    "## Exclude non-sea ice data and interpolate missing months"
   ]
  },
  {
   "cell_type": "code",
   "execution_count": 3,
   "id": "216e7d10-90ad-4439-b973-6a8403a530d0",
   "metadata": {},
   "outputs": [],
   "source": [
    "#load all monthly files into a single xarray dataset and correct time dimension\n",
    "warnings.filterwarnings(\"ignore\", 'variable ') #surpress warnings as the non-stantard time produces an error but is resolved during opening of dataset\n",
    "\n",
    "all_CDR_data = []\n",
    "\n",
    "for file in glob.glob(data_path+'Raw_data/observations/NSIDC_CDR_v4/seaice_conc_monthly_nh*'):\n",
    "    all_CDR_data.append(xr.open_dataset(file))\n",
    "    \n",
    "all_CDR_xr = xr.concat((all_CDR_data), dim='tdim') #concatenate all of the monthly files into a single xarray dataaray for all dates\n",
    "\n",
    "all_CDR_xr = all_CDR_xr.rename({'tdim':'time', 'y':'ygrid', 'x':'xgrid'}) #rename dimension so they match coordinates\n",
    "\n",
    "all_CDR_xr = all_CDR_xr.sortby(all_CDR_xr['time']) #sort by time dimension, files were loaded in a random order\n",
    "\n",
    "all_CDR_xr['time'] = CLIVAR_time #replace the time dimension with numpy.datetime64 objects for mid-month"
   ]
  },
  {
   "cell_type": "code",
   "execution_count": 4,
   "id": "40d4ab1e-27ed-459c-adee-b5d8be7e7216",
   "metadata": {},
   "outputs": [],
   "source": [
    "#set all non-sea ice to np.nan\n",
    "CDR = all_CDR_xr['cdr_seaice_conc_monthly'].where(all_CDR_xr['cdr_seaice_conc_monthly']<1.1) #exclude land and coastal grid points - values <2.5\n",
    "BT  = all_CDR_xr['nsidc_bt_seaice_conc_monthly'].where(all_CDR_xr['nsidc_bt_seaice_conc_monthly']<1.1) \n",
    "NT  = all_CDR_xr['nsidc_nt_seaice_conc_monthly'].where(all_CDR_xr['nsidc_nt_seaice_conc_monthly']<1.1) "
   ]
  },
  {
   "cell_type": "code",
   "execution_count": 5,
   "id": "d79eae10-ec4c-41eb-82b9-3c96802660bc",
   "metadata": {},
   "outputs": [],
   "source": [
    "#for filling values of 1984-07, 1987-12 and 1988-01 the following years (1985-07, 1988-12 and 1989-01)\n",
    "#were found to be closest to the year with the missing values for other months of the year\n",
    "filled = []\n",
    "\n",
    "for data_var in [CDR, BT, NT]: #loop through all 3 datasets\n",
    "    CDR_xr_1984_07 = data_var.sel(time='1985-07').copy()\n",
    "    CDR_xr_1984_07['time'] = xr.DataArray(data = CLIVAR_time.sel(time='1984-07').values, coords={'time': CLIVAR_time.sel(time='1984-07').values}, dims=['time'])\n",
    "    \n",
    "    CDR_xr_1987_12 = data_var.sel(time='1988-12').copy()\n",
    "    CDR_xr_1987_12['time'] = xr.DataArray(data = CLIVAR_time.sel(time='1987-12').values, coords={'time': CLIVAR_time.sel(time='1987-12').values}, dims=['time'])\n",
    "    \n",
    "    CDR_xr_1988_01 = data_var.sel(time='1989-01').copy()\n",
    "    CDR_xr_1988_01['time'] = xr.DataArray(data = CLIVAR_time.sel(time='1988-01').values, coords={'time': CLIVAR_time.sel(time='1988-01').values}, dims=['time'])\n",
    "\n",
    "    filled.append(xr.concat((data_var.sel(time=slice('1979-01','1984-06')), CDR_xr_1984_07, data_var.sel(time=slice('1984-08','1987-11')), \n",
    "                             CDR_xr_1987_12, CDR_xr_1988_01, data_var.sel(time=slice('1988-02','2020-12'))), dim='time'))"
   ]
  },
  {
   "cell_type": "code",
   "execution_count": 6,
   "id": "2956e165-4d93-449b-afca-0e8b14207c20",
   "metadata": {},
   "outputs": [],
   "source": [
    "#save interpolated SIC to NetCDF\n",
    "CDR_filled = xr.Dataset({'CDR':filled[0], 'BT':filled[1], 'NT':filled[2]})\n",
    "\n",
    "CDR_filled.attrs = {'Description': 'Arctic sea ice concentration (SIC) from the Climate Data Record (CDR), NASA Team (NT) and NASA Boostrap (BT). All months 1979-2020, missing data (1984-07, 1987-12, 1988-01) filled with data from the following years (1985-07, 1988-12, 1989-01) as the following year SIA is closer than the preceeding year SIA for the months with data adjacent to the missing months.', \n",
    "                    'Units'      : 'million square km',\n",
    "                    'Timestamp'  : str(datetime.datetime.utcnow().strftime(\"%H:%M UTC %a %Y-%m-%d\")),\n",
    "                    'Data source': 'NOAA/NSIDC Climate Data Record of Passive Microwave Sea Ice Concentration, Version 4, doi:10.7265/efmz-2t65.',\n",
    "                    'Analysis'   : 'https://github.com/chrisrwp/synthetic-ensemble/SIA/SIA_calculations_observations.ipynb'}\n",
    "\n",
    "CDR_filled.to_netcdf(data_path+'Raw_data/observations/NSIDC_CDR_v4/SIC_CDR_BT_NT_79-20_filled.nc')"
   ]
  },
  {
   "cell_type": "markdown",
   "id": "500a9bf4-6fe0-46eb-861b-cb7a4c03315f",
   "metadata": {},
   "source": [
    "## Calculate SIA, SIE from interpolated SIC"
   ]
  },
  {
   "cell_type": "code",
   "execution_count": 15,
   "id": "a750a8e4-692a-4cc7-a7e9-b30275e3e3cb",
   "metadata": {},
   "outputs": [],
   "source": [
    "#calculate SIA\n",
    "CDR_SIA = CDR_filled.sum('xgrid').sum('ygrid')*625/1e6 #each grid cell is 25x25 km\n",
    "\n",
    "#calculate SIE\n",
    "CDR_SIE = {}\n",
    "for var_ in ['CDR', 'BT', 'NT']:\n",
    "    ones_zeros = np.where(CDR_filled[var_]>0.15, np.ones(np.shape(CDR_filled[var_])), np.zeros(np.shape(CDR_filled[var_])))\n",
    "    CDR_SIE[var_] = np.sum(ones_zeros, axis=(1,2))*625/1e6"
   ]
  },
  {
   "cell_type": "code",
   "execution_count": 16,
   "id": "810c1289-c93e-4144-a8f1-682991540efe",
   "metadata": {},
   "outputs": [],
   "source": [
    "#combine all the calculations into a single dataset and save to NetCDF\n",
    "\n",
    "CDR_SIA_SIE = xr.Dataset(data_vars = {'CDR_SIA':(('time'), CDR_SIA['CDR']),\n",
    "                                      'BT_SIA':(('time'), CDR_SIA['BT']),\n",
    "                                      'NT_SIA':(('time'), CDR_SIA['NT']),\n",
    "                                      'CDR_SIE':(('time'), CDR_SIE['CDR']),\n",
    "                                      'BT_SIE':(('time'), CDR_SIE['BT']),\n",
    "                                      'NT_SIE':(('time'), CDR_SIE['NT'])},\n",
    "                         coords    = {'time': CDR_SIA['time']})\n",
    "\n",
    "CDR_SIA_SIE.attrs = {'Description': 'Arctic sea ice area (SIA) and sea ice extent (SIE) from the Climate Data Record (CDR), NASA Team (NT) and NASA Boostrap (BT). All months 1979-2020, missing data (1984-07, 1987-12, 1988-01) are filled with the following year (1985-07, 1988-12, 1989-01).', \n",
    "                     'Units'      : 'million square km',\n",
    "                     'Timestamp'  : str(datetime.datetime.utcnow().strftime(\"%H:%M UTC %a %Y-%m-%d\")),\n",
    "                     'Data source': 'NOAA/NSIDC Climate Data Record of Passive Microwave Sea Ice Concentration, Version 4, doi:10.7265/efmz-2t65.',\n",
    "                     'Analysis'   : 'https://github.com/chrisrwp/synthetic-ensemble/SIA/SIA_calculations_observations.ipynb'}\n",
    "\n",
    "CDR_SIA_SIE.to_netcdf(data_path+'Raw_data/observations/NSIDC_CDR_v4/SIA_SIE_CDR_BT_NT_79-20_filled.nc')"
   ]
  },
  {
   "cell_type": "markdown",
   "id": "4a64728f-193a-4137-876c-88fe0226627c",
   "metadata": {},
   "source": [
    "## Calculate the SIA and SIE of the pole hole for use with SII"
   ]
  },
  {
   "cell_type": "code",
   "execution_count": 20,
   "id": "e8366287-d47f-4405-bcb0-f74ed20f978a",
   "metadata": {},
   "outputs": [],
   "source": [
    "#make mask of 1 for pole hole, 0 for not pole hole for the 3 sizes of pole holes\n",
    "warnings.filterwarnings(\"ignore\", 'variable ')\n",
    "\n",
    "#pole hole valid for 1978-10 to 1987-07\n",
    "qa_1979_01 = xr.open_dataset(data_path+'Raw_data/observations/NSIDC_CDR_v4/seaice_conc_monthly_nh_197901_n07_v04r00.nc')\n",
    "qa_1979_01 = qa_1979_01['qa_of_cdr_seaice_conc_monthly'].where(qa_1979_01['qa_of_cdr_seaice_conc_monthly']==47,0)\n",
    "ph_1987_07 = qa_1979_01.where(qa_1979_01==0,1)\n",
    "\n",
    "#pole hole valid for 1987-07 to 2007-12\n",
    "qa_1988_09 = xr.open_dataset(data_path+'Raw_data/observations/NSIDC_CDR_v4/seaice_conc_monthly_nh_198809_f08_v04r00.nc')\n",
    "qa_1988_09 = qa_1988_09['qa_of_cdr_seaice_conc_monthly'].where(qa_1988_09['qa_of_cdr_seaice_conc_monthly']==47,0)\n",
    "ph_2007_12 = qa_1988_09.where(qa_1988_09==0,1)\n",
    "\n",
    "#pole hole valid for 2008-01 to present\n",
    "qa_2008_09 = xr.open_dataset(data_path+'Raw_data/observations/NSIDC_CDR_v4/seaice_conc_monthly_nh_200809_f17_v04r00.nc')\n",
    "qa_2008_09 = qa_2008_09['qa_of_cdr_seaice_conc_monthly'].where(qa_2008_09['qa_of_cdr_seaice_conc_monthly']==47,0)\n",
    "ph_current = qa_2008_09.where(qa_2008_09==0,1)"
   ]
  },
  {
   "cell_type": "code",
   "execution_count": 21,
   "id": "5d1449b5-8163-467a-8a93-bce4ef1394ae",
   "metadata": {},
   "outputs": [],
   "source": [
    "#calculate the SIA of the pole hole - using the edge interpolated data\n",
    "#each grid cell is 25x25 km so 125/1000000 million square km\n",
    "\n",
    "#from the interpolated CDR data only select the grid cells containing the pole hole\n",
    "ph_SIA_1987_07 = (CDR_filled.sel(time=slice('1979-01','1987-07')) * ph_1987_07.values).sum('xgrid').sum('ygrid')*625*1e-6\n",
    "ph_SIA_2007_12 = (CDR_filled.sel(time=slice('1987-08','2007-12')) * ph_2007_12.values).sum('xgrid').sum('ygrid')*625*1e-6\n",
    "ph_SIA_present = (CDR_filled.sel(time=slice('2008-01','2020-12')) * ph_current.values).sum('xgrid').sum('ygrid')*625*1e-6\n",
    "\n",
    "#SIE of pole hole is just the area of the pole hole\n",
    "                  #1978-11--1987-07, 1987-08--2007-12, 2008-01--present\n",
    "#pole_hole_SIE = [1.19,              0.31,             0.029]\n",
    "\n",
    "ph_SIE_1987_07 = (ph_SIA_1987_07['CDR'] * 0) + 1.19\n",
    "ph_SIE_2007_12 = (ph_SIA_2007_12['CDR'] * 0) + 0.31\n",
    "ph_SIE_present = (ph_SIA_present['CDR'] * 0) + 0.029"
   ]
  },
  {
   "cell_type": "code",
   "execution_count": 22,
   "id": "10bf6c12-ac34-4ee3-9c41-0b44044312b4",
   "metadata": {},
   "outputs": [],
   "source": [
    "#combine the data into a single dataset and save to NetCDF\n",
    "ph_SIA = xr.concat((ph_SIA_1987_07, ph_SIA_2007_12, ph_SIA_present), dim='time')\n",
    "ph_SIE = xr.concat((ph_SIE_1987_07, ph_SIE_2007_12, ph_SIE_present), dim='time')\n",
    "\n",
    "ph_SIA_SIE = xr.Dataset({'CDR_SIA':ph_SIA['CDR'], 'BT_SIA':ph_SIA['BT'], 'NT_SIA':ph_SIA['NT'] ,'SIE':ph_SIE})\n",
    "\n",
    "ph_SIA_SIE.attrs = {'Description': 'Arctic sea ice area (SIA) and sea ice extent (SIE) of the pole hole from NOAA/NSIDC Climate Data Record of Passive Microwave Sea Ice Concentration, Version 4. All months 1979-2020.', \n",
    "                    'Units'      : 'million square km',\n",
    "                    'Timestamp'  : str(datetime.datetime.utcnow().strftime(\"%H:%M UTC %a %Y-%m-%d\")),\n",
    "                    'Data source': 'NOAA/NSIDC Climate Data Record of Passive Microwave Sea Ice Concentration, Version 4, doi:10.7265/efmz-2t65.',\n",
    "                    'Analysis'   : 'https://github.com/chrisrwp/synthetic-ensemble/SIA/SIA_calculations_observations.ipynb'}\n",
    "\n",
    "ph_SIA_SIE.to_netcdf(data_path+'Raw_data/observations/NSIDC_CDR_v4/pole_hole_SIA_edge_CDR_BT_NT_79-20.nc')"
   ]
  },
  {
   "cell_type": "markdown",
   "id": "38e77a52-a7a8-44af-827d-ea70c1d77d67",
   "metadata": {},
   "source": [
    "# HadISST 1 \n",
    "\n",
    "## Reduce the dataset to 1979-2020 >30N and replace 2009-03 with 2007-03 and 2009-04 with 2008-04\n",
    "N.B. March and April 2009 have a large drops in SIA and SIE (notably large negative SIC anomalies in Hudson Bay, Labrador Sea and sea of Okhotsk), this discontinutiy is not shown in other datasets."
   ]
  },
  {
   "cell_type": "code",
   "execution_count": 4,
   "id": "0d1bb1e9-ee4d-42bb-ba4e-8a375caab9f2",
   "metadata": {},
   "outputs": [],
   "source": [
    "HadISST1 = xr.open_dataset(data_path+'Raw_data/observations/HadISST/HadISST_ice.nc') #open the raw dataset\n",
    "\n",
    "HadISST1_30N = HadISST1['sic'].sel(time=slice('1979','2020')).where(HadISST1['latitude']>30, drop=True) #select 1979-2020 and the area above 30N\n",
    "HadISST1_30N['time'] = CLIVAR_time #adjust the time of mid-month to exactly match the time in the CLIVAR models\n",
    "\n",
    "HadISST1_30N.to_netcdf(data_path+'Raw_data/observations/HadISST/HadISST1_NH_79-20.nc') #save to NetCDF"
   ]
  },
  {
   "cell_type": "code",
   "execution_count": 66,
   "id": "48d0ea4e-32d7-48ec-aceb-44ab9ff44070",
   "metadata": {},
   "outputs": [],
   "source": [
    "#fill the spurious data with the most appropriate nearby year's data\n",
    "HadISST1_2009_03 = HadISST1_30N['sic'].sel(time='2007-03').copy()\n",
    "HadISST1_2009_03['time'] = xr.DataArray(data = CLIVAR_time.sel(time='2009-03').values, coords={'time': CLIVAR_time.sel(time='2009-03').values}, dims=['time'])\n",
    "\n",
    "HadISST1_2009_04 = HadISST1_30N['sic'].sel(time='2008-04').copy()\n",
    "HadISST1_2009_04['time'] = xr.DataArray(data = CLIVAR_time.sel(time='2009-04').values, coords={'time': CLIVAR_time.sel(time='2009-04').values}, dims=['time'])\n",
    "\n",
    "HadISST1_30N_correct = xr.concat((HadISST1_30N['sic'].sel(time=slice('1979','2009-02')), HadISST1_2009_03, HadISST1_2009_04, \n",
    "                                  HadISST1_30N['sic'].sel(time=slice('2009-05','2020'))), dim='time')\n",
    "\n",
    "#save this corrected data to NetCDF\n",
    "HadISST1_30N_correct.to_netcdf(data_path+'Raw_data/observations/HadISST/HadISST1_NH_79-20_filled.nc') #save to NetCDF"
   ]
  },
  {
   "cell_type": "markdown",
   "id": "c4d22f1a-bf8d-4eaa-b91a-f92ec9313db7",
   "metadata": {},
   "source": [
    "## From the corrected dataset and area file, compute the SIA and SIE\n",
    "N.B. Concentrations <0.15 are set to 0 this will affect SIA but not SIE"
   ]
  },
  {
   "cell_type": "code",
   "execution_count": 72,
   "id": "cd7c8282-cf7f-44eb-8ed8-605952de269c",
   "metadata": {},
   "outputs": [],
   "source": [
    "#open area file created from: cdo gridarea -selgrid,2 HadISST_ice.nc HadISST_ice_area.nc\n",
    "HadISST1_areas = xr.open_dataset(data_path+'Raw_data/observations/HadISST/HadISST_ice_area.nc')\n",
    "HadISST1_areas_NH = HadISST1_areas['cell_area'].where(HadISST1_areas['latitude']>30,drop=True) #select >30N"
   ]
  },
  {
   "cell_type": "code",
   "execution_count": 73,
   "id": "add72cdb-8bc4-4f1a-bf9e-1cc4f8a88b63",
   "metadata": {},
   "outputs": [],
   "source": [
    "#compute SIA and SIE\n",
    "NH_SIA = (HadISST1_30N_correct * HadISST1_areas_NH / 1e12).sum('latitude').sum('longitude') \n",
    "NH_SIE = HadISST1_areas_NH.where(HadISST1_30N_correct>=0.15,0).sum('latitude').sum('longitude') / 1e12\n",
    "\n",
    "#save calculations to NetCDF\n",
    "HadISST1_SIA_SIE = xr.Dataset({'SIA' : NH_SIA, 'SIE' : NH_SIE})\n",
    "\n",
    "HadISST1_SIA_SIE.attrs = {'Description': 'Arctic sea ice area (SIA) and sea ice extent (SIE) from HadISST1 for all months 1979-2020, calculated using a grid area file from CDO. Note large negative SIE and SIA anomalies for 2009-03 and 2009-04 are filled with 2007-03 and 2008-04 values.', \n",
    "                          'Units'      : 'million square km',\n",
    "                          'Timestamp'  : str(datetime.datetime.utcnow().strftime(\"%H:%M UTC %a %Y-%m-%d\")),\n",
    "                          'Data source': 'Hadley Centre Sea Ice and Sea Surface Temperature data set (HadISST), doi:10.1029/2002JD002670',\n",
    "                          'Analysis'   : 'https://github.com/chrisrwp/synthetic-ensemble/SIA/SIA_calculations_observations.ipynb'}\n",
    "\n",
    "HadISST1_SIA_SIE.to_netcdf(data_path+'Raw_data/observations/HadISST/HadISST1_SIA_SIE_79-20_filled.nc')"
   ]
  },
  {
   "cell_type": "markdown",
   "id": "47c0d818-6a11-4591-bc63-30150abb4d3f",
   "metadata": {},
   "source": [
    "# HadISST2.2.0.0 - Not currently used, data beyond 2020-08 is missing"
   ]
  },
  {
   "cell_type": "code",
   "execution_count": 163,
   "id": "92f1a859-8120-4159-93f4-4787f10c5f4f",
   "metadata": {},
   "outputs": [],
   "source": [
    "# HadISST2 = xr.open_dataset(data_path+'Raw_data/observations/HadISST2/HadISST.2.2.0.0_sea_ice_concentration.nc')\n",
    "# HadISST2_79_20 = HadISST2['sic'].sel(time=slice('1979','2020')).where(HadISST2['latitude']>30, drop=True)"
   ]
  },
  {
   "cell_type": "markdown",
   "id": "d7b466f8-b127-4a3d-9d9e-a05301086359",
   "metadata": {},
   "source": [
    "# Merged Hadley-OI\n",
    "## Make a reduced dataset for 1979-2020, fill land with `np.nan` using land mask from HadISST1"
   ]
  },
  {
   "cell_type": "code",
   "execution_count": 5,
   "id": "72de8486-df7d-487d-b625-86ad8ad584ca",
   "metadata": {},
   "outputs": [],
   "source": [
    "#open the dataset\n",
    "Merged = xr.open_dataset(data_path+'Raw_data/observations/merged_Hadley_OI/MODEL.ICE.HAD187001-198110.OI198111-202103.nc')\n",
    "Merged_30N = Merged['SEAICE'].sel(time=slice('1979','2020')).where(Merged['lat']>30,drop=True)\n",
    "\n",
    "#change lat and lon dimension to match HadISST1\n",
    "Merged_new_coords = Merged_30N.copy()\n",
    "Merged_new_coords['lon'] = np.where(Merged_30N['lon']<180, Merged_30N['lon'], Merged_30N['lon']-360)\n",
    "Merged_new_coords_reversed = Merged_new_coords.sortby('lon')\n",
    "Merged_new_coords_reversed = Merged_new_coords_reversed.transpose('lat', 'lon', 'time')\n",
    "Merged_new_coords_reversed = Merged_new_coords_reversed.rename({'lat':'latitude', 'lon':'longitude'})\n",
    "\n",
    "#maks the land using HadISST1 np.nan values\n",
    "HadISST1_30N = xr.open_dataset(data_path+'Raw_data/observations/HadISST/HadISST1_NH_79-20.nc') \n",
    "Merged_nans = Merged_new_coords_reversed.where(HadISST1_30N>-1)\n",
    "#correct time to standard mid-month\n",
    "Merged_nans['time'] = CLIVAR_time"
   ]
  },
  {
   "cell_type": "markdown",
   "id": "0a8deb68-3b94-47ed-894e-62ef956d395a",
   "metadata": {},
   "source": [
    "## Correct spurious dates:\n",
    "- 2009-02 to 2010-02\n",
    "- 2009-03 to 2007-03 (similarly to HadISST1)\n",
    "- 2009-04 to 2008-04 (similarly to HadISST1)\n",
    "- 2009-05 to 2010-05"
   ]
  },
  {
   "cell_type": "code",
   "execution_count": 49,
   "id": "73872aaf-5c5b-4457-9acd-cb8e3c2e4ee7",
   "metadata": {},
   "outputs": [],
   "source": [
    "#fill the spurious data with nearby year's data\n",
    "merged_2009_02 = Merged_nans['sic'].sel(time='2010-02').copy()\n",
    "merged_2009_02['time'] = xr.DataArray(data = CLIVAR_time.sel(time='2009-02').values, coords={'time': CLIVAR_time.sel(time='2009-02').values}, dims=['time'])\n",
    "\n",
    "merged_2009_03 = Merged_nans['sic'].sel(time='2007-03').copy()\n",
    "merged_2009_03['time'] = xr.DataArray(data = CLIVAR_time.sel(time='2009-03').values, coords={'time': CLIVAR_time.sel(time='2009-03').values}, dims=['time'])\n",
    "\n",
    "merged_2009_04 = Merged_nans['sic'].sel(time='2008-04').copy()\n",
    "merged_2009_04['time'] = xr.DataArray(data = CLIVAR_time.sel(time='2009-04').values, coords={'time': CLIVAR_time.sel(time='2009-04').values}, dims=['time'])\n",
    "\n",
    "merged_2009_05 = Merged_nans['sic'].sel(time='2010-05').copy()\n",
    "merged_2009_05['time'] = xr.DataArray(data = CLIVAR_time.sel(time='2009-05').values, coords={'time': CLIVAR_time.sel(time='2009-05').values}, dims=['time'])\n",
    "\n",
    "merged_correct = xr.concat((Merged_nans['sic'].sel(time=slice('1979','2009-01')), merged_2009_02, merged_2009_03, merged_2009_04, merged_2009_05, \n",
    "                            Merged_nans['sic'].sel(time=slice('2009-06','2020'))), dim='time')"
   ]
  },
  {
   "cell_type": "code",
   "execution_count": 50,
   "id": "f5fd34ab-3395-4424-907f-a2dfdc6b5339",
   "metadata": {},
   "outputs": [],
   "source": [
    "#save the corrected SIC file to NetCDF\n",
    "merged_correct.attrs = {'Description': 'Arctic sea ice concentration (SIC) from Merged Hadley-OI for all months 1979-2020, land masked using HadISST1 land mask. 2009-03 replaced with 2007-03 and 2009-04 replaced with 2008-04 due to spurious data.', \n",
    "                        'Units'      : 'million square km',\n",
    "                        'Timestamp'  : str(datetime.datetime.utcnow().strftime(\"%H:%M UTC %a %Y-%m-%d\")),\n",
    "                        'Data source': 'Merged Hadley-OI sea surface temperature and sea ice concentration data set, version 2.0, doi:10.5065/r33v-sv91',\n",
    "                        'Analysis'   : 'https://github.com/chrisrwp/synthetic-ensemble/SIA/SIA_calculations_observations.ipynb'}\n",
    "\n",
    "merged_correct.to_netcdf(data_path+'Raw_data/observations/merged_Hadley_OI/merged_Hadley_OI_SIC_79-20.nc')"
   ]
  },
  {
   "cell_type": "markdown",
   "id": "1a64f188-bdf3-4e96-81b9-e0f273b763a4",
   "metadata": {},
   "source": [
    "## Calculate SIA and SIE"
   ]
  },
  {
   "cell_type": "code",
   "execution_count": 52,
   "id": "efa07c42-9e35-4551-8fb1-45bf6bcd30b3",
   "metadata": {},
   "outputs": [],
   "source": [
    "#use the same area file as for HadISST1 \n",
    "Merged_areas = xr.open_dataset(data_path+'Raw_data/observations/HadISST/HadISST_ice_area.nc')\n",
    "Merged_areas_NH = Merged_areas['cell_area'].where(Merged_areas['latitude']>30,drop=True) #select >30N\n",
    "\n",
    "#compute SIA and SIE\n",
    "NH_SIA = (merged_correct * Merged_areas_NH.sortby('latitude')).sum('latitude').sum('longitude') / 1e14 #divide by 1e14 from % m2 to million km2\n",
    "NH_SIE = Merged_areas_NH.sortby('latitude').where(merged_correct>=15,0).sum('latitude').sum('longitude') / 1e12\n",
    "\n",
    "#save calculations to NetCDF\n",
    "Merged_SIA_SIE = xr.Dataset({'SIA':NH_SIA, 'SIE':NH_SIE})\n",
    "\n",
    "Merged_SIA_SIE.attrs = {'Description': 'Arctic sea ice area (SIA) and sea ice extent (SIE) from Merged Hadley-OI for all months 1979-2020, calculated using a grid area file from CDO. 2009-03 replaced with 2007-03 and 2009-04 replaced with 2008-04 due to spurious data.', \n",
    "                        'Units'      : 'million square km',\n",
    "                        'Timestamp'  : str(datetime.datetime.utcnow().strftime(\"%H:%M UTC %a %Y-%m-%d\")),\n",
    "                        'Data source': 'Merged Hadley-OI sea surface temperature and sea ice concentration data set, version 2.0, doi:10.5065/r33v-sv91',\n",
    "                        'Analysis'   : 'https://github.com/chrisrwp/synthetic-ensemble/SIA/SIA_calculations_observations.ipynb'}\n",
    "\n",
    "Merged_SIA_SIE.to_netcdf(data_path+'Raw_data/observations/merged_Hadley_OI/merged_Hadley_OI_SIA_SIE_79-20.nc')"
   ]
  },
  {
   "cell_type": "markdown",
   "id": "7a5d1e93-9be1-4297-944e-704545cb7607",
   "metadata": {},
   "source": [
    "# NSIDC Sea Ice Index V3\n",
    "**N.B. Uses NASA Team (NT) algorithm data**\n",
    "- Set pole hole to the concentration found in NT (SIC of the surrounding grid cells to the edge)\n",
    "- Use following years to fill missing data for 1987-12, 1988-01, 1987-08 filled from % change fron NT SIC calculations"
   ]
  },
  {
   "cell_type": "code",
   "execution_count": 12,
   "id": "4af5953c-f826-46a5-bbd3-5d773d7a8630",
   "metadata": {},
   "outputs": [],
   "source": [
    "#load all CSV files into xarray objects and assign coordinates\n",
    "SIA_list = []\n",
    "SIE_list = []\n",
    "\n",
    "for i in np.arange(1,13):\n",
    "    SII_month = xr.Dataset(pd.read_csv(data_path+'Raw_data/observations/NSIDC_sea_ice_index_v3/N_{}_extent_v3.0.csv'.format(str(i).zfill(2))))\n",
    "    SII_month_SIA = SII_month['   area'].where(SII_month['   area']>0) #set missing values from -9999 to np.nan\n",
    "    SII_month_SIE = SII_month[' extent'].where(SII_month[' extent']>0)\n",
    "    \n",
    "    SII_month_SIA['dim_0'] = np.arange('{}-{}'.format(SII_month['year'].min().values, str(i).zfill(2)), '{}-{}'.format(SII_month['year'].max().values+1, str(i).zfill(2)), \n",
    "                                       np.timedelta64(1,'Y'), dtype='datetime64[M]')\n",
    "    SIA_list.append(SII_month_SIA.rename({'dim_0':'time'}))\n",
    "    \n",
    "    SII_month_SIE['dim_0'] = np.arange('{}-{}'.format(SII_month['year'].min().values, str(i).zfill(2)), '{}-{}'.format(SII_month['year'].max().values+1, str(i).zfill(2)), \n",
    "                                       np.timedelta64(1,'Y'), dtype='datetime64[M]')\n",
    "    SIE_list.append(SII_month_SIE.rename({'dim_0':'time'}))\n",
    "\n",
    "SIA_list_xr = xr.concat(SIA_list, dim='time')\n",
    "SIE_list_xr = xr.concat(SIE_list, dim='time')\n",
    "\n",
    "SIA_list_xr = SIA_list_xr.sortby('time') #change from ordered by month then year to chronological\n",
    "SIE_list_xr = SIE_list_xr.sortby('time')\n",
    "\n",
    "SIA_SIE_no_pole = xr.Dataset({'SIA': SIA_list_xr, 'SIE':SIE_list_xr})\n",
    "SIA_SIE_no_pole = SIA_SIE_no_pole.sel(time=slice('1979','2020'))\n",
    "\n",
    "SIA_SIE_no_pole['time'] = CLIVAR_time #adjust the times from start of month by default to mid-month"
   ]
  },
  {
   "cell_type": "code",
   "execution_count": 27,
   "id": "1fe70c35-4533-4dc5-a770-0d7902f8a95d",
   "metadata": {},
   "outputs": [],
   "source": [
    "#fill missing months using NT SIA and SIE data calculated from SIC\n",
    "ph_SIA_SIE = xr.open_dataset(data_path+'Raw_data/observations/NSIDC_CDR_v4/pole_hole_SIA_edge_CDR_BT_NT_79-20.nc')\n",
    "CDR_SIA_SIE = xr.open_dataset(data_path+'Raw_data/observations/NSIDC_CDR_v4/SIA_SIE_CDR_BT_NT_79-20_filled.nc')\n",
    "\n",
    "NT_SIA_no_ph = CDR_SIA_SIE['NT_SIA'] - ph_SIA_SIE['NT_SIA'] #calculate NT SIA without the pole hole to compare with original sea ice index data\n",
    "NT_SIE_no_ph = CDR_SIA_SIE['NT_SIE'] - ph_SIA_SIE['SIE'] \n",
    "\n",
    "#SIA filled\n",
    "SIA_no_pole_1987_08 = SIA_SIE_no_pole['SIA'].sel(time='1987-07').values * 1+((NT_SIA_no_ph.sel(time='1987-08').values - NT_SIA_no_ph.sel(time='1987-07').values) / NT_SIA_no_ph.sel(time='1986-07').values)\n",
    "SIA_no_pole_1987_08 = xr.DataArray(data = SIA_no_pole_1987_08, coords={'time': CLIVAR_time.sel(time='1987-08').values}, dims=['time'])\n",
    "\n",
    "SIA_no_pole_1987_12 = xr.DataArray(data = SIA_SIE_no_pole['SIA'].sel(time='1988-12').copy(), coords={'time': CLIVAR_time.sel(time='1987-12').values}, dims=['time'])\n",
    "\n",
    "SIA_no_pole_1988_01 = xr.DataArray(data = SIA_SIE_no_pole['SIA'].sel(time='1989-01').copy(), coords={'time': CLIVAR_time.sel(time='1988-01').values}, dims=['time'])\n",
    "\n",
    "SIA_interp_no_pole = xr.concat((SIA_SIE_no_pole['SIA'].sel(time=slice('1979-01','1987-07')), SIA_no_pole_1987_08, SIA_SIE_no_pole['SIA'].sel(time=slice('1987-09','1987-11')), \n",
    "                                SIA_no_pole_1987_12, SIA_no_pole_1988_01, SIA_SIE_no_pole['SIA'].sel(time=slice('1988-02','2020-12'))), dim='time')\n",
    "\n",
    "#SIE filled\n",
    "SIE_no_pole_1987_12 = xr.DataArray(data = SIA_SIE_no_pole['SIE'].sel(time='1988-12').copy(), coords={'time': CLIVAR_time.sel(time='1987-12').values}, dims=['time'])\n",
    "SIE_no_pole_1988_01 = xr.DataArray(data = SIA_SIE_no_pole['SIE'].sel(time='1989-01').copy(), coords={'time': CLIVAR_time.sel(time='1988-01').values}, dims=['time'])\n",
    "\n",
    "SIE_interp_no_pole = xr.concat((SIA_SIE_no_pole['SIE'].sel(time=slice('1979-01','1987-11')), SIE_no_pole_1987_12, SIE_no_pole_1988_01, \n",
    "                                SIA_SIE_no_pole['SIE'].sel(time=slice('1988-02','2020-12'))), dim='time')"
   ]
  },
  {
   "cell_type": "code",
   "execution_count": 28,
   "id": "e6f64112-90f6-408f-a394-029c53730f9d",
   "metadata": {},
   "outputs": [],
   "source": [
    "#add the pole hole\n",
    "SIA_interp = SIA_interp_no_pole + ph_SIA_SIE['NT_SIA']\n",
    "SIE_interp = SIE_interp_no_pole + ph_SIA_SIE['SIE']\n",
    "\n",
    "SIA_SIE_interp_index = xr.Dataset({'SIA':SIA_interp, 'SIE':SIE_interp})"
   ]
  },
  {
   "cell_type": "code",
   "execution_count": 33,
   "id": "8aaaa1a4-8b3e-41d1-a1d3-838d8ec0901a",
   "metadata": {},
   "outputs": [],
   "source": [
    "#save the sea ice index to NetCDF\n",
    "SIA_SIE_interp_index.attrs = {'Description': 'Arctic sea ice area (SIA) and sea ice extent (SIE) including pole hole for NSIDC sea ice index vesion 3. All months 1979-2020, missing month 1987-08 filled from NOAA/NSIDC NT SIC data, 1987-12 and 1988-01 filled with data from the following (1988-12, 1989-01).', \n",
    "                              'Units'      : 'million square km',\n",
    "                              'Timestamp'  : str(datetime.datetime.utcnow().strftime(\"%H:%M UTC %a %Y-%m-%d\")),\n",
    "                              'Data source': 'NSIDC Sea Ice Index, Version 3,  doi:10.7265/N5K072F8.',\n",
    "                              'Analysis'   : 'https://github.com/chrisrwp/synthetic-ensemble/SIA/SIA_calculations_observations.ipynb'}\n",
    "\n",
    "SIA_SIE_interp_index.to_netcdf(data_path+'Raw_data/observations/NSIDC_sea_ice_index_v3/NSIDC_sea_ice_index_SIA_SIE_79-20_filled_including_pole_hole.nc')"
   ]
  },
  {
   "cell_type": "markdown",
   "id": "c0c3a15e-bb5f-48ca-a275-0d721301f3b8",
   "metadata": {},
   "source": [
    "# Compare all SIA and SIE from the different datasets"
   ]
  },
  {
   "cell_type": "code",
   "execution_count": 53,
   "id": "2b6f7a09-6fc7-49ef-94a0-8b6ca40ee429",
   "metadata": {},
   "outputs": [],
   "source": [
    "#open the SIA and SIE data sets\n",
    "CDR_SIA_SIE.close()\n",
    "SIA_SIE_interp_index.close()\n",
    "HadISST1_SIA_SIE.close()\n",
    "Merged_SIA_SIE.close()\n",
    "\n",
    "CDR_SIA_SIE = xr.open_dataset(data_path+'Raw_data/observations/NSIDC_CDR_v4/SIA_SIE_CDR_BT_NT_79-20_filled.nc')\n",
    "SIA_SIE_interp_index = xr.open_dataset(data_path+'Raw_data/observations/NSIDC_sea_ice_index_v3/NSIDC_sea_ice_index_SIA_SIE_79-20_filled_including_pole_hole.nc')\n",
    "HadISST1_SIA_SIE = xr.open_dataset(data_path+'Raw_data/observations/HadISST/HadISST1_SIA_SIE_79-20_filled.nc')\n",
    "Merged_SIA_SIE = xr.open_dataset(data_path+'Raw_data/observations/merged_Hadley_OI/merged_Hadley_OI_SIA_SIE_79-20.nc')"
   ]
  },
  {
   "cell_type": "code",
   "execution_count": 54,
   "id": "0c603cbd-052e-4ae9-9249-f19f9cf63da2",
   "metadata": {},
   "outputs": [],
   "source": [
    "#compute the average from all data sets\n",
    "average_SIA = (CDR_SIA_SIE['CDR_SIA'] + CDR_SIA_SIE['NT_SIA'] + CDR_SIA_SIE['BT_SIA'] + SIA_SIE_interp_index['SIA'] + HadISST1_SIA_SIE['SIA'] + Merged_SIA_SIE['SIA']) / 6\n",
    "average_SIE = (CDR_SIA_SIE['CDR_SIE'] + CDR_SIA_SIE['NT_SIE'] + CDR_SIA_SIE['BT_SIE'] + SIA_SIE_interp_index['SIE'] + HadISST1_SIA_SIE['SIE'] + Merged_SIA_SIE['SIE']) / 6"
   ]
  },
  {
   "cell_type": "code",
   "execution_count": 30,
   "id": "8d820f7d-cc0b-4ebb-b7a6-6396505e4574",
   "metadata": {},
   "outputs": [],
   "source": [
    "import matplotlib.pyplot as plt\n",
    "month_list = ['January', 'February', 'March', 'April', 'May', 'June', 'July', \n",
    "              'August', 'September', 'October', 'November', 'December']"
   ]
  },
  {
   "cell_type": "code",
   "execution_count": 59,
   "id": "797d3fd2-62fb-4496-b4f1-0a5cc96ba593",
   "metadata": {},
   "outputs": [],
   "source": [
    "#plot a single month time series of SIA or SIE\n",
    "month_ = 3 \n",
    "SIE_SIA = 'A'\n",
    "\n",
    "plt.figure(figsize=[10,5])\n",
    "CDR_SIA_SIE['CDR_SI{}'.format(SIE_SIA)].sel(time=CDR_SIA_SIE['time.month']==month_).plot(label='CDR')\n",
    "CDR_SIA_SIE['BT_SI{}'.format(SIE_SIA)].sel(time=CDR_SIA_SIE['time.month']==month_).plot(label='BT')\n",
    "CDR_SIA_SIE['NT_SI{}'.format(SIE_SIA)].sel(time=CDR_SIA_SIE['time.month']==month_).plot(label='NT')\n",
    "SIA_SIE_interp_index['SI{}'.format(SIE_SIA)].sel(time=SIA_SIE_interp_index['time.month']==month_).plot(label='SII')\n",
    "HadISST1_SIA_SIE['SI{}'.format(SIE_SIA)].sel(time=HadISST1_SIA_SIE['time.month']==month_).plot(label='HadISST1')\n",
    "Merged_SIA_SIE['SI{}'.format(SIE_SIA)].sel(time=Merged_SIA_SIE['time.month']==month_).plot(label='Hadley OI')\n",
    "\n",
    "average_SIA.sel(time=average_SIA['time.month']==month_).plot(label='Mean', c='k', linewidth=2)\n",
    "\n",
    "plt.legend(fontsize=12)\n",
    "plt.xlim(np.datetime64('1979-01'), np.datetime64('2020-12'))\n",
    "plt.xticks(fontsize=12)\n",
    "plt.xlabel('Time', fontsize=16)\n",
    "\n",
    "plt.ylabel(r'$SI{} \\ [10^6 \\ km^2]$'.format(SIE_SIA), fontsize=16)\n",
    "plt.yticks(fontsize=12)\n",
    "\n",
    "plt.title('{} SI{} 1979-2020'.format(month_list[month_-1], SIE_SIA), fontsize=18);"
   ]
  },
  {
   "cell_type": "code",
   "execution_count": 60,
   "id": "7435dbb8-a9f9-45a3-9afd-755c2ea40f64",
   "metadata": {},
   "outputs": [],
   "source": [
    "#plot a single month trend plot for all data sets\n",
    "month_ = 3 \n",
    "SIE_SIA = 'A'\n",
    "\n",
    "plt.figure(figsize=[10,5])\n",
    "\n",
    "coefs = np.polyfit(np.arange(1979,2021), CDR_SIA_SIE['CDR_SI{}'.format(SIE_SIA)].sel(time=CDR_SIA_SIE['time.month']==month_), 1)\n",
    "plt.plot(np.arange(1979,2021), np.arange(1979,2021)*coefs[0] + coefs[1], label='CDR')\n",
    "\n",
    "coefs = np.polyfit(np.arange(1979,2021), CDR_SIA_SIE['BT_SI{}'.format(SIE_SIA)].sel(time=CDR_SIA_SIE['time.month']==month_), 1)\n",
    "plt.plot(np.arange(1979,2021), np.arange(1979,2021)*coefs[0] + coefs[1], label='BT')\n",
    "\n",
    "coefs = np.polyfit(np.arange(1979,2021), CDR_SIA_SIE['NT_SI{}'.format(SIE_SIA)].sel(time=CDR_SIA_SIE['time.month']==month_), 1)\n",
    "plt.plot(np.arange(1979,2021), np.arange(1979,2021)*coefs[0] + coefs[1], label='NT')\n",
    "\n",
    "coefs = np.polyfit(np.arange(1979,2021), SIA_SIE_interp_index['SI{}'.format(SIE_SIA)].sel(time=SIA_SIE_interp_index['time.month']==month_), 1)\n",
    "plt.plot(np.arange(1979,2021), np.arange(1979,2021)*coefs[0] + coefs[1], label='SII')\n",
    "\n",
    "coefs = np.polyfit(np.arange(1979,2021), HadISST1_SIA_SIE['SI{}'.format(SIE_SIA)].sel(time=SIA_SIE_interp_index['time.month']==month_), 1)\n",
    "plt.plot(np.arange(1979,2021), np.arange(1979,2021)*coefs[0] + coefs[1], label='HadISST1')\n",
    "\n",
    "coefs = np.polyfit(np.arange(1979,2021), Merged_SIA_SIE['SI{}'.format(SIE_SIA)].sel(time=SIA_SIE_interp_index['time.month']==month_), 1)\n",
    "plt.plot(np.arange(1979,2021), np.arange(1979,2021)*coefs[0] + coefs[1], label='Hadely IO')\n",
    "\n",
    "coefs = np.polyfit(np.arange(1979,2021), average_SIA.sel(time=average_SIA['time.month']==month_), 1)\n",
    "plt.plot(np.arange(1979,2021), np.arange(1979,2021)*coefs[0] + coefs[1], label='Average', c='k', linewidth=2)\n",
    "\n",
    "\n",
    "plt.legend(fontsize=12)\n",
    "plt.xlim(1979,2020)\n",
    "plt.xticks(fontsize=12)\n",
    "plt.xlabel('Time', fontsize=16)\n",
    "\n",
    "plt.ylabel(r'$SI{} \\ [10^6 \\ km^2]$'.format(SIE_SIA), fontsize=16)\n",
    "plt.yticks(fontsize=12)\n",
    "\n",
    "plt.title('{} SI{} 1979-2020'.format(month_list[month_-1], SIE_SIA), fontsize=18);"
   ]
  },
  {
   "cell_type": "code",
   "execution_count": null,
   "id": "89640b62-ce8c-4156-9c1e-46dbea95f3e6",
   "metadata": {},
   "outputs": [],
   "source": [
    "#plot for all of months SIA or SIE time series\n",
    "\n",
    "s_y = [0,1,2,0,1,2,0,1,2,0,1,2] #axes counting\n",
    "s_x = [0,0,0,1,1,1,2,2,2,3,3,3]\n",
    "\n",
    "SIE_SIA = 'E' #select either E for extent or A for area\n",
    "\n",
    "if SIE_SIA == 'E':\n",
    "    str_name = 'Extent'\n",
    "    ave = average_SIE.copy()\n",
    "else:\n",
    "    str_name = 'Area'\n",
    "    ave = average_SIA.copy()\n",
    "\n",
    "fig, axes = plt.subplots(4,3,figsize=[19,12])\n",
    "\n",
    "for month_i, month_ in enumerate(np.arange(1,13,1)):\n",
    "    #for each month plot each of the datasets\n",
    "    CDR_SIA_SIE['CDR_SI{}'.format(SIE_SIA)].sel(time=CDR_SIA_SIE['time.month']==month_).plot(label='CDR', ax=axes[s_x[month_i]][s_y[month_i]])\n",
    "    CDR_SIA_SIE['BT_SI{}'.format(SIE_SIA)].sel(time=CDR_SIA_SIE['time.month']==month_).plot(label='BT', ax=axes[s_x[month_i]][s_y[month_i]])\n",
    "    CDR_SIA_SIE['NT_SI{}'.format(SIE_SIA)].sel(time=CDR_SIA_SIE['time.month']==month_).plot(label='NT', ax=axes[s_x[month_i]][s_y[month_i]])\n",
    "    SIA_SIE_interp_index['SI{}'.format(SIE_SIA)].sel(time=SIA_SIE_interp_index['time.month']==month_).plot(label='SII', ax=axes[s_x[month_i]][s_y[month_i]])\n",
    "    HadISST1_SIA_SIE['SI{}'.format(SIE_SIA)].sel(time=HadISST1_SIA_SIE['time.month']==month_).plot(label='HadISST1', ax=axes[s_x[month_i]][s_y[month_i]])\n",
    "    Merged_SIA_SIE['SI{}'.format(SIE_SIA)].sel(time=Merged_SIA_SIE['time.month']==month_).plot(label='Hadley OI', ax=axes[s_x[month_i]][s_y[month_i]])\n",
    "        \n",
    "    ave.sel(time=ave['time.month']==month_).plot(label='Mean', c='k', linewidth=2, ax=axes[s_x[month_i]][s_y[month_i]], linestyle='--')\n",
    "    \n",
    "    \n",
    "    axes[s_x[month_i]][s_y[month_i]].set_xlim(np.datetime64('1979-{}'.format(str(month_).zfill(2))), \n",
    "                                              np.datetime64('2020-{}'.format(str(month_).zfill(2)))) #set the x-axis limits\n",
    "    axes[s_x[month_i]][s_y[month_i]].set_title(month_list[month_-1], fontsize=16)\n",
    "    axes[s_x[month_i]][s_y[month_i]].set_xlabel('')\n",
    "    \n",
    "    if s_x[month_i] == 3:\n",
    "        axes[s_x[month_i]][s_y[month_i]].set_xlabel('Year', fontsize=14)\n",
    "    if s_y[month_i] == 0:\n",
    "        axes[s_x[month_i]][s_y[month_i]].set_ylabel(r'$Sea \\ Ice \\ {} \\ [10^6 \\ km^2]$'.format(str_name), fontsize=14)\n",
    "        \n",
    "    plt.tight_layout()\n",
    "    \n",
    "extra_legend = plt.legend(bbox_to_anchor=(1.2, 1), loc='upper center', borderaxespad=0, ncol=1, fontsize=14)\n",
    "plt.gca().add_artist(extra_legend);"
   ]
  },
  {
   "cell_type": "code",
   "execution_count": null,
   "id": "309458a2-7cb8-4b43-9dd8-0141072a742b",
   "metadata": {},
   "outputs": [],
   "source": [
    "#plot trends of SIA or SIE for all months\n",
    "s_y = [0,1,2,0,1,2,0,1,2,0,1,2]\n",
    "s_x = [0,0,0,1,1,1,2,2,2,3,3,3]\n",
    "\n",
    "SIE_SIA = 'A'\n",
    "\n",
    "if SIE_SIA == 'E':\n",
    "    str_name = 'Extent'\n",
    "    ave = average_SIE.copy()\n",
    "else:\n",
    "    str_name = 'Area'\n",
    "    ave = average_SIA.copy()\n",
    "\n",
    "fig, axes = plt.subplots(4,3,figsize=[19,12])\n",
    "\n",
    "for month_i, month_ in enumerate(np.arange(1,13,1)):\n",
    "    #for each month calculate the trend for each data set and plot it\n",
    "    coefs = np.polyfit(np.arange(1979,2021), CDR_SIA_SIE['CDR_SI{}'.format(SIE_SIA)].sel(time=CDR_SIA_SIE['time.month']==month_), 1)\n",
    "    axes[s_x[month_i]][s_y[month_i]].plot(np.arange(1979,2021), np.arange(1979,2021)*coefs[0] + coefs[1], label='CDR')\n",
    "\n",
    "    coefs = np.polyfit(np.arange(1979,2021), CDR_SIA_SIE['BT_SI{}'.format(SIE_SIA)].sel(time=CDR_SIA_SIE['time.month']==month_), 1)\n",
    "    axes[s_x[month_i]][s_y[month_i]].plot(np.arange(1979,2021), np.arange(1979,2021)*coefs[0] + coefs[1], label='BT')\n",
    "\n",
    "    coefs = np.polyfit(np.arange(1979,2021), CDR_SIA_SIE['NT_SI{}'.format(SIE_SIA)].sel(time=CDR_SIA_SIE['time.month']==month_), 1)\n",
    "    axes[s_x[month_i]][s_y[month_i]].plot(np.arange(1979,2021), np.arange(1979,2021)*coefs[0] + coefs[1], label='NT')\n",
    "\n",
    "    coefs = np.polyfit(np.arange(1979,2021), SIA_SIE_interp_index['SI{}'.format(SIE_SIA)].sel(time=SIA_SIE_interp_index['time.month']==month_), 1)\n",
    "    axes[s_x[month_i]][s_y[month_i]].plot(np.arange(1979,2021), np.arange(1979,2021)*coefs[0] + coefs[1], label='SII')\n",
    "\n",
    "    coefs = np.polyfit(np.arange(1979,2021), HadISST1_SIA_SIE['SI{}'.format(SIE_SIA)].sel(time=SIA_SIE_interp_index['time.month']==month_), 1)\n",
    "    axes[s_x[month_i]][s_y[month_i]].plot(np.arange(1979,2021), np.arange(1979,2021)*coefs[0] + coefs[1], label='HadISST1')\n",
    "\n",
    "    coefs = np.polyfit(np.arange(1979,2021), Merged_SIA_SIE['SI{}'.format(SIE_SIA)].sel(time=SIA_SIE_interp_index['time.month']==month_), 1)\n",
    "    axes[s_x[month_i]][s_y[month_i]].plot(np.arange(1979,2021), np.arange(1979,2021)*coefs[0] + coefs[1], label='Hadely IO')\n",
    "\n",
    "    coefs = np.polyfit(np.arange(1979,2021), ave.sel(time=ave['time.month']==month_), 1)\n",
    "    axes[s_x[month_i]][s_y[month_i]].plot(np.arange(1979,2021), np.arange(1979,2021)*coefs[0] + coefs[1], label='Average', c='k', linewidth=2, linestyle='--')\n",
    "    \n",
    "    axes[s_x[month_i]][s_y[month_i]].set_xlim(1979,2020)\n",
    "    axes[s_x[month_i]][s_y[month_i]].set_title(month_list[month_-1], fontsize=16)\n",
    "    axes[s_x[month_i]][s_y[month_i]].set_xlabel('')\n",
    "    \n",
    "    if s_x[month_i] == 3:\n",
    "        axes[s_x[month_i]][s_y[month_i]].set_xlabel('Year', fontsize=14)\n",
    "    if s_y[month_i] == 0:\n",
    "        axes[s_x[month_i]][s_y[month_i]].set_ylabel(r'$Sea \\ Ice \\ {} \\ [10^6 \\ km^2]$'.format(str_name), fontsize=14)\n",
    "        \n",
    "    plt.tight_layout()\n",
    "    \n",
    "extra_legend = plt.legend(bbox_to_anchor=(1.2, 1), loc='upper center', borderaxespad=0, ncol=1, fontsize=14)\n",
    "plt.gca().add_artist(extra_legend);"
   ]
  }
 ],
 "metadata": {
  "kernelspec": {
   "display_name": "NPL-3.7.9",
   "language": "python",
   "name": "npl-3.7.9"
  },
  "language_info": {
   "codemirror_mode": {
    "name": "ipython",
    "version": 3
   },
   "file_extension": ".py",
   "mimetype": "text/x-python",
   "name": "python",
   "nbconvert_exporter": "python",
   "pygments_lexer": "ipython3",
   "version": "3.7.9"
  }
 },
 "nbformat": 4,
 "nbformat_minor": 5
}
