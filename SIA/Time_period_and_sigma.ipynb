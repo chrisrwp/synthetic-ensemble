{
 "cells": [
  {
   "cell_type": "markdown",
   "id": "a4dd96e8-fa2c-44a6-bbe1-83df82bf92f7",
   "metadata": {},
   "source": [
    "# Time period and sigma\n",
    "\n",
    "**Figure 4**\n",
    "\n",
    "### Author: Chris Wyburn-Powell, [github](https://github.com/chrisrwp/synthetic-ensemble/SIA/Time_period_and_sigma.ipynb)\n",
    "\n",
    "**Input**: <br>\n",
    "Sea ice area for 6 CLIVAR LE models and observations from HadISST1 historical and RCP8.5. <br>\n",
    "\n",
    "**Output**: <br>\n",
    "- $\\sigma_{LE}$, $\\sigma_{mem}$ and $\\sigma_{obs}$ using a range of different time period lengths from 6 year to the full length of the linear trend"
   ]
  },
  {
   "cell_type": "code",
   "execution_count": 1,
   "id": "29414b78-a88a-486a-9665-75e19b398865",
   "metadata": {},
   "outputs": [
    {
     "name": "stdout",
     "output_type": "stream",
     "text": [
      "19:59 UTC Fri 2021-10-15\n"
     ]
    }
   ],
   "source": [
    "%matplotlib inline\n",
    "import matplotlib.pyplot as plt\n",
    "from matplotlib.patches import Patch\n",
    "import numpy as np\n",
    "import scipy.signal as sig\n",
    "import math as m\n",
    "import xarray as xr\n",
    "import datetime\n",
    "import dask\n",
    "print(datetime.datetime.utcnow().strftime(\"%H:%M UTC %a %Y-%m-%d\"))\n",
    "\n",
    "data_path = '/glade/scratch/cwpowell/Synthetic_ensemble/'"
   ]
  },
  {
   "cell_type": "code",
   "execution_count": 102,
   "id": "2d7f2c2f-467a-404c-b85d-20cf2c977c3a",
   "metadata": {},
   "outputs": [],
   "source": [
    "# from dask_jobqueue import PBSCluster\n",
    "# from dask.distributed import Client\n",
    "\n",
    "# cluster = PBSCluster(cores    = 1,\n",
    "#                      memory   = '10GB',\n",
    "#                      queue    = 'economy',\n",
    "#                      walltime = '00:29:00')\n",
    "\n",
    "# cluster.scale(8)\n",
    "# client = Client(cluster)\n",
    "# client"
   ]
  },
  {
   "cell_type": "code",
   "execution_count": 2,
   "id": "2e754b95-1887-4285-bc87-282fa8750438",
   "metadata": {},
   "outputs": [],
   "source": [
    "model_names        = ['CanESM2', 'CESM1', 'CSIRO_MK36',  'GFDL_CM3', 'GFDL_ESM2M', 'MPI_ESM1']\n",
    "model_print_names  = ['CanESM2', 'CESM1', 'CSIRO MK3.6', 'GFDL CM3', 'GFDL ESM2M', 'MPI ESM1']\n",
    "obs_names          = ['HadISST1']\n",
    "mem_len   = [50,  40,  30,  20,  30,  100]\n",
    "start_yrs = [1950,1920,1850,1920,1950,1850]\n",
    "colors    = ['m', 'b', 'g', 'orange', 'k', 'tab:olive']"
   ]
  },
  {
   "cell_type": "markdown",
   "id": "443b5dff-0410-4616-8d81-534631145a97",
   "metadata": {},
   "source": [
    "## Load SIA data from models and observations"
   ]
  },
  {
   "cell_type": "code",
   "execution_count": 5,
   "id": "37f26a14-8d16-4351-9fb3-bad67c22c16b",
   "metadata": {},
   "outputs": [],
   "source": [
    "HadISST1_areas = xr.open_dataset(data_path+'Raw_data/observations/HadISST/HadISST_ice_area.nc')\n",
    "HadISST1_SIC = xr.open_dataset(data_path+'Raw_data/observations/HadISST/HadISST_ice.nc')\n",
    "\n",
    "HadISST_NH = HadISST1_SIC['sic'].where(HadISST1_SIC['latitude']>30, drop=True)\n",
    "\n",
    "HadISST_SIA = []\n",
    "for month_ in np.arange(1,13):\n",
    "    HadISST_SIA.append((HadISST_NH.sel(time=HadISST_NH['time.month']==month_) * HadISST1_areas.where(HadISST1_areas['latitude']>30,drop=True)).sum('latitude').sum('longitude'))\n",
    "    \n",
    "HadISST_SIA = xr.concat(HadISST_SIA, dim='time')\n",
    "HadISST_SIA = HadISST_SIA/1e12\n",
    "HadISST_SIA = HadISST_SIA.rename({'cell_area': 'SIA'})\n",
    "HadISST_SIA = HadISST_SIA.sortby('time')\n",
    "\n",
    "HadISST1_SIA_79_20 = xr.open_dataset(data_path+'Raw_data/observations/HadISST/HadISST1_SIA_SIE_79-20_filled.nc')\n",
    "\n",
    "Had_SIA = xr.concat((HadISST_SIA.sel(time=slice('1850-01', '1999-12')), HadISST1_SIA_79_20.sel(time=slice('2000-01','2020-12'))), dim='time')\n",
    "Had_SIA = Had_SIA['SIA']"
   ]
  },
  {
   "cell_type": "code",
   "execution_count": 4,
   "id": "a8c4861c-e56b-458f-a583-1ad857802b53",
   "metadata": {},
   "outputs": [],
   "source": [
    "#load the SIA from models 1850-2100\n",
    "SIA_models = xr.open_dataset(data_path+'SIA/SIA_SIE_SIV/CLIVAR_SIA_1850_2100_RCP85.nc')"
   ]
  },
  {
   "cell_type": "markdown",
   "id": "8df0cd47-af22-4ca0-8795-514b2e4f26e3",
   "metadata": {},
   "source": [
    "# Plot different ways of obtaining the dates for the linear trend"
   ]
  },
  {
   "cell_type": "code",
   "execution_count": 111,
   "id": "961e69cb-37b1-4d01-909d-6bd8f38ba686",
   "metadata": {},
   "outputs": [],
   "source": [
    "CanESM2_09 = SIA_models['CanESM2'].sel(time=SIA_models['time.month']==9).mean('member').sel(time=slice('1950','2100'))"
   ]
  },
  {
   "cell_type": "code",
   "execution_count": 1,
   "id": "117a8302-baf2-427d-a555-66adb9266bd8",
   "metadata": {},
   "outputs": [],
   "source": [
    "CanESM2_09_filt = sig.savgol_filter(CanESM2_09.values, 21, 1)\n",
    "CanESM2_09_filt_grad = np.gradient(CanESM2_09_filt)\n",
    "CanESM2_09_filt_grad_filt = sig.savgol_filter(CanESM2_09_filt_grad, 21,1)\n",
    "plt.plot(CanESM2_09_filt_grad)\n",
    "plt.plot(CanESM2_09_filt_grad_filt);\n",
    "plt.title('1st derivative of smoothed data');"
   ]
  },
  {
   "cell_type": "code",
   "execution_count": 2,
   "id": "b1fad0a9-3fbd-49c6-8212-60938e120659",
   "metadata": {},
   "outputs": [],
   "source": [
    "CanESM2_09_filt_grad_filt_grad = np.gradient(CanESM2_09_filt_grad_filt)\n",
    "CanESM2_09_filt_grad_filt_grad_filt = sig.savgol_filter(CanESM2_09_filt_grad_filt_grad, 21, 1)\n",
    "plt.plot(CanESM2_09_filt_grad_filt_grad)\n",
    "plt.plot(CanESM2_09_filt_grad_filt_grad_filt)\n",
    "plt.axhline(0, c='k')\n",
    "plt.title('2nd derivative of smoothed 1st derivative');"
   ]
  },
  {
   "cell_type": "code",
   "execution_count": 3,
   "id": "054c09db-e2f5-48d9-b396-2267b21b705e",
   "metadata": {},
   "outputs": [],
   "source": [
    "model_name = 'CanESM2'\n",
    "model_i = 0\n",
    "month_ = 9\n",
    "\n",
    "SIA_model = SIA_models[model_name].sel(time=SIA_models['time.month']==month_).mean('member').sel(time=slice(str(start_yrs[model_i]),'2100'))\n",
    "\n",
    "full_yrs = np.arange(start_yrs[model_i],2101)\n",
    "\n",
    "plt.plot(full_yrs, SIA_model.values)\n",
    "plt.plot(full_yrs, sig.savgol_filter(SIA_model.values, 21, 1))\n",
    "\n",
    "model_filt_2nd =  sig.savgol_filter(np.gradient(sig.savgol_filter(np.gradient(sig.savgol_filter(SIA_model.values,21,1)), 21,1)), 21,1)\n",
    "                                                                                                 \n",
    "max_2nd = np.argmax(model_filt_2nd)\n",
    "min_2nd = np.argmin(model_filt_2nd)\n",
    "\n",
    "plt.axvline(full_yrs[max_2nd], c='0.5', linestyle='--')\n",
    "plt.axvline(full_yrs[min_2nd], c='0.5', linestyle='--')\n",
    "\n",
    "lin_x_vals = np.arange(full_yrs[min_2nd], full_yrs[max_2nd]+1, 1)\n",
    "\n",
    "lin_coef = np.polyfit(lin_x_vals, SIA_model.isel(time=slice(min_2nd, max_2nd+1)).values, 1)\n",
    "plt.plot(lin_x_vals, lin_coef[0]*lin_x_vals + lin_coef[1])"
   ]
  },
  {
   "cell_type": "markdown",
   "id": "af9de9c1-0b46-4360-9d64-220b3385d3f5",
   "metadata": {},
   "source": [
    "## Brute force - find optimal linear trend minimum of 40 years"
   ]
  },
  {
   "cell_type": "code",
   "execution_count": 4,
   "id": "93075b5c-94d5-401a-948c-36b71a49cedb",
   "metadata": {},
   "outputs": [],
   "source": [
    "model_i = 3\n",
    "model_name = model_names[model_i]\n",
    "month_ = 3\n",
    "\n",
    "trend_intervals = np.arange(40,111)\n",
    "\n",
    "SIA_data = SIA_models[model_name].sel(time=SIA_models['time.month']==month_).mean('member').sel(time=slice(str(start_yrs[model_i]),'2100'))\n",
    "full_yrs = np.arange(start_yrs[model_i],2101)\n",
    "\n",
    "best_start = []\n",
    "best_rms = []\n",
    "\n",
    "for trend_interval in trend_intervals:\n",
    "    trend_interval_rms = []\n",
    "    for i in range(len(SIA_data)-trend_interval-1):\n",
    "        #make a linear trend for 0th to trend_interval, then 1st to trend_interval+1.....\n",
    "        coefs = np.polyfit(full_yrs[i:i+trend_interval], SIA_data.isel(time=slice(i, i+trend_interval)).values, 1)\n",
    "        trend = (full_yrs[i:i+trend_interval] * coefs[0]) + coefs[1]\n",
    "        #compute the residuals from the linear trend\n",
    "        residuals = SIA_data.isel(time=slice(i, i+trend_interval)).values - trend\n",
    "        #append the root mean square (rms) of the detrended data\n",
    "        trend_interval_rms.append(np.sqrt(np.mean(residuals**2)))\n",
    "\n",
    "    best_start.append(np.argmin(trend_interval_rms))\n",
    "    best_rms.append(np.min(trend_interval_rms))\n",
    "        \n",
    "\n",
    "##### make a summary plot for that month and model #####\n",
    "fig, ax1 = plt.subplots()\n",
    "ax2 = ax1.twinx()\n",
    "ax3 = ax2.twiny()\n",
    "ax1.plot(full_yrs, SIA_data, c=colors[model_i])\n",
    "ax1.set_ylabel(r'$Arctic \\ SIA \\ [10^6 \\ km^2]$', color=colors[model_i])\n",
    "ax1.set_xlabel('Year', color=colors[model_i])\n",
    "ax1.tick_params(axis='both', colors=colors[model_i])\n",
    "\n",
    "ax2.plot(np.array(best_start) + start_yrs[model_i], trend_intervals, c='0.5')\n",
    "ax2.plot(np.array(best_start) + start_yrs[model_i] + trend_intervals, trend_intervals, c='0.5')\n",
    "ax2.tick_params(axis='y', colors='0.5')\n",
    "ax2.set_ylabel('Length of linear trend [Years]', color='0.5')\n",
    "\n",
    "ax3.plot(best_rms, trend_intervals, c='r')\n",
    "ax3.tick_params(axis='x', colors='r')\n",
    "ax3.set_xlabel(r'$RMS \\ of \\ linear \\ trend \\ resididuals \\ [10^6 \\ km^2]$', color='r')\n",
    "\n",
    "plt.title(model_print_names[model_i], fontsize=14);"
   ]
  },
  {
   "cell_type": "code",
   "execution_count": 5,
   "id": "5dc214e2-0337-4702-9e5d-c035477a949e",
   "metadata": {},
   "outputs": [],
   "source": [
    "#test out the linear trend for a given trend_interval, model, month, and start element\n",
    "model_name = 'CanESM2'\n",
    "model_i = 0\n",
    "\n",
    "month_ = 9\n",
    "\n",
    "SIA_data = SIA_models[model_name].sel(time=SIA_models['time.month']==month_).mean('member').sel(time=slice(str(start_yrs[model_i]),'2100'))\n",
    "full_yrs = np.arange(start_yrs[model_i],2101)\n",
    "\n",
    "trend_interval = 80\n",
    "i = 50\n",
    "\n",
    "coefs = np.polyfit(full_yrs[i:i+trend_interval], SIA_data.isel(time=slice(i, i+trend_interval)).values, 1)\n",
    "trend = (full_yrs[i:i+trend_interval] * coefs[0]) + coefs[1]\n",
    "plt.plot(full_yrs, SIA_data.values)\n",
    "plt.plot(full_yrs[i:i+trend_interval], trend)\n",
    "\n",
    "residuals = SIA_data.isel(time=slice(i, i+trend_interval)).values - trend\n",
    "rms = np.sqrt(np.mean(residuals**2))\n",
    "print(rms)"
   ]
  },
  {
   "cell_type": "markdown",
   "id": "5c129afc-ed83-4b4e-91fd-b66bf7208337",
   "metadata": {},
   "source": [
    "# Detrend the SIA relative to the ensemble mean for the chosen linear trend"
   ]
  },
  {
   "cell_type": "markdown",
   "id": "8b947bb3-345a-4616-9a5f-2e2731404a95",
   "metadata": {},
   "source": [
    "## Define the linear trend limits for March and September"
   ]
  },
  {
   "cell_type": "code",
   "execution_count": 5,
   "id": "c4ff4ba8-c808-4dc5-a1cf-4e62ee2a19f6",
   "metadata": {},
   "outputs": [],
   "source": [
    "#select the longest linear trend for each model for September and March, also observations\n",
    "# March_linear     = [[1982,2065], [2015,2090], [1977,2054], [1985,2044], [1970,2040], [1970,2067], [1953,2020]]\n",
    "# September_linear = [[1972,2032], [1995,2045], [1985,2044], [1985,2028], [1970,2040], [1985,2045], [1965,2020]]\n",
    "\n",
    "# Mar_linear_xr = xr.DataArray(data=March_linear, coords={'dataset': model_names+obs_names, 'limit': ['start', 'end']}, dims=['dataset', 'limit'])\n",
    "# Sep_linear_xr = xr.DataArray(data=September_linear, coords={'dataset': model_names+obs_names, 'limit': ['start', 'end']}, dims=['dataset', 'limit'])\n",
    "\n",
    "# linear_trend_dates = xr.Dataset({'03': Mar_linear_xr, '09':Sep_linear_xr})\n",
    "\n",
    "#want to detrend for March 1965-2066 (for mem/LE) and 1953-2020 (for mem/obs)\n",
    "#September 1970-2040 (for mem/LE) and 1965-2020 (for mem/obs)\n",
    "\n",
    "mar_yrs = [['1965','2066'], ['1953','2020']]\n",
    "sep_yrs = [['1970','2040'], ['1965','2020']]"
   ]
  },
  {
   "cell_type": "markdown",
   "id": "7b37b8aa-20e6-4bb9-a305-bb347d749641",
   "metadata": {},
   "source": [
    "## Detrend based on thses dates"
   ]
  },
  {
   "cell_type": "code",
   "execution_count": 6,
   "id": "bdeb0655-3781-4ba6-a9b1-08a982746761",
   "metadata": {},
   "outputs": [],
   "source": [
    "def detrend_ens_ind(data, start_yr, end_yr, mem_len):\n",
    "    '''\n",
    "    detrends relative to the ensemble mean and the individual member\n",
    "    '''\n",
    "\n",
    "    #detrend with ensemble mean \n",
    "    coefs = np.polyfit(np.arange(start_yr,end_yr+1), data.mean('member').values, 1)\n",
    "    ens_trend = xr.DataArray(data=(np.arange(start_yr,end_yr+1)*coefs[0])+coefs[1], coords={'time':data['time']}, dims='time')\n",
    "    anomalies_ens = data - ens_trend\n",
    "\n",
    "    #detrend individual members\n",
    "    anomalies_ind = []\n",
    "    for mem_i, mem in enumerate(np.arange(1,mem_len+1)):\n",
    "        coefs = np.polyfit(np.arange(start_yr,end_yr+1), data.sel(member=mem).values, 1)\n",
    "        tred_ind = (np.arange(start_yr, end_yr+1) * coefs[0]) + coefs[1]\n",
    "        anomalies_ind.append(xr.DataArray(data=data.sel(member=mem)-tred_ind, coords={'time':data['time']}, dims='time'))\n",
    "\n",
    "    anomalies_ind = xr.concat((anomalies_ind), dim='member')\n",
    "    anomalies_ind['member'] = np.arange(1,mem_len+1)\n",
    "\n",
    "    return(anomalies_ens, anomalies_ind)"
   ]
  },
  {
   "cell_type": "code",
   "execution_count": 15,
   "id": "b65857ea-4496-43e0-b7e9-fb6790d373a6",
   "metadata": {},
   "outputs": [],
   "source": [
    "#detrend all model members\n",
    "\n",
    "detrended_ens_obs_LE = []\n",
    "detrended_ind_obs_LE = []\n",
    "\n",
    "for i in range(2):\n",
    "\n",
    "    all_detrended_ens = []\n",
    "    all_detrended_ind = []\n",
    "\n",
    "    for model_i, model_name in enumerate(model_names):\n",
    "\n",
    "        model_detrended_ens = []\n",
    "        model_detrended_ind = []\n",
    "\n",
    "        for month_ in [3,9]:\n",
    "            if month_ == 3:\n",
    "                yrs = mar_yrs[i]\n",
    "            else:\n",
    "                yrs = sep_yrs[i]\n",
    "\n",
    "            data_ = SIA_models[model_name].sel(time=SIA_models['time.month']==month_).sel(time=slice(yrs[0],yrs[1])).sel(member=slice(0,mem_len[model_i]))\n",
    "            detrend_temp = detrend_ens_ind(data_, int(yrs[0]),int(yrs[1]), mem_len[model_i])\n",
    "\n",
    "            model_detrended_ens.append(detrend_temp[0])\n",
    "            model_detrended_ind.append(detrend_temp[1])\n",
    "\n",
    "        all_detrended_ens.append(xr.concat((model_detrended_ens), dim='time'))\n",
    "        all_detrended_ind.append(xr.concat((model_detrended_ind), dim='time'))\n",
    "\n",
    "    all_detrended_ens = xr.concat((all_detrended_ens), dim='model')\n",
    "    all_detrended_ind = xr.concat((all_detrended_ind), dim='model')\n",
    "\n",
    "    all_detrended_ens['model'] = model_names\n",
    "    all_detrended_ind['model'] = model_names\n",
    "    \n",
    "    detrended_ens_obs_LE.append(all_detrended_ens)\n",
    "    detrended_ind_obs_LE.append(all_detrended_ind)\n",
    "    \n",
    "detrended_ens_obs_LE = xr.concat((detrended_ens_obs_LE), dim='comparison')\n",
    "detrended_ind_obs_LE = xr.concat((detrended_ens_obs_LE), dim='comparison')\n",
    "\n",
    "detrended_ens_obs_LE['comparison'] = ['mem_LE', 'mem_obs']#label wether to use for LE or obs comparisons\n",
    "detrended_ind_obs_LE['comparison'] = ['mem_LE', 'mem_obs']"
   ]
  },
  {
   "cell_type": "code",
   "execution_count": 6,
   "id": "dffb6a79-4e89-49f2-bbd2-5b1cdb0a548a",
   "metadata": {},
   "outputs": [],
   "source": [
    "#detrend observations\n",
    "obs_detrend = []\n",
    "\n",
    "# start_yrs = ['1953','1965'] #start and end years\n",
    "start_yrs = ['1979','1979'] #start and end years\n",
    "\n",
    "for month_i, month_ in enumerate([3,9]):\n",
    "    \n",
    "    obs = Had_SIA.sel(time=Had_SIA['time.month']==month_).sel(time=slice(start_yrs[month_i], '2020'))\n",
    "    \n",
    "    coefs = np.polyfit(np.arange(int(start_yrs[month_i]),2021), obs.values, 1)\n",
    "    obs_trend = xr.DataArray(data=(np.arange(int(start_yrs[month_i]),2021)*coefs[0])+coefs[1], coords={'time':obs['time']}, dims='time')\n",
    "    \n",
    "    obs_detrend.append(obs - obs_trend)\n",
    "\n",
    "obs_detrend = xr.concat((obs_detrend), dim='time')"
   ]
  },
  {
   "cell_type": "markdown",
   "id": "eb422a8c-e090-4c2b-b765-c32921080279",
   "metadata": {},
   "source": [
    "# Calculate $\\sigma_{LE}$, $\\sigma_{mem}$, $\\sigma_{obs}$ for multiple time periods"
   ]
  },
  {
   "cell_type": "code",
   "execution_count": 4,
   "id": "1dcee2ed-f273-4d2a-85b0-f86f28ce985c",
   "metadata": {},
   "outputs": [],
   "source": [
    "def resample_boot2(data, resample_n):\n",
    "    \n",
    "    '''\n",
    "    Returns resamplings of a given time series of length equal to time period \n",
    "    '''\n",
    "    boot_2_first_ind = xr.DataArray(data   = np.random.randint(0,len(data)-2, (resample_n,int(len(data)/2))), \n",
    "                                    coords = {'resampling':np.arange(1,resample_n+1), 'year_i':np.arange(1,len(data)+1,2)},\n",
    "                                    dims   = ['resampling', 'year_i'])\n",
    "\n",
    "    boot_2_second_ind = (boot_2_first_ind+1).copy()\n",
    "    boot_2_second_ind['year_i'] = np.arange(2,len(data)+2,2)\n",
    "\n",
    "    all_boot_2_ind = xr.concat((boot_2_first_ind, boot_2_second_ind), dim='year_i').sortby('year_i')\n",
    "    \n",
    "    ind_base = np.repeat(np.arange(0,len(data)*resample_n,len(data)),len(data))\n",
    "    \n",
    "    ind_1_d = np.ravel(all_boot_2_ind) + ind_base\n",
    "\n",
    "    SIA_mem_1000 = np.ravel(np.tile(data,(len(data),resample_n)))\n",
    "\n",
    "    resample_boot_2 = xr.DataArray(data = np.reshape(SIA_mem_1000[ind_1_d], (resample_n, len(data))),\n",
    "                                   coords = {'resampling':np.arange(1,resample_n+1,1), 'year_i':np.arange(1,len(data)+1,1)},\n",
    "                                   dims   = ['resampling', 'year_i'])\n",
    "\n",
    "    return(resample_boot_2.std('year_i').std('resampling'))"
   ]
  },
  {
   "cell_type": "markdown",
   "id": "3faf488b-e35d-4a8e-acab-5870ef93e464",
   "metadata": {},
   "source": [
    "## $\\sigma_{mem}$"
   ]
  },
  {
   "cell_type": "code",
   "execution_count": 10,
   "id": "b51115bd-c0ac-4370-aa49-cbfeca194433",
   "metadata": {},
   "outputs": [],
   "source": [
    "#calculate sigma_mem via resampling and use dask\n",
    "#firstly define a function for each of the members\n",
    "\n",
    "def member_resample(member_data, mem):\n",
    "    \n",
    "    data_ = member_data[~np.isnan(member_data)]\n",
    "\n",
    "    model_member_time_resampled = []\n",
    "    for time_period in np.arange(6,len(data_)-1,2):\n",
    "\n",
    "        all_runs = []\n",
    "        for run_ in range(20):\n",
    "            rand_start = np.random.randint(0,len(data_)-time_period-1) + int(str(data_['time'][0].values)[:4])\n",
    "            all_runs.append(resample_boot2(data_.sel(time=slice(str(rand_start),str(rand_start+time_period-1))), 1000))\n",
    "\n",
    "        all_runs = xr.concat((all_runs), dim='run')    \n",
    "        model_member_time_resampled.append(all_runs.mean('run'))\n",
    "\n",
    "    return(xr.concat((model_member_time_resampled), dim='time_period'))"
   ]
  },
  {
   "cell_type": "code",
   "execution_count": 100,
   "id": "5e9fb03a-c7ef-4249-8f24-7dd3ca5bec9d",
   "metadata": {
    "tags": []
   },
   "outputs": [],
   "source": [
    "# #calculate sigma_mem\n",
    "# month_ = 9\n",
    "\n",
    "# sigma_mem_ = {}\n",
    "# for model_i, model_name in enumerate(model_names):\n",
    "#     print(datetime.datetime.now(), model_name)\n",
    "    \n",
    "#     model_data = all_detrended_ens.sel(model=model_name).sel(time=all_detrended_ens['time.month']==month_)\n",
    "#     max_t_period = len(model_data.sel(member=1)[~np.isnan(model_data).sel(member=1)]['time'])\n",
    "    \n",
    "#     model_resampled = []\n",
    "#     for mem in np.arange(1,mem_len[model_i]+1):\n",
    "#         model_resampled.append(dask.delayed(member_resample)(model_data.sel(member=mem), mem))\n",
    "        \n",
    "#     resampled_computed = dask.compute(*model_resampled)\n",
    "    \n",
    "#     model_resampled = xr.concat((resampled_computed), 'member')\n",
    "#     model_resampled['time_period'] = np.arange(6,max_t_period-1,2)\n",
    "#     model_resampled['member'] = np.arange(1,mem_len[model_i]+1)\n",
    "    \n",
    "#     sigma_mem_[model_name] = model_resampled\n",
    "    \n",
    "# sigma_mem_ = xr.Dataset(sigma_mem_)"
   ]
  },
  {
   "cell_type": "code",
   "execution_count": 6,
   "id": "899439aa-3156-4a65-ad91-bae7a60f4661",
   "metadata": {},
   "outputs": [],
   "source": [
    "#calculate sigma_mem for 4 different time periods  \n",
    "\n",
    "for month_i, month_ in enumerate([3,9]):\n",
    "    for i in range(2):\n",
    "        if month_ == 3:\n",
    "            yrs = mar_yrs[i]\n",
    "        else:\n",
    "            yrs = sep_yrs[i]\n",
    "        \n",
    "        detrended_ind = detrended_ind_obs_LE.isel(comparison=i)\n",
    "        \n",
    "        sigma_mem = {}\n",
    "        for model_i, model_name in enumerate(model_names):\n",
    "            print(datetime.datetime.now(), model_name)\n",
    "\n",
    "            model_member_resampled = []\n",
    "            for mem in np.arange(1,mem_len[model_i]+1):\n",
    "\n",
    "                #remember to deicde if using ind or ens and change both variables on following line\n",
    "                data_with_nan = detrended_ind.sel(model=model_name).sel(member=mem).sel(time=detrended_ind['time.month']==month_)\n",
    "                data_ = data_with_nan[~np.isnan(data_with_nan)]\n",
    "\n",
    "                model_member_time_resampled = []\n",
    "                for time_period in np.arange(6,len(data_)-1,2):\n",
    "\n",
    "                    all_runs = []\n",
    "                    for run_ in range(10):\n",
    "                        rand_start = np.random.randint(0,len(data_)-time_period-1) + int(str(data_['time'][0].values)[:4])\n",
    "                        all_runs.append(resample_boot2(data_.sel(time=slice(str(rand_start),str(rand_start+time_period-1))), 1000))\n",
    "\n",
    "                    all_runs = xr.concat((all_runs), dim='run')    \n",
    "                    model_member_time_resampled.append(all_runs.mean('run'))\n",
    "\n",
    "                model_member_resampled.append(xr.concat((model_member_time_resampled), dim='time_period'))\n",
    "\n",
    "            model_resampled = xr.concat((model_member_resampled), 'member')\n",
    "            model_resampled['time_period'] = np.arange(6,len(data_)-1,2)\n",
    "            model_resampled['member'] = np.arange(1,mem_len[model_i]+1)\n",
    "\n",
    "            sigma_mem[model_name] = model_resampled\n",
    "\n",
    "        #save sigma_mem to netcdf, remember to change ind or ens file name\n",
    "        sigma_mem = xr.Dataset(sigma_mem)\n",
    "\n",
    "        sigma_mem.attrs = {'Description': 'Resampled standard deviations of Arctic sea ice area for six models (CanESM2, CESM1, CSIRO MK3.6, GFDL CM3, GFDL ESM2M, MPI ESM1). Time periods are September for 6-maximum years along a linear trend of sea ice area decline during historical and/or RCP8.5. Start dates within the linear trend are chosen at random 10 times and the results averaged. Models are resampled 1000 times with a 2 year bootstrap size.',\n",
    "                           'Units'      : 'Million square km',\n",
    "                           'Timestamp'  : str(datetime.datetime.utcnow().strftime(\"%H:%M UTC %a %Y-%m-%d\")),                \n",
    "                           'Data source': 'CLIVAR Large Ensemble Archive (doi: 10.1038/s41558-020-0731-2)',\n",
    "                           'Analysis'   : 'Python 3.7.9 - https://github.com/chrisrwp/synthetic-ensemble/SIA/Time_period_and_sigma.ipynb'}\n",
    "\n",
    "        sigma_mem.to_netcdf(data_path+'SIA/SIA_resampled/Sigma_mem_individual_linear_trend_{}_{}_0{}.nc'.format(yrs[0], yrs[1], month_))"
   ]
  },
  {
   "cell_type": "markdown",
   "id": "d9612c0e-9cf5-45ab-835e-c98a8da44826",
   "metadata": {},
   "source": [
    "## $\\sigma_{LE}$"
   ]
  },
  {
   "cell_type": "code",
   "execution_count": 7,
   "id": "0e8d2157-63a8-4705-a2e8-5916791e40a0",
   "metadata": {},
   "outputs": [],
   "source": [
    "#calculate sigma_LE\n",
    "for month_i, month_ in enumerate([3,9]):\n",
    "    for i in range(2): #loop though the mem/LE or mem/obs comparison years\n",
    "        if month_ == 3:\n",
    "            yrs = mar_yrs[i]\n",
    "        else:\n",
    "            yrs = sep_yrs[i]\n",
    "        \n",
    "        detrended_ind = detrended_ind_obs_LE.isel(comparison=i)\n",
    "\n",
    "        sigma_LE = {}\n",
    "\n",
    "        for model_i, model_name in enumerate(model_names):\n",
    "            print(datetime.datetime.now(), model_name)\n",
    "\n",
    "            data_reduced_time = []\n",
    "\n",
    "            #remember to deicde if using ind or ens and change both variables on following line\n",
    "            all_mem = detrended_ind.sel(model=model_name).sel(time=detrended_ind['time.month']==month_)\n",
    "            mem_1_no_nan = all_mem.sel(member=1)[~np.isnan(all_mem.sel(member=1))]    \n",
    "\n",
    "            for time_period in np.arange(6,len(mem_1_no_nan)-1,2):\n",
    "\n",
    "                runs = []\n",
    "                for run in range(1000):\n",
    "                    rand_start = np.random.randint(0,len(mem_1_no_nan)-time_period-1) \n",
    "                    runs.append(all_mem.isel(time=slice(rand_start,rand_start+time_period-1)).std('time'))\n",
    "\n",
    "                data_reduced_time.append(xr.concat((runs), dim='run').mean('run'))\n",
    "\n",
    "            sigma_LE[model_name] = xr.concat((data_reduced_time), dim='time_period').std('member').drop('model')\n",
    "            sigma_LE[model_name]['time_period'] = np.arange(6,len(mem_1_no_nan)-1,2)\n",
    "\n",
    "        sigma_LE = xr.Dataset(sigma_LE)\n",
    "        \n",
    "        #save sigma_LE to netcdf\n",
    "        sigma_LE.attrs = {'Description': 'Standard deviations (between members) of Arctic sea ice area for six models (CanESM2, CESM1, CSIRO MK3.6, GFDL CM3, GFDL ESM2M, MPI ESM1). Time periods are September for 6-maximum years along a linear trend of sea ice area decline during historical and/or RCP8.5. Start dates within the linear trend are chosen at random 1000 times and the results averaged.',\n",
    "                          'Units'      : 'Million square km',\n",
    "                          'Timestamp'  : str(datetime.datetime.utcnow().strftime(\"%H:%M UTC %a %Y-%m-%d\")),                \n",
    "                          'Data source': 'CLIVAR Large Ensemble Archive (doi: 10.1038/s41558-020-0731-2)',\n",
    "                          'Analysis'   : 'Python 3.7.9 - https://github.com/chrisrwp/synthetic-ensemble/SIA/Time_period_and_sigma.ipynb'}\n",
    "\n",
    "        sigma_LE.to_netcdf(data_path+'SIA/SIA_resampled/Sigma_LE_individual_linear_trend_{}_{}_0{}.nc'.format(yrs[0], yrs[1], month_))"
   ]
  },
  {
   "cell_type": "markdown",
   "id": "53e1306a-0fac-495f-b24e-49edc08bfb13",
   "metadata": {},
   "source": [
    "## $\\sigma_{obs}$"
   ]
  },
  {
   "cell_type": "code",
   "execution_count": 8,
   "id": "8a77506f-d4e5-4a3e-b85d-875b2535c682",
   "metadata": {},
   "outputs": [],
   "source": [
    "#calculate sigma_obs\n",
    "sigma_obs_both_months = []\n",
    "sigma_obs = []\n",
    "\n",
    "for month_ in [3,9]:\n",
    "\n",
    "    obs = obs_detrend.sel(time=obs_detrend['time.month']==month_)\n",
    "    \n",
    "    resampled_reduced_time = []\n",
    "    for time_period in np.arange(6,len(obs)-1,2):\n",
    "        if time_period % 6 == 0:\n",
    "            print(datetime.datetime.now(), time_period)\n",
    "\n",
    "        runs = []\n",
    "        for run in range(1000):\n",
    "\n",
    "            rand_start = np.random.randint(0,len(obs)-time_period-1) \n",
    "            runs.append(resample_boot2(obs.isel(time=slice(rand_start,rand_start+time_period)), 1000))\n",
    "\n",
    "        resampled_reduced_time.append(xr.concat((runs), dim='run').mean('run'))\n",
    "\n",
    "    sigma_obs = xr.concat((resampled_reduced_time), dim='time_period')\n",
    "    sigma_obs['time_period'] = np.arange(6,len(obs)-1,2)\n",
    "    \n",
    "    sigma_obs_both_months.append(sigma_obs)\n",
    "    \n",
    "sigma_obs_both_months = xr.concat((sigma_obs_both_months), dim='month')\n",
    "sigma_obs_both_months['month'] = [3,9]"
   ]
  },
  {
   "cell_type": "code",
   "execution_count": 8,
   "id": "d84c3eb0-01f5-442a-8fe5-204aa7e5e3c5",
   "metadata": {},
   "outputs": [],
   "source": [
    "#save sigma_obs to netcdf\n",
    "# sigma_obs_both_months.attrs = {'Description': 'Resampled standard deviations of observed Arctic sea ice area for HadISST1. Time periods are March (1953-2020) and September (1965-2020) for 6-maximum years along a linear trend of sea ice area decline. Start dates within the linear trend are chosen at random 1000 times and the results averaged. The resamplings are also taken 1000 times and a 2 year bootstrap size is used.',\n",
    "#                                'Units'      : 'Million square km',\n",
    "#                                'Timestamp'  : str(datetime.datetime.utcnow().strftime(\"%H:%M UTC %a %Y-%m-%d\")),                \n",
    "#                                'Data source': 'HadISST1 (doi: 10.1029/2002JD002670)',\n",
    "#                                'Analysis'   : 'Python 3.7.9 - https://github.com/chrisrwp/synthetic-ensemble/SIA/Time_period_and_sigma.ipynb'}\n",
    "\n",
    "# sigma_obs_both_months.to_netcdf(data_path+'SIA/SIA_resampled/Sigma_obs_linear_trend_03_1953_09_1965.nc')\n",
    "\n",
    "sigma_obs_both_months.attrs = {'Description': 'Resampled standard deviations of observed Arctic sea ice area for HadISST1. Time periods are 1979-2020 for March and September for 6-maximum years along a linear trend of sea ice area decline. Start dates within the linear trend are chosen at random 1000 times and the results averaged. The resamplings are also taken 1000 times and a 2 year bootstrap size is used.',\n",
    "                               'Units'      : 'Million square km',\n",
    "                               'Timestamp'  : str(datetime.datetime.utcnow().strftime(\"%H:%M UTC %a %Y-%m-%d\")),                \n",
    "                               'Data source': 'HadISST1 (doi: 10.1029/2002JD002670)',\n",
    "                               'Analysis'   : 'Python 3.7.9 - https://github.com/chrisrwp/synthetic-ensemble/SIA/Time_period_and_sigma.ipynb'}\n",
    "\n",
    "sigma_obs_both_months.to_netcdf(data_path+'SIA/SIA_resampled/Sigma_obs_linear_trend_03_09_1979_2020.nc')"
   ]
  },
  {
   "cell_type": "markdown",
   "id": "0ba9db4c-91a0-4f45-b6eb-128f3dcfe831",
   "metadata": {},
   "source": [
    "# Plot $\\sigma_{LE}$, $\\sigma_{mem}$, $\\sigma_{obs}$ and their ratios"
   ]
  },
  {
   "cell_type": "code",
   "execution_count": 10,
   "id": "ec62f421-c0c8-4ddd-8894-463723e5eb32",
   "metadata": {},
   "outputs": [],
   "source": [
    "#load the appropriate sigma files from NetCDF\n",
    "# sigma_LE_03 = xr.open_dataset(data_path+'SIA/SIA_resampled/Sigma_LE_ensemble_linear_trend_time_period_03.nc')\n",
    "# sigma_LE_09 = xr.open_dataset(data_path+'SIA/SIA_resampled/Sigma_LE_ensemble_linear_trend_time_period_09.nc')\n",
    "\n",
    "# sigma_mem_03 = xr.open_dataset(data_path+'SIA/SIA_resampled/Sigma_mem_ensemble_linear_trend_time_period_03.nc')\n",
    "# sigma_mem_09 = xr.open_dataset(data_path+'SIA/SIA_resampled/Sigma_mem_ensemble_linear_trend_time_period_09.nc')\n",
    "\n",
    "# sigma_obs_03 = xr.open_dataarray(data_path+'SIA/SIA_resampled/Sigma_obs_linear_trend_time_period_03.nc')\n",
    "# sigma_obs_09 = xr.open_dataarray(data_path+'SIA/SIA_resampled/Sigma_obs_linear_trend_time_period_09.nc')\n",
    "\n",
    "sigma_LE_03_2020 = xr.open_dataset(data_path+'SIA/SIA_resampled/Sigma_LE_individual_linear_trend_1953_2020_03.nc')\n",
    "sigma_LE_03_2066 = xr.open_dataset(data_path+'SIA/SIA_resampled/Sigma_LE_individual_linear_trend_1965_2066_03.nc')\n",
    "sigma_LE_09_2020 = xr.open_dataset(data_path+'SIA/SIA_resampled/Sigma_LE_individual_linear_trend_1965_2020_09.nc')\n",
    "sigma_LE_09_2040 = xr.open_dataset(data_path+'SIA/SIA_resampled/Sigma_LE_individual_linear_trend_1970_2040_09.nc')\n",
    "\n",
    "sigma_mem_03_2020 = xr.open_dataset(data_path+'SIA/SIA_resampled/Sigma_mem_individual_linear_trend_1953_2020_03.nc')\n",
    "sigma_mem_03_2066 = xr.open_dataset(data_path+'SIA/SIA_resampled/Sigma_mem_individual_linear_trend_1965_2066_03.nc')\n",
    "sigma_mem_09_2020 = xr.open_dataset(data_path+'SIA/SIA_resampled/Sigma_mem_individual_linear_trend_1965_2020_09.nc')\n",
    "sigma_mem_09_2040 = xr.open_dataset(data_path+'SIA/SIA_resampled/Sigma_mem_individual_linear_trend_1970_2040_09.nc')\n",
    "\n",
    "# sigma_obs = xr.open_dataarray(data_path+'SIA/SIA_resampled/Sigma_obs_linear_trend_03_1953_09_1965.nc')\n",
    "sigma_obs = xr.open_dataarray(data_path+'SIA/SIA_resampled/Sigma_obs_linear_trend_03_09_1979_2020.nc')\n",
    "\n",
    "sigmas = {'LE_03_2020':sigma_LE_03_2020, 'LE_03_x':sigma_LE_03_2066, 'LE_09_2020':sigma_LE_09_2020, 'LE_09_x':sigma_LE_09_2040,\n",
    "          'mem_03_2020':sigma_mem_03_2020, 'mem_03_x':sigma_mem_03_2066, 'mem_09_2020':sigma_mem_09_2020, 'mem_09_x':sigma_mem_09_2040,\n",
    "          'obs':sigma_obs}"
   ]
  },
  {
   "cell_type": "markdown",
   "id": "ca42d05a-a1ee-40e3-ac6b-ad057acd8b01",
   "metadata": {
    "tags": []
   },
   "source": [
    "### $\\sigma_{LE}$ with time period"
   ]
  },
  {
   "cell_type": "code",
   "execution_count": 9,
   "id": "ca3f78e0-3850-4177-9d4f-2ec5fdc67d9d",
   "metadata": {
    "tags": []
   },
   "outputs": [],
   "source": [
    "for model_i, model_name in enumerate(model_names):\n",
    "    sigma_LE_03[model_name].plot(c=colors[model_i], label=model_print_names[model_i])\n",
    "    \n",
    "plt.ylabel(r'$\\sigma_{LE} \\ [10^6 \\ km^2]$')\n",
    "plt.xlabel('Time period [Years]')\n",
    "plt.xlim(6,96);"
   ]
  },
  {
   "cell_type": "code",
   "execution_count": 10,
   "id": "3f81c562-f122-42b6-8cc7-56cc968ca0ee",
   "metadata": {
    "tags": []
   },
   "outputs": [],
   "source": [
    "for model_i, model_name in enumerate(model_names):\n",
    "    sigma_LE_09[model_name].plot(c=colors[model_i], label=model_print_names[model_i])\n",
    "    \n",
    "plt.ylabel(r'$\\sigma_{LE} \\ [10^6 \\ km^2]$')\n",
    "plt.xlabel('Time period [Years]')\n",
    "plt.xlim(6,68)\n",
    "plt.legend();"
   ]
  },
  {
   "cell_type": "markdown",
   "id": "54e3a6c6-0dc3-4070-937b-55ab8c831191",
   "metadata": {
    "tags": []
   },
   "source": [
    "### $\\sigma_{mem}$ and $\\sigma_{obs}$ with time period"
   ]
  },
  {
   "cell_type": "code",
   "execution_count": 11,
   "id": "be6e9024-935a-425e-a6e2-d74a29a84da6",
   "metadata": {
    "tags": []
   },
   "outputs": [],
   "source": [
    "for model_i, model_name in enumerate(model_names):\n",
    "    sigma_mem_03[model_name].mean('member').plot(c=colors[model_i], linewidth=2, label=model_print_names[model_i])\n",
    "    plt.fill_between(sigma_mem_03[model_name]['time_period'], sigma_mem_03[model_name].mean('member')-sigma_mem_03[model_name].std('member'), \n",
    "                    sigma_mem_03[model_name].mean('member')+sigma_mem_03[model_name].std('member'), color=colors[model_i], alpha=0.05)\n",
    "\n",
    "sigma_obs_03.plot(c='r', label='Observations', linestyle='--', linewidth=2.5)\n",
    "\n",
    "plt.ylabel(r'$\\sigma_{mem} \\ [10^6 \\ km^2]$')\n",
    "plt.xlabel('Time period [Years]')\n",
    "plt.xlim(6,96)\n",
    "plt.legend();"
   ]
  },
  {
   "cell_type": "code",
   "execution_count": 12,
   "id": "843eaefd-ac8a-4632-9476-2610c5d91db0",
   "metadata": {
    "tags": []
   },
   "outputs": [],
   "source": [
    "for model_i, model_name in enumerate(model_names):\n",
    "    sigma_mem_09[model_name].mean('member').plot(c=colors[model_i], linewidth=2, label=model_print_names[model_i])\n",
    "    plt.fill_between(sigma_mem_09[model_name]['time_period'], sigma_mem_09[model_name].mean('member')-sigma_mem_09[model_name].std('member'), \n",
    "                    sigma_mem_09[model_name].mean('member')+sigma_mem_09[model_name].std('member'), color=colors[model_i], alpha=0.05)\n",
    "\n",
    "sigma_obs_09.plot(c='r', label='Observations', linestyle='--', linewidth=2.5)\n",
    "\n",
    "plt.ylabel(r'$\\sigma_{mem} \\ [10^6 \\ km^2]$')\n",
    "plt.xlabel('Time period [Years]')\n",
    "plt.xlim(6,68);\n",
    "# plt.legend();"
   ]
  },
  {
   "cell_type": "markdown",
   "id": "8c14b1a6-9931-46d5-8df7-06767476516d",
   "metadata": {},
   "source": [
    "## Figure 4 as submitted"
   ]
  },
  {
   "cell_type": "code",
   "execution_count": 13,
   "id": "6b61a45a-42ce-4d44-8d3e-2c6785b600da",
   "metadata": {},
   "outputs": [],
   "source": [
    "fig, axes = plt.subplots(2,2,figsize=[15,8])\n",
    "\n",
    "for i, month_ in enumerate([3,9]):\n",
    "    \n",
    "    LE_x     = sigmas['LE_0{}_x'.format(month_)]\n",
    "    mem_2020 = sigmas['mem_0{}_2020'.format(month_)]\n",
    "    mem_x    = sigmas['mem_0{}_x'.format(month_)]\n",
    "    obs      = sigmas['obs'].sel(month=month_)\n",
    "    \n",
    "    ########### sigma mem / sigma LE ########### \n",
    "    for model_i, model_name in enumerate(model_names):\n",
    "        (mem_x[model_name].median('member') / LE_x[model_name]).plot(ax=axes[0][i], c=colors[model_i], label=model_print_names[model_i])\n",
    "\n",
    "        axes[0][i].fill_between(mem_x[model_name]['time_period'], (mem_x[model_name].mean('member')-mem_x[model_name].std('member'))/LE_x[model_name], \n",
    "                               (mem_x[model_name].mean('member')+mem_x[model_name].std('member'))/LE_x[model_name], color=colors[model_i], alpha=0.05)\n",
    "\n",
    "    axes[0][i].axhline(1, c='0.5', linestyle='--')\n",
    "    axes[0][i].set_ylim(0,3.7)  \n",
    "    axes[0][i].set_yticklabels(np.arange(0,3.6,0.5), fontsize=16)\n",
    "    axes[0][i].set_xlabel('')\n",
    "    axes[0][i].set_ylabel('')\n",
    "    axes[0][i].grid()\n",
    "    if i==0:\n",
    "        axes[0][i].set_xlim(6,100)\n",
    "        axes[0][i].set_xticklabels(np.arange(0,101,20), fontsize=16)\n",
    "    else:\n",
    "        axes[0][i].set_xlim(6,68)\n",
    "        axes[0][i].set_xticklabels(np.arange(0,101,10), fontsize=16)\n",
    "\n",
    "    ########### sigma mem / sigma obs ########### \n",
    "    for model_i, model_name in enumerate(model_names):\n",
    "        #make the sigma mem and sigma obs the same size if using 1979-2020 obs\n",
    "        mem_2020 = mem_2020.sel(time_period=slice(6,40))\n",
    "\n",
    "        (mem_2020[model_name].median('member') / obs).plot(ax=axes[1][i], c=colors[model_i], label=model_print_names[model_i])\n",
    "\n",
    "        axes[1][i].fill_between(mem_2020['time_period'], (mem_2020[model_name].mean('member')-mem_2020[model_name].std('member'))/obs, \n",
    "                        (mem_2020[model_name].mean('member')+mem_2020[model_name].std('member'))/obs, color=colors[model_i], alpha=0.05)\n",
    "\n",
    "    axes[1][i].axhline(1, c='0.5', linestyle='--')\n",
    "    axes[1][i].set_xticklabels(np.arange(5,41,5), fontsize=16)\n",
    "    axes[1][i].set_xlabel('')\n",
    "    axes[1][i].set_ylabel('')\n",
    "    axes[1][i].grid()\n",
    "    axes[1][i].set_xlim(6,40)\n",
    "    if i==0:\n",
    "        axes[1][i].set_ylim(0.6,2.65)\n",
    "        axes[1][i].set_yticklabels(np.arange(0.5,2.6,0.25), fontsize=16)\n",
    "    else:\n",
    "        axes[1][i].set_ylim(0.25,2.1)\n",
    "        axes[1][i].set_yticklabels(np.arange(0.25,2.1,0.25), fontsize=16)\n",
    "\n",
    "    \n",
    "\n",
    "    ########### add features to the whole plot ###########    \n",
    "legend_elements = [Patch(facecolor=colors[0], label='CanESM2'),\n",
    "                   Patch(facecolor=colors[1], label='CESM1'),\n",
    "                   Patch(facecolor=colors[2], label='CSIRO MK36'),\n",
    "                   Patch(facecolor=colors[3], label='GFDL CM3'),\n",
    "                   Patch(facecolor=colors[4], label='GFDL ESM2M'),\n",
    "                   Patch(facecolor=colors[5], label='MPI ESM1'),]\n",
    "\n",
    "extra_legend = plt.legend(handles=legend_elements, bbox_to_anchor=(-0.07, -0.38), loc='lower center', borderaxespad=0, ncol=6, fontsize=16)\n",
    "plt.gca().add_artist(extra_legend);\n",
    "\n",
    "axes[0][0].set_title('')\n",
    "axes[0][1].set_title('')\n",
    "axes[1][0].set_title('')\n",
    "axes[1][1].set_title('')\n",
    "\n",
    "axes[0][0].set_ylabel(r'$\\sigma_{mem} \\ / \\ \\sigma_{LE}$', fontsize=24)\n",
    "axes[1][0].set_ylabel(r'$\\sigma_{mem} \\ / \\ \\sigma_{obs}$', fontsize=24)\n",
    "axes[1][0].set_xlabel('Time period [Years]', fontsize=18)\n",
    "axes[1][1].set_xlabel('Time period [Years]', fontsize=18)\n",
    "\n",
    "axes[0][0].text(-0.06, 1.08, 'a', transform=axes[0][0].transAxes, fontsize=18, fontweight='bold', va='top', ha='right');\n",
    "axes[0][1].text(-0.06, 1.08, 'b', transform=axes[0][1].transAxes, fontsize=18, fontweight='bold', va='top', ha='right');\n",
    "axes[1][0].text(-0.06, 1.08, 'c', transform=axes[1][0].transAxes, fontsize=18, fontweight='bold', va='top', ha='right');\n",
    "axes[1][1].text(-0.06, 1.08, 'd', transform=axes[1][1].transAxes, fontsize=18, fontweight='bold', va='top', ha='right');\n",
    "\n",
    "plt.tight_layout()\n",
    "fig.savefig('/glade/scratch/cwpowell/Synthetic_ensemble/SIA/figures/Time_period_and_sigma/Ratio_time_period_same_all_models_obs_79.pdf', \n",
    "            bbox_inches='tight')\n",
    "fig.savefig('/glade/scratch/cwpowell/Synthetic_ensemble/SIA/figures/Time_period_and_sigma/Ratio_time_period_same_all_models_obs_79.png', \n",
    "            bbox_inches='tight', dpi=400)"
   ]
  }
 ],
 "metadata": {
  "kernelspec": {
   "display_name": "NPL-3.7.9",
   "language": "python",
   "name": "npl-3.7.9"
  },
  "language_info": {
   "codemirror_mode": {
    "name": "ipython",
    "version": 3
   },
   "file_extension": ".py",
   "mimetype": "text/x-python",
   "name": "python",
   "nbconvert_exporter": "python",
   "pygments_lexer": "ipython3",
   "version": "3.7.9"
  }
 },
 "nbformat": 4,
 "nbformat_minor": 5
}
