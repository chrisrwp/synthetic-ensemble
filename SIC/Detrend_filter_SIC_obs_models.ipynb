{
 "cells": [
  {
   "cell_type": "markdown",
   "id": "41d3548d-62e0-4d80-93f0-937daff2b86c",
   "metadata": {},
   "source": [
    "# Detrend Observational and Model SIC with a 5th order Butterworth lowpass filter with a 2 year cutoff\n",
    "\n",
    "### Author: Chris Wyburn-Powell, [github](https://github.com/chrisrwp/synthetic-ensemble/SIC/Detrend_filter_SIC_obs.ipynb)\n",
    "\n",
    "**Input datasets for observational datasets, as created in this [notebook](https://github.com/chrisrwp/synthetic-ensemble/SIA/SIA_calculations_observations.ipynb):** <br>\n",
    "\n",
    "- **NOAA/NSIDC CDR version 4 (CDR, BT, NT)**: Pole hole is filled using the average SIC of the surrounding grid cells (built in). Missing months (1984-07 1987-12, 1988-01) are filled by looking at the closest valid months for SIA (CDR), idenfitying whether the previous or following year's SIA for those valid months are closets to that year with missing data, then selecting the previous or following SIC data to fill the missing data. E.g. For 1984-07: SIA for 1983-06 and 1985-06 are compared with 1984-06 and 1983-08 and 1985-08 are compared with 1984-08. 1985 is found to be closer to 1984 than 1983 was with 1984 so to fill 1984-07, 1985-07 is copied. Similarly SIC values for 1988-12 and 1989-01 are used to fill 1987-12 and 1988-01.\n",
    "- **HadISST1**: Discontinuities for months 2009-03 and 2009-04 were found with extreme negative anomalies which do not appear in other datasets. SIC from 2007-03 is used for 2009-03 and 2008-04 are used for 2009-04. <br><br>\n",
    "\n",
    "**Reduced model data was produced in this [notebook](https://github.com/chrisrwp/synthetic-ensemble/blob/main/SIC/Detrend_SIC_models.ipynb), using data from the [CLIVAR Large Ensemble](https://doi.org/10.1038/s41558-020-0731-2)**"
   ]
  },
  {
   "cell_type": "code",
   "execution_count": 1,
   "id": "a6fe8e78-1003-4c85-9d9f-114bd4c70846",
   "metadata": {},
   "outputs": [
    {
     "name": "stdout",
     "output_type": "stream",
     "text": [
      "16:15 UTC Fri 2022-03-18\n"
     ]
    }
   ],
   "source": [
    "import numpy as np\n",
    "import xarray as xr\n",
    "import datetime\n",
    "import scipy.signal as signal\n",
    "\n",
    "import matplotlib.pyplot as plt\n",
    "\n",
    "print(datetime.datetime.utcnow().strftime(\"%H:%M UTC %a %Y-%m-%d\"))"
   ]
  },
  {
   "cell_type": "code",
   "execution_count": 2,
   "id": "e51f167d-c8d7-429f-af85-08a3428178a5",
   "metadata": {},
   "outputs": [],
   "source": [
    "data_path = '/glade/scratch/cwpowell/Synthetic_ensemble/'\n",
    "\n",
    "month_names = ['January', 'February', 'March', 'April', 'May', 'June', 'July', \n",
    "               'August', 'September', 'October', 'November', 'December']\n",
    "\n",
    "model_names  = ['CanESM2', 'CESM1', 'CSIRO_MK36', 'GFDL_CM3', 'GFDL_ESM2M', 'MPI_ESM1' ]\n",
    "mem_len      = [50,        40,      30,           20,         30,           100        ]\n",
    "model_starts = [1950,      1920,    1850,         1920,       1950,         1850       ]"
   ]
  },
  {
   "cell_type": "markdown",
   "id": "ede8b746-87e6-4dc5-bd09-b0ee0bb7a6af",
   "metadata": {},
   "source": [
    "## Test detrending observations with a 2 year lowpass filter"
   ]
  },
  {
   "cell_type": "code",
   "execution_count": 4,
   "id": "fcba175f-d10d-4dff-9e7c-c2317d342a66",
   "metadata": {},
   "outputs": [],
   "source": [
    "#load data\n",
    "NSIDC_CDR = xr.open_dataset(data_path+'Raw_data/observations/NSIDC_CDR_v4/SIC_CDR_BT_NT_79-20_filled.nc')"
   ]
  },
  {
   "cell_type": "code",
   "execution_count": 23,
   "id": "bc03b440-725c-4d72-bf64-a34fb67ce5cc",
   "metadata": {},
   "outputs": [],
   "source": [
    "# plot the NSIDC grid\n",
    "NSIDC_CDR_09 = NSIDC_CDR['CDR'].sel(time=NSIDC_CDR['time.month']==9)\n",
    "NSIDC_CDR_09_plot = NSIDC_CDR_09.copy()\n",
    "NSIDC_CDR_09_plot['xgrid'] = np.arange(0,304)\n",
    "NSIDC_CDR_09_plot['ygrid'] = np.arange(0,448)\n",
    "\n",
    "NSIDC_CDR_09_plot.isel(time=0).plot()\n",
    "plt.grid()"
   ]
  },
  {
   "cell_type": "code",
   "execution_count": 8,
   "id": "2b557993-9eb1-4459-95b6-ec5d0f4389ad",
   "metadata": {},
   "outputs": [],
   "source": [
    "def filt_lowpass(data, sample_freq, cutoff, order):\n",
    "    '''\n",
    "    Filter a 1D time series using a lowpass Butterworth filter. \n",
    "    Uses scipy.signal.butter and scipy.signal.filtfilt\n",
    "    \n",
    "    Parameters\n",
    "    ----------\n",
    "    data : 1 dimensional xarray dataarray,\n",
    "        For 1979-2020 this is an array of shape [42] \n",
    "    sample_freq: float,\n",
    "        The sampling frequency of the input data, typically sample_freq=1 [year]\n",
    "    cutoff: float,     \n",
    "        The fraction of the nyquist frequency. To filter with a 2-year lowpass filter with sample_freq=1, cutoff=0.25\n",
    "    order: int\n",
    "        The order of the Butterworth filter, typically 4-6\n",
    "    \n",
    "    Returns\n",
    "    ----------\n",
    "        1D numpy array of the same shape as the input data\n",
    "    '''  \n",
    "    \n",
    "    nyquist = sample_freq / 2 # 0.5 times the sampling frequency\n",
    "    b, a = signal.butter(order, cutoff, btype='lowpass') #low pass filter\n",
    "    filtered = signal.filtfilt(b, a, data) #apply the filter forward and backward\n",
    "    \n",
    "    return(filtered)"
   ]
  },
  {
   "cell_type": "code",
   "execution_count": 22,
   "id": "c5d35bf6-0aef-4243-a0ee-4b08ccc218b9",
   "metadata": {},
   "outputs": [],
   "source": [
    "#compare linear detrending and filtering to produce anomalies\n",
    "fig, ax = plt.subplots(2,1,figsize=[8,8])\n",
    "\n",
    "x_i = 240\n",
    "y_i = 192\n",
    "order_ = 12\n",
    "coefs = np.polyfit(np.arange(1979,2021), NSIDC_CDR_09[:,x_i,y_i]*100, 1 )\n",
    "ax[0].plot(np.arange(1979,2021), NSIDC_CDR_09[:,x_i,y_i]*100, label='SIC time series', c='r')\n",
    "ax[0].plot(np.arange(1979,2021), np.arange(1979,2021)*coefs[0] + coefs[1], label='Linear trend', c='k')\n",
    "ax[0].plot(np.arange(1979,2021), filt_lowpass(data=NSIDC_CDR_09[:,x_i,y_i]*100, sample_freq=1, cutoff=0.25, order=order_), label='2 year lowpass filter', c='b')\n",
    "ax[0].legend()\n",
    "ax[0].set_xlim(1979,2020)\n",
    "ax[0].set_ylabel('SIC [%]', fontsize=13)\n",
    "ax[0].set_title('NSIDC CDR, September, x={}, y={}'.format(x_i, y_i), fontsize=15);\n",
    "\n",
    "ax[1].plot(np.arange(1979,2021), NSIDC_CDR_09[:,x_i,y_i]*100 - (np.arange(1979,2021)*coefs[0] + coefs[1]), label='Linear Detrend', c='k')\n",
    "ax[1].plot(np.arange(1979,2021), (NSIDC_CDR_09[:,x_i,y_i]*100 - filt_lowpass(data=NSIDC_CDR_09[:,x_i,y_i]*100, sample_freq=1, cutoff=0.25, order=order_)), label='2 year filter', c='b')\n",
    "ax[1].legend()\n",
    "ax[1].set_xlim(1979,2020)\n",
    "ax[1].set_ylabel('SIC Anomaly [%]', fontsize=13)\n",
    "ax[1].axhline(0,c='0.5', linestyle='--');"
   ]
  },
  {
   "cell_type": "code",
   "execution_count": 3,
   "id": "fd4c0b48-d517-40fe-b7c6-451f85e520a9",
   "metadata": {},
   "outputs": [],
   "source": [
    "def SIC_filter_detrend_obs(data, month_):\n",
    "    '''\n",
    "    Detrend a 3D using a 2 year lowpass Butterworth filter, with and without adjusting to physical limits of 0 and 100% SIC\n",
    "\n",
    "    Parameters\n",
    "    ----------\n",
    "    data : xarray dataarray\n",
    "         Should have 3 dimensions: [time, lat, lon]\n",
    "    month_ : int\n",
    "        Number of month to select from the data\n",
    "\n",
    "    Returns\n",
    "    ----------\n",
    "        2D xarray dataarray object of 1000 resamplings of the input data, shape: (time_period, 1000)\n",
    "    '''  \n",
    "    \n",
    "    monthly_data = data.sel(time=data['time.month']==month_).sel(time=slice('1979', '2020'))\n",
    "    \n",
    "    #set up the Butterworth filter    \n",
    "    nyquist = 1 / 2 # 0.5 times the yearly sampling frequency\n",
    "    b, a = signal.butter(5, 0.25, btype='lowpass') #low pass filter, order 5, cutoff 0.25 nyquist\n",
    "    \n",
    "    #compute anomalies relative to the 2 year filter\n",
    "    detrended_filt = monthly_data - signal.filtfilt(b, a, monthly_data, axis=0) #apply the filter forward and backward\n",
    "    \n",
    "    return(detrended_filt)"
   ]
  },
  {
   "cell_type": "code",
   "execution_count": 13,
   "id": "c15149d7-4d94-4ee3-bf56-be292344b1c4",
   "metadata": {},
   "outputs": [],
   "source": [
    "#load data\n",
    "# NSIDC_CDR = xr.open_dataset(data_path+'Raw_data/observations/NSIDC_CDR_v4/SIC_CDR_BT_NT_79-20_filled.nc')\n",
    "HadISST1 = xr.open_dataset(data_path+'Raw_data/observations/HadISST/HadISST1_NH_79-20_filled.nc')"
   ]
  },
  {
   "cell_type": "code",
   "execution_count": 16,
   "id": "2db32ab0-fb46-4373-9ead-af2bbc1c7ee3",
   "metadata": {},
   "outputs": [],
   "source": [
    "all_month_filt = []\n",
    "for month_ in np.arange(1,13):\n",
    "    # all_month_filt.append(SIC_filter_detrend_obs(NSIDC_CDR['BT'], month_))\n",
    "    all_month_filt.append(SIC_filter_detrend_obs(HadISST1['sic'].transpose('time','latitude','longitude'), month_))\n",
    "    \n",
    "all_month_filt_xr = xr.concat((all_month_filt),dim='time')\n",
    "\n",
    "#NOAA/NSIDC Climate Data Record of Passive Microwave Sea Ice Concentration, Version 4 - NASA Bootstrap (BT)\n",
    "all_month_filt_xr.attrs = {'Description': 'Detrended Arctic sea ice concentrations (SIC) for the observational dataset HadISST1. Years 1979-2020, all months. Detrended with a 2 year 5th order lowpass Butterworth filter for each month.', \n",
    "                           'Units'      : '%',\n",
    "                           'Timestamp'  : str(datetime.datetime.utcnow().strftime(\"%H:%M UTC %a %Y-%m-%d\")),\n",
    "                           'Data source': 'HadISST1 - DOI: 10.1029/2002JD002670',\n",
    "                           'Analysis'   : 'https://github.com/chrisrwp/synthetic-ensemble/SIC/Detrend_filter_SIC_obs_models.ipynb'}\n"
   ]
  },
  {
   "cell_type": "code",
   "execution_count": 17,
   "id": "4ada0360-cd75-4143-8ed6-ca31b5f8a1e6",
   "metadata": {},
   "outputs": [],
   "source": [
    "all_month_filt_xr.to_netcdf('/glade/scratch/cwpowell/Synthetic_ensemble_revisions/SIC/Detrend_filter/HadISST1_SIC_2yr_filter_1979_2020.nc')"
   ]
  },
  {
   "cell_type": "markdown",
   "id": "18d8cbc3-0bff-4c4b-8783-9fb24b77b6c2",
   "metadata": {},
   "source": [
    "# Models\n",
    "**Start from reduced datasets made in https://github.com/chrisrwp/synthetic-ensemble/blob/main/SIC/Detrend_SIC_models.ipynb** <br>\n",
    "No need to run dask workers, takes ~6 minutes to run, requires ~10 GB RAM"
   ]
  },
  {
   "cell_type": "code",
   "execution_count": 24,
   "id": "782dc903-b94d-45fe-a6c3-87082d22e8c4",
   "metadata": {},
   "outputs": [],
   "source": [
    "reduced_data_path = '/glade/campaign/univ/ucub0084/Synthetic_ensemble/SIC/Reduced_datasets/'\n",
    "\n",
    "for model_i, model_name in enumerate(model_names):\n",
    "    print(datetime.datetime.now(), model_name)\n",
    "    \n",
    "    for month_ in np.arange(1,13):\n",
    "        print(datetime.datetime.now(), month_)\n",
    "\n",
    "        ##############################################################################################\n",
    "        #load the reduced datasets, each month for each model for 30N+ and 1979-2020\n",
    "        month_data = xr.open_dataarray(reduced_data_path+'{}_reduced_1979-2020_{}.nc'.format(model_name, str(month_).zfill(2)))\n",
    "\n",
    "        print(np.shape(month_data)) #confirm that 42 (time) is the first dimension\n",
    "\n",
    "        #GFDL ESM2M uses fraction not percentage for SIC, change to % for this model\n",
    "        if model_name == 'GFDL_ESM2M': month_data = month_data * 100\n",
    "\n",
    "        ##############################################################################################            \n",
    "        #set up the Butterworth filter. Nyquist frequency is 0.5*sampling frequency = 0.5 years\n",
    "        #cutoff frequency is 0.25 the Nyquist frequency = 0.25*0.5 = 2 years\n",
    "        b, a = signal.butter(5, 0.25, btype='lowpass') #low pass filter, order 5, cutoff 0.25 nyquist\n",
    "\n",
    "        #compute anomalies relative to the 2 year filter, apply to axis=1 which is the time dimension\n",
    "        detrended_filt = month_data - signal.filtfilt(b, a, month_data, axis=1) #apply the filter forward and backward\n",
    "\n",
    "        ##############################################################################################\n",
    "        #save to NetCDF \n",
    "        detrended_filt.attrs = {'Description': 'Detrended Arctic sea ice concentrations (SIC) the model {}. Years 1979-2020, month of {}. Detrended using a 5th order Butterworth lowpass filter with a 2 year cutoff.'.format(model_name, month_names[month_-1]), \n",
    "                                'Units'      : '%',\n",
    "                                'Timestamp'  : str(datetime.datetime.utcnow().strftime(\"%H:%M UTC %a %Y-%m-%d\")),\n",
    "                                'Data source': 'CLIVAR Large Ensemble Archive, doi:10.1038/s41558-020-0731-2',\n",
    "                                'Analysis'   : 'https://github.com/chrisrwp/synthetic-ensemble/blob/main/SIC/Detrend_filter_SIC_obs_models.ipynb'}\n",
    "\n",
    "        detrended_filt.to_netcdf('/glade/scratch/cwpowell/Synthetic_ensemble_revisions/SIC/Detrend_filter/{}_detrended_2yr_filter_1979_2020_{}.nc'.format(model_name, str(month_).zfill(2)))  "
   ]
  }
 ],
 "metadata": {
  "kernelspec": {
   "display_name": "NPL-3.7.9",
   "language": "python",
   "name": "npl-3.7.9"
  },
  "language_info": {
   "codemirror_mode": {
    "name": "ipython",
    "version": 3
   },
   "file_extension": ".py",
   "mimetype": "text/x-python",
   "name": "python",
   "nbconvert_exporter": "python",
   "pygments_lexer": "ipython3",
   "version": "3.7.9"
  }
 },
 "nbformat": 4,
 "nbformat_minor": 5
}
