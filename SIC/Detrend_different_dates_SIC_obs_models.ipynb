{
 "cells": [
  {
   "cell_type": "markdown",
   "id": "2bdea761-224c-41a5-94a1-b9ac6d246c13",
   "metadata": {},
   "source": [
    "# Detrend with different start and end dates to 1979-2020\n",
    "use the reduced datasets of 1979-2020 but only use 1979-2010 or 1989-2020\n"
   ]
  },
  {
   "cell_type": "code",
   "execution_count": 1,
   "id": "4bec3743-1f91-4490-be9d-774ae9cd88aa",
   "metadata": {},
   "outputs": [
    {
     "name": "stdout",
     "output_type": "stream",
     "text": [
      "00:22 UTC Fri 2022-04-15\n"
     ]
    }
   ],
   "source": [
    "import numpy as np\n",
    "import xarray as xr\n",
    "import datetime\n",
    "import scipy.signal as signal\n",
    "\n",
    "import matplotlib.pyplot as plt\n",
    "\n",
    "print(datetime.datetime.utcnow().strftime(\"%H:%M UTC %a %Y-%m-%d\"))"
   ]
  },
  {
   "cell_type": "code",
   "execution_count": 2,
   "id": "f2c7bfca-a3da-4b0c-9957-5bac764522c6",
   "metadata": {},
   "outputs": [],
   "source": [
    "data_path = '/glade/scratch/cwpowell/Synthetic_ensemble/'\n",
    "\n",
    "month_names = ['January', 'February', 'March', 'April', 'May', 'June', 'July', \n",
    "               'August', 'September', 'October', 'November', 'December']\n",
    "\n",
    "model_names  = ['CanESM2', 'CESM1', 'CSIRO_MK36', 'GFDL_CM3', 'GFDL_ESM2M', 'MPI_ESM1' ]\n",
    "mem_len      = [50,        40,      30,           20,         30,           100        ]\n",
    "model_starts = [1950,      1920,    1850,         1920,       1950,         1850       ]"
   ]
  },
  {
   "cell_type": "markdown",
   "id": "7dd4391e-eb43-4d18-8607-bd2d72e786b2",
   "metadata": {},
   "source": [
    "# Models\n",
    "**Start from reduced datasets made in https://github.com/chrisrwp/synthetic-ensemble/blob/main/SIC/Detrend_SIC_models.ipynb** <br>\n",
    "No need to run dask workers, takes ~6 minutes to run, requires ~10 GB RAM"
   ]
  },
  {
   "cell_type": "code",
   "execution_count": 5,
   "id": "510cd96a-e118-4c49-8517-0a8c16ad7722",
   "metadata": {},
   "outputs": [],
   "source": [
    "start_yr = 1979 #1979\n",
    "end_yr = 2010 #2010\n",
    "\n",
    "for model_i, model_name in enumerate(model_names):\n",
    "    print(datetime.datetime.now(), model_name)\n",
    "    \n",
    "    #define grid chatachteristics\n",
    "    if model_name in ['CESM1', 'MPI_ESM1']:\n",
    "        lat_lon = ['j', 'i']\n",
    "    elif  model_name == 'GFDL_CM3':\n",
    "        lat_lon = ['rlat', 'rlon']\n",
    "    else:\n",
    "        lat_lon = ['lat', 'lon']\n",
    "    \n",
    "    for month_ in np.arange(1,13):\n",
    "        print(datetime.datetime.now(), month_)\n",
    "        ##############################################################################################\n",
    "        #load the reduced datasets, each month for each model for 30N+ and 1979-2020\n",
    "        month_data_ = xr.open_dataarray('/glade/campaign/univ/ucub0084/Synthetic_ensemble/SIC/Reduced_datasets/'\\\n",
    "                                        +'{}_reduced_1979-2020_{}.nc'.format(model_name, str(month_).zfill(2)))\n",
    "        month_data_ = month_data_.sel(time=slice(str(start_yr),str(end_yr)))\n",
    "        \n",
    "        #change the time to whole numbers for ease of trend calculations\n",
    "        month_data = month_data_.copy()\n",
    "        month_data['time'] = np.arange(start_yr,end_yr+1)\n",
    "        \n",
    "        #GFDL ESM2M uses fraction not percentage for SIC, change to % for this model\n",
    "        if model_name == 'GFDL_ESM2M': month_data = month_data * 100\n",
    "        \n",
    "        ##############################################################################################            \n",
    "        #generate a matrix of year values for computing the trend with the trend coefficients\n",
    "        yrs_ind = np.empty((len(month_data['time']), len(month_data['member']), \n",
    "                            len(month_data[lat_lon[0]]), len(month_data[lat_lon[1]])))\n",
    "\n",
    "        for yr_i, yr in enumerate(np.arange(start_yr,end_yr+1)):\n",
    "            yrs_ind[yr_i] = np.ones((len(month_data['member']), len(month_data[lat_lon[0]]), \n",
    "                                     len(month_data[lat_lon[1]]))) * yr\n",
    "\n",
    "        yrs_ind = xr.DataArray(data = yrs_ind, coords = {'time':month_data['time'], 'member':month_data['member'], \n",
    "                               lat_lon[0]:month_data[lat_lon[0]], lat_lon[1]:month_data[lat_lon[1]]}, \n",
    "                               dims = ['time', 'member', lat_lon[0], lat_lon[1]])          \n",
    "        \n",
    "        #use ordinary linear detrending without adjustment to physical bounds\n",
    "        ind_coefs = month_data.polyfit(dim='time', deg=1, skipna=True)\n",
    "        ind_trend = yrs_ind * ind_coefs.sel(degree=1) + ind_coefs.sel(degree=0)\n",
    "\n",
    "        #use the month's data with modified time coordinates to compute the detrended data\n",
    "        detrended_ind = month_data - ind_trend\n",
    "        detrended_ind['time'] = month_data_['time'] #now calculations have taken place revert to the original time coordinates\n",
    "        detrended_ind = xr.Dataset({'SIC': detrended_ind['polyfit_coefficients']})\n",
    "        ##############################################################################################\n",
    "        #save to NetCDF \n",
    "        detrended_ind.attrs = {'Description': 'Detrended Arctic sea ice concentrations (SIC) the model {}. Years {}-{}, month of {}. '\\\n",
    "                               +'Detrended relative to the individual ensemble member linear trend.'.format(model_name, month_names[month_-1], start_yr, end_yr), \n",
    "                              'Units'      : '%',\n",
    "                              'Timestamp'  : str(datetime.datetime.utcnow().strftime(\"%H:%M UTC %a %Y-%m-%d\")),\n",
    "                              'Data source': 'CLIVAR Large Ensemble Archive, doi:10.1038/s41558-020-0731-2',\n",
    "                              'Analysis'   : 'https://github.com/chrisrwp/synthetic-ensemble/SIC/Detrend_different_dates_SIC_models.ipynb'}\n",
    "        \n",
    "        detrended_ind.to_netcdf('/glade/scratch/cwpowell/Synthetic_ensemble_revisions/SIC/Detrended/'\\\n",
    "                                +'{}_detrended_{}_individual_{}_{}.nc'.format(model_name, str(month_).zfill(2), start_yr, end_yr))  "
   ]
  },
  {
   "cell_type": "markdown",
   "id": "e14c464c-017c-43f7-a3f6-43140b7ad60c",
   "metadata": {},
   "source": [
    "# Observations"
   ]
  },
  {
   "cell_type": "code",
   "execution_count": 10,
   "id": "a9aa5af8-610d-468c-a9d4-f348f8ac6f97",
   "metadata": {},
   "outputs": [],
   "source": [
    "data_path = '/glade/campaign/univ/ucub0084/Synthetic_ensemble/'\n",
    "\n",
    "start_yr = 1979\n",
    "end_yr   = 2010\n",
    "\n",
    "for dataset_name in ['NSIDC_CDR', 'NSIDC_NT', 'NSIDC_BT', 'HadISST1']: \n",
    "    print(datetime.datetime.now(), dataset_name)\n",
    "    \n",
    "    if dataset_name == 'HadISST1':\n",
    "        data = xr.open_dataset(data_path+'Raw_data/observations/HadISST/HadISST1_NH_79-20_filled.nc')\n",
    "        lat_lon = ['latitude', 'longitude']\n",
    "        dataset_var = 'sic'\n",
    "        data_doi = 'doi:10.1029/2002JD002670'\n",
    "    else:\n",
    "        data = xr.open_dataset(data_path+'Raw_data/observations/NSIDC_CDR_v4/SIC_CDR_BT_NT_79-20_filled.nc')\n",
    "        lat_lon = ['ygrid', 'xgrid']\n",
    "        dataset_var = dataset_name.split('_')[1]\n",
    "        data_doi = 'doi:10.7265/efmz-2t65'\n",
    "            \n",
    "    ind_det = []\n",
    "    for month_ in np.arange(1,13):\n",
    "        \n",
    "        month_data = data[dataset_var].sel(time=data['time.month']==month_).sel(time=slice(str(start_yr), str(end_yr)))\n",
    "        orig_time = month_data['time']\n",
    "        \n",
    "        ##############################################################################################\n",
    "        #generate a matrix of year values for computing the trend with the trend coefficients\n",
    "        yrs_ind = np.empty((len(month_data['time']), len(month_data[lat_lon[0]]), len(month_data[lat_lon[1]])))\n",
    "\n",
    "        for yr_i, yr in enumerate(np.arange(start_yr,end_yr+1)):\n",
    "            yrs_ind[yr_i] = np.ones((len(month_data[lat_lon[0]]), len(month_data[lat_lon[1]]))) * yr\n",
    "\n",
    "        yrs_ind = xr.DataArray(data = yrs_ind, coords = {'time':month_data['time'], lat_lon[0]:month_data[lat_lon[0]], \n",
    "                               lat_lon[1]:month_data[lat_lon[1]]}, dims = ['time', lat_lon[0], lat_lon[1]])  \n",
    "\n",
    "        ##############################################################################################\n",
    "        #calculate the linear trend coefficients and the coresponding values each year for the individual trend\n",
    "        ind_coefs = month_data.polyfit(dim='time', deg=1, skipna=True)\n",
    "        ind_trend = yrs_ind * ind_coefs.sel(degree=1) + ind_coefs.sel(degree=0)\n",
    "\n",
    "        #now member data and the trends are in the same time coordinates, compute anomalies\n",
    "        detrended_ind = month_data - ind_trend\n",
    "        detrended_ind['time'] = orig_time #now calculations have taken place revert to the original time coordinates\n",
    "    \n",
    "        ind_det.append(detrended_ind)\n",
    "        \n",
    "    ind_det = xr.concat((ind_det),dim='time')\n",
    "    \n",
    "    ind_det.attrs = {'Description': 'Detrended Arctic sea ice concentrations (SIC) for the observational dataset {}. '\\\n",
    "        +'Years {}-{}, all months. Detrended relative to the linear trend of the each month'\\\n",
    "        +'.'.format(dataset_name, start_yr, end_yr), \n",
    "        'Units'      : '%',\n",
    "        'Timestamp'  : str(datetime.datetime.utcnow().strftime(\"%H:%M UTC %a %Y-%m-%d\")),\n",
    "        'Data source': data_doi,\n",
    "        'Analysis'   : 'https://github.com/chrisrwp/synthetic-ensemble/SIC/Detrend_different_dates_SIC_obs_models.ipynb',\n",
    "        }\n",
    "    \n",
    "    ind_det = ind_det.rename({'polyfit_coefficients':'SIC'})\n",
    "    ind_det.to_netcdf('/glade/scratch/cwpowell/Synthetic_ensemble_revisions/SIC/Detrended/'\\\n",
    "                      +'{}_detrended_individual_{}_{}.nc'.format(dataset_name, start_yr, end_yr))"
   ]
  }
 ],
 "metadata": {
  "kernelspec": {
   "display_name": "NPL-3.7.9",
   "language": "python",
   "name": "npl-3.7.9"
  },
  "language_info": {
   "codemirror_mode": {
    "name": "ipython",
    "version": 3
   },
   "file_extension": ".py",
   "mimetype": "text/x-python",
   "name": "python",
   "nbconvert_exporter": "python",
   "pygments_lexer": "ipython3",
   "version": "3.7.9"
  }
 },
 "nbformat": 4,
 "nbformat_minor": 5
}
